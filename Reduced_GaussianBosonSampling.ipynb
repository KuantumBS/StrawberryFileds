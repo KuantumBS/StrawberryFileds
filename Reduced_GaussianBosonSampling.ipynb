{
 "cells": [
  {
   "cell_type": "markdown",
   "metadata": {},
   "source": [
    "メモ\n",
    "\n",
    "Boson sampling の問題点\n",
    "- Boson Samplingは確かにParm関数を効率的に計算可能。\n",
    "- しかし、入力に光子数状態を使っている。例えば1光子状態を確率的に得る手法はこなれているが、決定論的に得るのはなかなか難しい。\n",
    "- 確率的に得るとして、例えば各入力ポートに1光子状態がほしければ、各発生源が偶然同じタイミングで光子を吐き出すのを待つ必要がある。\n",
    "- すると結局計算にかかる時間は指数関数的に増えて、古典に対する優位性なくない？\n",
    "\n",
    "Gaussian Boson sampling による改善\n",
    "- 入力は光子数状態でなく真空場で良い。代わりにスクイージングゲートを用意する。\n",
    "- スクイージングが決定論的に行えれば良い。\n",
    "- 全部Gaussian で処理できる(利点なのか...?)"
   ]
  },
  {
   "cell_type": "code",
   "execution_count": null,
   "metadata": {},
   "outputs": [],
   "source": [
    "import strawberryfields as sf\n",
    "from strawberryfields.ops import *\n",
    "from strawberryfields.utils import random_interferometer"
   ]
  },
  {
   "cell_type": "markdown",
   "metadata": {},
   "source": [
    "## Prepare Unitary Matrix"
   ]
  },
  {
   "cell_type": "code",
   "execution_count": 13,
   "metadata": {},
   "outputs": [],
   "source": [
    "U = np.array([\n",
    " [ 0.219546940711-0.256534554457j, 0.611076853957+0.524178937791j,\n",
    "    -0.102700187435+0.474478834685j,-0.027250232925+0.03729094623j],\n",
    " [ 0.451281863394+0.602582912475j, 0.456952590016+0.01230749109j,\n",
    "    0.131625867435-0.450417744715j, 0.035283194078-0.053244267184j],\n",
    " [ 0.038710094355+0.492715562066j,-0.019212744068-0.321842852355j,\n",
    "    -0.240776471286+0.524432833034j,-0.458388143039+0.329633367819j],\n",
    " [-0.156619083736+0.224568570065j, 0.109992223305-0.163750223027j,\n",
    "    -0.421179844245+0.183644837982j, 0.818769184612+0.068015658737j]\n",
    "])"
   ]
  },
  {
   "cell_type": "markdown",
   "metadata": {},
   "source": [
    "# Networking and Run"
   ]
  },
  {
   "cell_type": "code",
   "execution_count": 14,
   "metadata": {},
   "outputs": [
    {
     "name": "stdout",
     "output_type": "stream",
     "text": [
      "The network is following\n",
      "Run 0:\n",
      "Sgate(1, 0) | (q[0])\n",
      "Sgate(1, 0) | (q[1])\n",
      "Sgate(1, 0) | (q[2])\n",
      "Sgate(1, 0) | (q[3])\n",
      "Rgate(-3.124) | (q[0])\n",
      "BSgate(0.9465, 0) | (q[0], q[1])\n",
      "Rgate(2.724) | (q[2])\n",
      "BSgate(0.09485, 0) | (q[2], q[3])\n",
      "Rgate(-0.9705) | (q[1])\n",
      "BSgate(0.7263, 0) | (q[1], q[2])\n",
      "Rgate(-1.788) | (q[0])\n",
      "BSgate(0.8246, 0) | (q[0], q[1])\n",
      "Rgate(-0.9397) | (q[0])\n",
      "Rgate(2.93) | (q[1])\n",
      "Rgate(3.133) | (q[2])\n",
      "Rgate(0.07904) | (q[3])\n",
      "BSgate(-0.533, 0) | (q[2], q[3])\n",
      "Rgate(2.45) | (q[2])\n",
      "BSgate(-0.03962, 0) | (q[1], q[2])\n",
      "Rgate(2.508) | (q[1])\n"
     ]
    }
   ],
   "source": [
    "#U = random_interferometer(4)\n",
    "#print(U)\n",
    "\n",
    "eng, q = sf.Engine(4) # 4 qumodes\n",
    "\n",
    "with eng:\n",
    "    # prepare the input squeezed states\n",
    "    S = Sgate(1)\n",
    "    All(S) | q\n",
    "\n",
    "    # interferometer decompose unitary U to Rgate and BS\n",
    "    Interferometer(U) | q\n",
    "    \n",
    "state = eng.run('gaussian') # Fock state is not used!\n",
    "\n",
    "print(\"The network is following\")\n",
    "eng.print_applied()\n",
    "\n",
    "#B = (np.dot(U, U.T) * np.tanh(1)) # 4 x 4 matrics"
   ]
  },
  {
   "cell_type": "code",
   "execution_count": 15,
   "metadata": {},
   "outputs": [
    {
     "name": "stdout",
     "output_type": "stream",
     "text": [
      "|0000> 0.17637844761413454\n",
      "|1100> 0.0685595637122449\n",
      "|0101> 0.0020560972589722857\n",
      "|1111> 0.008342946399881914\n",
      "|2000> 0.010312945253440235\n"
     ]
    }
   ],
   "source": [
    "measure_states = [[0,0,0,0], [1,1,0,0], [0,1,0,1], [1,1,1,1], [2,0,0,0]]\n",
    "for i in measure_states:\n",
    "    prob = state.fock_prob(i)\n",
    "    print(\"|\"+str(i[0])+str(i[1])+str(i[2])+str(i[3])+\">\", prob)"
   ]
  },
  {
   "cell_type": "markdown",
   "metadata": {},
   "source": [
    "all_fock_probs() is not supported by Gaussian states!\n",
    "\n",
    "It's because computing the Fock probabilities of states in the Gaussian representation has exponential scaling - while this is fine for computing particular Fock basis probabilities, it becomes computationally demanding to return all Fock state probabilities using the Gaussian backend.\n",
    "\n",
    "Gaussian Stateを光子数基底へ射影する(=光子数状態の確率を求める)のは計算負荷が高い！"
   ]
  },
  {
   "cell_type": "markdown",
   "metadata": {},
   "source": [
    "# Classical, analytical solution"
   ]
  },
  {
   "cell_type": "code",
   "execution_count": 16,
   "metadata": {},
   "outputs": [],
   "source": [
    "from itertools import permutations\n",
    "from scipy.special import factorial\n",
    "\n",
    "def Haf(M):\n",
    "    n=len(M)\n",
    "    m=int(n/2)\n",
    "    haf=0.0\n",
    "    for i in permutations(range(n)):\n",
    "        prod=1.0\n",
    "        for j in range(m):\n",
    "            prod*=M[i[2*j],i[2*j+1]]\n",
    "        haf+=prod\n",
    "    return haf/(factorial(m)*(2**m))"
   ]
  },
  {
   "cell_type": "code",
   "execution_count": null,
   "metadata": {},
   "outputs": [],
   "source": []
  }
 ],
 "metadata": {
  "kernelspec": {
   "display_name": "Python 3",
   "language": "python",
   "name": "python3"
  },
  "language_info": {
   "codemirror_mode": {
    "name": "ipython",
    "version": 3
   },
   "file_extension": ".py",
   "mimetype": "text/x-python",
   "name": "python",
   "nbconvert_exporter": "python",
   "pygments_lexer": "ipython3",
   "version": "3.6.5"
  }
 },
 "nbformat": 4,
 "nbformat_minor": 2
}
