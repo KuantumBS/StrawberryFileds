{
 "cells": [
  {
   "cell_type": "code",
   "execution_count": 2,
   "metadata": {},
   "outputs": [],
   "source": [
    "import strawberryfields as sf\n",
    "from strawberryfields.ops import *\n",
    "from strawberryfields.utils import random_interferometer"
   ]
  },
  {
   "cell_type": "code",
   "execution_count": 3,
   "metadata": {},
   "outputs": [
    {
     "name": "stdout",
     "output_type": "stream",
     "text": [
      "[[-0.59727079+0.58715278j  0.2788149 +0.07715734j -0.14312371-0.0474915j\n",
      "   0.41366287+0.14481507j]\n",
      " [ 0.08393002+0.25281216j -0.50056081+0.59658039j -0.15807236-0.50824261j\n",
      "  -0.05827913-0.18941645j]\n",
      " [ 0.31857191-0.07231533j  0.17131206+0.41805714j  0.61953288+0.00937937j\n",
      "   0.51140323+0.20909475j]\n",
      " [-0.33978061+0.07343398j  0.10184342+0.30878477j  0.41211096+0.37445738j\n",
      "  -0.32635506-0.59739023j]]\n"
     ]
    }
   ],
   "source": [
    "U = random_interferometer(4)\n",
    "print(U)\n",
    "\n",
    "eng, q = sf.Engine(4) # 4 qumodes\n",
    "\n",
    "with eng:\n",
    "    # prepare the input squeezed states\n",
    "    S = Sgate(1)\n",
    "    All(S) | q\n",
    "\n",
    "    # interferometer\n",
    "    Interferometer(U) | q\n",
    "    \n",
    "state = eng.run('gaussian')\n",
    "# eng.print_applied()\n",
    "\n",
    "B = (np.dot(U, U.T) * np.tanh(1)) # 4 x 4 matrics"
   ]
  },
  {
   "cell_type": "code",
   "execution_count": 4,
   "metadata": {},
   "outputs": [
    {
     "data": {
      "text/plain": [
       "(4, 4)"
      ]
     },
     "execution_count": 4,
     "metadata": {},
     "output_type": "execute_result"
    }
   ],
   "source": [
    "B.shape"
   ]
  },
  {
   "cell_type": "code",
   "execution_count": null,
   "metadata": {},
   "outputs": [],
   "source": []
  }
 ],
 "metadata": {
  "kernelspec": {
   "display_name": "Python 3",
   "language": "python",
   "name": "python3"
  },
  "language_info": {
   "codemirror_mode": {
    "name": "ipython",
    "version": 3
   },
   "file_extension": ".py",
   "mimetype": "text/x-python",
   "name": "python",
   "nbconvert_exporter": "python",
   "pygments_lexer": "ipython3",
   "version": "3.6.5"
  }
 },
 "nbformat": 4,
 "nbformat_minor": 2
}
