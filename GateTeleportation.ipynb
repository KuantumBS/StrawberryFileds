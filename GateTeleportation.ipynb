{
 "cells": [
  {
   "cell_type": "markdown",
   "metadata": {},
   "source": [
    "- 量子状態をテレポートすると同時に操作することも可能\n",
    "- ユニタリ変換の代わりに、特定の基底への射影測定を行う\n",
    "- ユニタリ変換よりはるかに実装が簡単\n",
    "- クラスタ量子計算の要素技術"
   ]
  },
  {
   "cell_type": "markdown",
   "metadata": {},
   "source": [
    "Stephen D. Bartlett and William J. Munro. Quantum teleportation of optical quantum gates. Physical Review Letters, 90:117901, Mar 2003\n",
    "- Linear Optics Quantum Computationは非決定論的な非線形ゲートをテレポートさせることで誤り耐性量子計算を行う\n",
    "- しかし、それには非現実的な性能のフォトディテクタが必要\n",
    "- 難しいのは主にベル状態の測定\n",
    "- Continuous VariableQuantum Teleportationはホモダイン測定でOK\n",
    "- かつ、LOQCであったような条件は無い\n",
    "- CVQCで転送されるゲートでユニバーサル量子計算が可能と証明\n",
    "- qubitでもqumodeでも計算可"
   ]
  },
  {
   "cell_type": "code",
   "execution_count": null,
   "metadata": {},
   "outputs": [],
   "source": []
  }
 ],
 "metadata": {
  "kernelspec": {
   "display_name": "Python 3",
   "language": "python",
   "name": "python3"
  },
  "language_info": {
   "codemirror_mode": {
    "name": "ipython",
    "version": 3
   },
   "file_extension": ".py",
   "mimetype": "text/x-python",
   "name": "python",
   "nbconvert_exporter": "python",
   "pygments_lexer": "ipython3",
   "version": "3.6.5"
  }
 },
 "nbformat": 4,
 "nbformat_minor": 2
}
