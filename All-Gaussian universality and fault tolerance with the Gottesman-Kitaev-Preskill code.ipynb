{
 "cells": [
  {
   "cell_type": "markdown",
   "metadata": {},
   "source": [
    "# All-Gaussian universality and fault tolerance with the Gottesman-Kitaev-Preskill code"
   ]
  },
  {
   "cell_type": "markdown",
   "metadata": {},
   "source": [
    "### Abstraction"
   ]
  },
  {
   "cell_type": "markdown",
   "metadata": {},
   "source": [
    "GKP エンコードはボゾンによる誤り耐性量子計算を可能にする。   \n",
    "エンコードされたパウリ固有状態へのガウス操作は誤り耐性を持ったクリフォード計算を可能にするため。  \n",
    "入力ガウス状態に対するGKP誤り訂正は蒸留可能な魔法状態を生成し、非ガウスelementsなしで万能性を実現できる。  \n",
    "誤り耐性は十分スクイーズレベルが高い、外部ノイズが小さい条件で実現可能。  \n",
    "よって、GKPエンコードされたパウリ固有状態があればガウス操作のみで誤り耐性を持ったユニバーサル量子計算が可能。"
   ]
  },
  {
   "cell_type": "markdown",
   "metadata": {},
   "source": [
    "Threshold Theorem  \n",
    "D. Aharonov and M. Ben-Or, Fault-tolerant quantum computation with constant error (ACM, 1997)."
   ]
  },
  {
   "cell_type": "markdown",
   "metadata": {},
   "source": [
    "Clifford quantum computing  \n",
    "- Pauli固有状態\n",
    "- Clliford変換\n",
    "- Pauli測定\n",
    "\n",
    "量子エラー訂正に必要な全ての要素を備える  \n",
    "しかし、古典コンピュータで効率的にシミュレート可能  \n",
    "= Non clliford resorceが必要  \n",
    "例)非Pauli固有状態 : magic state\n",
    "これを用意できれば、ユニバーサルな量子計算が可能"
   ]
  },
  {
   "cell_type": "markdown",
   "metadata": {},
   "source": [
    "CV system なら Gaussian quantum computingと等価  \n",
    "- Gauss状態\n",
    "- Gauss変換\n",
    "- ホモダイン測定\n",
    "\n",
    "CV system 例\n",
    "- 光\n",
    "- マイクロ波共振器\n",
    "- トラップイオンの振動モード\n",
    "\n",
    "Gaussian quantum computingは特に光に適している\n",
    "- 非線形性の要求が限定的かつ低次\n",
    "- ホモダイン測定が非常に効率的に可能"
   ]
  },
  {
   "cell_type": "markdown",
   "metadata": {},
   "source": [
    "誤り耐性は離散量子情報を要求する  \n",
    "Bosonic quantum-error-correcting codes  \n",
    ":離散量子情報をCV系に埋め込む  \n",
    "どうやって？  \n",
    "一般のCVノイズをエンコードされたqubitに対する実行的なノイズとしてマッピングする\n",
    "- P. T. Cochrane, G. J. Milburn, and W. J. Munro, Phys. Rev. A 59, 2631 (1999).\n",
    "- D. Gottesman, A. Kitaev, and J. Preskill, Phys. Rev. A 64, 012310 (2001).\n",
    "- V. V. Albert et al., Phys. Rev. A 97, 032346 (2018).\n",
    "- A. L. Grimsmo, J. Combes, and B. Q. Baragiola, arXiv:1901.08071 (2019).\n",
    "\n",
    "これらの符号は誤り耐性計算が保証されている。  \n",
    "無限次元ヒルベルト空間によって与えられる冗長性によって。  \n",
    "\n",
    "高精度の光共振器制御と振動モードがこれに役立つ\n",
    "- N. Ofek et al., Nature 536, 441 (2016).\n",
    "- L. Hu et al., arXiv:1805.09072v1 (2018).\n",
    "- C. Fl¨uhmann, T. L. Nguyen, M. Marinelli, V. Negnevit- sky, K. Mehta, and J. P. Home, arXiv:1807.01033v1 (2018).\n",
    "\n",
    "bosonic codeを使って、logical Clifford QCを定義する  \n",
    "含むもの\n",
    "- エンコードされたPauli固有状態\n",
    "- logical Clifford opeartion\n",
    "エンコードされたqubitレベルでエラー訂正が可能  \n",
    "logical non Clifford element がほしい"
   ]
  },
  {
   "cell_type": "markdown",
   "metadata": {},
   "source": [
    "Main result  \n",
    "(特定のbosonic codeを使った)logical Clifford QCにおける魔法状態がGaussian QCで見つかる。  \n",
    "...GKP encoding for a qubit into an oscillator  \n",
    "(D. Gottesman, A. Kitaev, and J. Preskill, Phys. Rev. A 64, 012310 (2001).)\n",
    "\n",
    "logical Clifford QC と CV-level error correction が、Gaussian QC と logical-Pauli固有状態(非ガウシアン)の供給によって実装されるような 唯一のbosonic code\n",
    "\n",
    "これまではGKP logical-Clifford QCは非ガウスゲート(cubic phase gate)かlogiacl magic stateの準備によってユニバーサル量子コンピュータとなり得た  \n",
    "これらはlogical-Pauli固有状態を超える非ガウス過程を求めていた\n"
   ]
  },
  {
   "cell_type": "markdown",
   "metadata": {},
   "source": [
    "この論文で示すこと  \n",
    "- thermal stateへのGKPエラー訂正を用いて蒸留可能なGKP魔法状態を生成する方法\n",
    "- 上質な魔法状態の生成に成功する確率"
   ]
  },
  {
   "cell_type": "code",
   "execution_count": null,
   "metadata": {},
   "outputs": [],
   "source": []
  }
 ],
 "metadata": {
  "kernelspec": {
   "display_name": "Python 3",
   "language": "python",
   "name": "python3"
  },
  "language_info": {
   "codemirror_mode": {
    "name": "ipython",
    "version": 3
   },
   "file_extension": ".py",
   "mimetype": "text/x-python",
   "name": "python",
   "nbconvert_exporter": "python",
   "pygments_lexer": "ipython3",
   "version": "3.6.5"
  }
 },
 "nbformat": 4,
 "nbformat_minor": 2
}
