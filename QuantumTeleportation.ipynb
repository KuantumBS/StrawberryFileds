{
 "cells": [
  {
   "cell_type": "markdown",
   "metadata": {},
   "source": [
    "<script>\n",
    "  jQuery(document).ready(function($) {\n",
    "\n",
    "  $(window).load(function(){\n",
    "    $('#preloader').fadeOut('slow',function(){$(this).remove();});\n",
    "  });\n",
    "\n",
    "  });\n",
    "</script>\n",
    "\n",
    "<style type=\"text/css\">\n",
    "  div#preloader { position: fixed;\n",
    "      left: 0;\n",
    "      top: 0;\n",
    "      z-index: 999;\n",
    "      width: 100%;\n",
    "      height: 100%;\n",
    "      overflow: visible;\n",
    "      background: #fff url('http://preloaders.net/preloaders/720/Moving%20line.gif') no-repeat center center;\n",
    "  }\n",
    "\n",
    "</style>\n",
    "\n",
    "<div id=\"preloader\"></div>"
   ]
  },
  {
   "cell_type": "markdown",
   "metadata": {},
   "source": [
    "<table width=60% >\n",
    "    <tr style=\"background-color: white;\">\n",
    "        <td><img src='https://www.creativedestructionlab.com/wp-content/uploads/2018/05/xanadu.jpg'></td>\n",
    "<!--         <td><img src='https://www.creativedestructionlab.com/wp-content/uploads/2016/10/creative-destruction-lab.png' ></td> -->\n",
    "    </tr>\n",
    "</table>\n",
    "\n",
    "---\n",
    "\n",
    "<img src='https://raw.githubusercontent.com/XanaduAI/strawberryfields/master/doc/_static/strawberry-fields-text.png'>\n",
    "\n",
    "---\n",
    "\n",
    "<br>\n",
    "\n",
    "<center> <h1> Quantum teleportation </h1></center>\n",
    "\n",
    "<div class=\"alert alert-info\">\n",
    "“A trick that quantum magicians use to produce phenomena that cannot be imitated by classical magicians.” - A. Peres\n",
    "</div>\n",
    "\n",
    "To get a feel for how Strawberry Fields works, let's walk through an example of quantum teleportation.\n"
   ]
  },
  {
   "cell_type": "markdown",
   "metadata": {},
   "source": [
    "## Background info\n",
    "Quantum teleportation is the reliable transfer of an unknown quantum state across spatially separated qubits or qumodes, through the use of a classical transmission channel and quantum entanglement. Considered a fundamental quantum information protocol, it has applications ranging from quantum communication to enabling distributed information processing in quantum computation.\n",
    "\n",
    "In general, all quantum teleportation circuits work on the same basic principle. Two distant observers, Alice and Bob, share a maximally entangled quantum state (in discrete variables, any one of the four Bell states; or in CV, a maximally entangled state for a fixed energy), and have access to a classical communication channel. Alice, in possession of an unknown state which she wishes to transport to Bob, makes a joint measurement of the unknown state and her half of the entangled state, by projecting onto the Bell basis. By transmitting the results of her measurement to Bob, Bob is then able to transform his half of the entangled state to an accurate replica of the original unknown state, by performing a conditional phase flip (for qubits) or displacement (for qumodes)."
   ]
  },
  {
   "cell_type": "markdown",
   "metadata": {},
   "source": [
    "## The teleportation circuit\n",
    "\n",
    "<img src='https://strawberryfields.readthedocs.io/en/stable/_images/teleport.svg' width=90%>"
   ]
  },
  {
   "cell_type": "markdown",
   "metadata": {},
   "source": [
    "$$\\newcommand{ket}[1]{\\left|#1\\right\\rangle}$$\n",
    "\n",
    "* Here, qumodes $q_1$ and $q_2$ are initially prepared as highly squeezed vacuum states in momentum and position space respectively. We do this by highly squeezing these two qumodes in the phase space:\n",
    "\n",
    "\\begin{align}\n",
    "&\\ket{0}_x \\approx S(2)\\ket{0}\\\\\n",
    "&\\ket{0}_p \\approx S(-2) \\ket{0}\n",
    "\\end{align}\n",
    "\n",
    "\n",
    "* They are then maximally entangled by a 50-50 beamsplitter. This is a beamsplitter with parameters $\\theta=\\pi/4$, $\\phi=0$.\n",
    "\n",
    "\n",
    "\n",
    "* These two qumodes are now spatially separated, with $\\ket{q_1}$ held by Alice, and $\\ket{q_2}$ held by Bob, with the two connected via the classical communication channels $c_0$ and $c_1$.\n",
    "\n",
    "\n",
    "* To teleport her unknown state $\\ket{\\psi}$ to Bob, Alice now performs a projective measurement of her entire system onto the maximally entangled basis states. This is done by entangling $\\ket{\\psi}$ and $\\ket{q_1}$ via another 50-50 beamsplitter, before performing two homodyne measurements, in the $x$ and $p$ quadratures respectively. The two resulting measurements are referred to as $m_1$ and $m_2$.\n",
    "\n",
    "\n",
    "* The results of these measurements are then transmitted to Bob, who performs both a position displacement (conditional on the $x$ measurement) using a $X$ gate, and a momentum displacement (conditional on the $p$ measurement) using a $Z$ gate, to recover exactly the transmitted state $\\ket{\\psi}$. In particular, Bob has to make the following displacements:\n",
    "\n",
    "\\begin{align}\n",
    "Z\\left(-\\sqrt{2}m_2\\right)X\\left(\\sqrt{2}m_1\\right)\\ket{q_2}\n",
    "\\end{align}"
   ]
  },
  {
   "cell_type": "markdown",
   "metadata": {},
   "source": [
    "## Importing Strawberry Fields"
   ]
  },
  {
   "cell_type": "markdown",
   "metadata": {},
   "source": [
    "We import the Strawberry Fields, as well as all quantum operations, using the following commands:"
   ]
  },
  {
   "cell_type": "code",
   "execution_count": 1,
   "metadata": {},
   "outputs": [
    {
     "name": "stderr",
     "output_type": "stream",
     "text": [
      "/Users/ryunagai/.pyenv/versions/3.6.5/envs/main_env/lib/python3.6/site-packages/h5py/__init__.py:36: FutureWarning: Conversion of the second argument of issubdtype from `float` to `np.floating` is deprecated. In future, it will be treated as `np.float64 == np.dtype(float).type`.\n",
      "  from ._conv import register_converters as _register_converters\n"
     ]
    }
   ],
   "source": [
    "import strawberryfields as sf\n",
    "from strawberryfields.ops import *"
   ]
  },
  {
   "cell_type": "markdown",
   "metadata": {},
   "source": [
    "The first import statement imports Strawberry Fields as sf, allowing us to access the engine and backends. The second import statement imports all available CV gates into the global namespace.\n",
    "\n",
    "In addition, we will also need some utilities from the `utils` subpackage, a module containing Strawberry Fields utilities and extensions. Finally, we import $\\pi$ and the square root from NumPy so that we can pass angle parameters to gates such as beamsplitters, and perform some custom classical processing."
   ]
  },
  {
   "cell_type": "code",
   "execution_count": 2,
   "metadata": {},
   "outputs": [],
   "source": [
    "from strawberryfields.utils import scale\n",
    "from numpy import pi, sqrt"
   ]
  },
  {
   "cell_type": "markdown",
   "metadata": {},
   "source": [
    "\n",
    "<div class=\"alert alert-success\" style=\"border: 0px; border-left: 3px solid #119a68; color: black; background-color: #daf0e9\">\n",
    "<p style=\"color: #119a68;\">**Available CV gates**</p>\n",
    "\n",
    "Check out our <a href=\"https://strawberryfields.readthedocs.io/en/stable/op_conventions.html\">documentation</a> to see the available CV gates, states, measurements, and other operations available in Strawberry Fields.\n",
    "</div>\n"
   ]
  },
  {
   "cell_type": "markdown",
   "metadata": {},
   "source": [
    "## Engine initialization\n",
    "\n",
    "We can now initialise our chosen backend, engine, and quantum register, using the \n",
    "`sf.Engine()` function, which has the following syntax:\n",
    "\n",
    "    eng, q = sf.Engine(num_subsystems)\n",
    "\n",
    "where\n",
    "\n",
    "* `num_subsystems` (*int*) is the number of modes we want to initialise in our quantum register\n",
    "\n",
    "returning\n",
    "\n",
    "* `eng` is the resulting engine; we use this engine object to manipulate our engine/circuit.\n",
    "* `q` (*tuple*) contains the **qumodes** in our quantum circuit. They are accessed by indexing; for example `q[0]` for the first qumode, `q[1]` for the second qumode, etc.\n",
    "\n",
    "<div class=\"alert alert-info\" style=\"border: 0px; border-left: 3px solid #31708f; color: black; background-color: #d9edf7\">\n",
    "<p style=\"color: #31708f;\">**Exercise**</p>\n",
    "\n",
    "Initialise an engine below, using the correct number of modes for quantum teleportation as per the circuit above.\n",
    "\n",
    "</div>"
   ]
  },
  {
   "cell_type": "code",
   "execution_count": 133,
   "metadata": {},
   "outputs": [],
   "source": [
    "eng, q = sf.Engine(3)"
   ]
  },
  {
   "cell_type": "markdown",
   "metadata": {},
   "source": [
    "## Circuit construction\n",
    "\n",
    "Now that we have created the engine and qumodes, we can start to construct our circuit. In Strawberry Fields, circuit construction *always* occurs within a `with eng:` context. Inside this context, operations are applied using the syntax\n",
    "\n",
    "```python3\n",
    "with eng:\n",
    "    Operation(arguments) | (sequence of qumodes)\n",
    "```\n",
    "\n",
    "For example, to apply prepare a squeezed state, followed by a beamsplitter, we can write\n",
    "\n",
    "```python3\n",
    "with eng:\n",
    "    Squeezed(0.5) | q[0]\n",
    "    BSgate(pi/4, 0) | (q[0], q[1])\n",
    "```\n",
    "\n",
    "Some operations in Strawberry Fields apply to one mode, and some apply to two. Be sure to check the documentation to double check the operation arguments, and to see how many qumodes they act on.\n",
    "\n",
    "<div class=\"alert alert-info\" style=\"border: 0px; border-left: 3px solid #31708f; color: black; background-color: #d9edf7\">\n",
    "<p style=\"color: #31708f;\">**Exercise**</p>\n",
    "\n",
    "The cell below corresponding to the teleportation circuit is partially complete. Using the above, and referring to the docs, fill in the cell below to finish constructing the teleportation circuit.\n",
    "</div>\n",
    "\n"
   ]
  },
  {
   "cell_type": "code",
   "execution_count": 155,
   "metadata": {},
   "outputs": [],
   "source": [
    "@sf.convert\n",
    "def custom(x):\n",
    "    return -x*sqrt(2)\n",
    "\n",
    "with eng:\n",
    "    # prepare the initial states\n",
    "    Coherent(1+0.5j) | q[0]  # This is the state we will teleport\n",
    "    Sgate(-2) | q[1] # momentum squeezed\n",
    "    Sgate(2) | q[2] # position squeezed\n",
    "    \n",
    "    # apply the gates\n",
    "    BSgate(pi/4, 0) | (q[1], q[2])  # a 50-50 beamsplitter\n",
    "    BSgate(pi/4, 0) | (q[0], q[1])  # a 50-50 beamsplitter\n",
    "    \n",
    "    # perform the homodyne measurements\n",
    "    MeasureX | q[0]\n",
    "    MeasureP | q[1]    \n",
    "    \n",
    "    # displacement gates conditioned on the measurements\n",
    "    Xgate(scale(q[0], sqrt(2))) | q[2]\n",
    "    Zgate(scale(q[1], sqrt(2))) | q[2]\n",
    "    #Zgate(custom(q[1])) | q[2]"
   ]
  },
  {
   "cell_type": "markdown",
   "metadata": {},
   "source": [
    "A couple of things to note:\n",
    "\n",
    "* **Operations must be applied in temporal order.** Different operation orderings can result in the same quantum circuit, providing the operations do not apply sequentially to the same mode.\n",
    "\n",
    "\n",
    "* **Gates are standard Python objects, and can be treated as such.** In this case, since both beamsplitters use the same parameters, a single instance can be created and stored under variable BS.\n",
    "\n",
    "\n",
    "* **The results of measured modes are passed to gates simply by passing the measured mode as an argument.** In order to perform additional classical processing to the measured mode, we can use the basic classical processing functions available in `strawberryfields.utils`; here we used the `scale()` function.\n"
   ]
  },
  {
   "cell_type": "markdown",
   "metadata": {},
   "source": [
    "## Running the engine\n",
    "\n",
    "Once the circuit is constructed, you can run the engine via the `eng.run()` method:\n",
    "\n",
    "```python3\n",
    "    state = eng.run(backend, return_state=True, modes=None, *args, **kwargs)\n",
    "```\n",
    "\n",
    "The eng.run method accepts the arguments\n",
    "\n",
    "* `backend`: a string representing the Strawberry Fields backend we wish to use; we have the choice of two Fock basis backends, the NumPy based (`'fock'`) and Tensorflow (`'tf'`), and one Gaussian representation backend (`'gaussian'`).\n",
    "\n",
    "    This is required the first time running the engine, but optional for subsequent runs - if not provided, the previously used backend will continue to be used.\n",
    "\n",
    "and returns\n",
    "\n",
    "* `state`: an object representing the quantum state after the circuit simulation.\n",
    "\n",
    "    Depending on backend used, the state returned might be a BaseFockState, which represents the state using the Fock/number basis, or might be a BaseGaussianState, which represents the state using Gaussian representation, as a vector of means and a covariance matrix. Many methods are provided for state manipulation, see Quantum states API for more details.\n",
    "\n",
    "For more details on the technical differences between the backends, see the [Backend API](https://strawberryfields.readthedocs.io/en/stable/code/backend.html) in the documentation.\n",
    "\n",
    "### How do we choose a backend?\n",
    "\n",
    "\n",
    "* **Fock backends** are backends which represent the quantum state and operations via the Fock basis. <br>These can represent all possible continuous-variable states and operations, but also introduce numerical error due to truncation of the Fock space, and can consume more memory.\n",
    "\n",
    "\n",
    "* The **gaussian backend**, due to its ability to represent states and operations as gaussian objects/transforms in the phase space, can be less computationally intensive then the Fock backends. <br>However, it cannot represent non-gaussian operations and states (such as the cubic phase gate, fock measurements, and fock states, amongst others).</li>\n",
    "\n",
    "In the Fock backends, due to the infinite Hilbert space, we must specify a **cutoff dimension**. For example, choosing `cutoff_dim=5`, a state $|\\psi\\rangle$ has approximation\n",
    "\n",
    "$$|{\\psi}\\rangle = \\sum_{n=0}^\\infty c_n|{n}\\rangle \\approx\\sum_{n=0}^{5-1} c_n|{n}\\rangle$$\n",
    "\n",
    "in our truncated Fock basis - i.e. all information of quantum amplitudes of Fock states $|n\\rangle$, with $n\\geq 5$, is discarded.\n",
    "\n",
    "<div class=\"alert\" style=\"border: 0px; border-left: 3px solid #F0AD4E; color: black; background-color: #FFF1E3\">\n",
    "<p style=\"color: #9B5831;\">**Warning**</p>\n",
    "To avoid significant numerical error when working with the Fock backend, we generally need to ensure that all initial states and gates we apply result in negligible amplitude in the Fock basis for Fock states $|{n}\\rangle, ~~n\\geq \\texttt{cutoff_dim}$.\n",
    "<br><br>\n",
    "\n",
    "For example, to prepare a squeezed vacuum state in the $x$ quadrature with `cutoff_dim=10`, a squeezing factor of $r=1$ provides an acceptable approximation, since $\\left|\\left\\langle{n}\\middle|{\\xi}\\right\\rangle\\right|^2<0.02$ for $n\\geq 10$.\n",
    "</div>\n",
    "\n",
    "<div class=\"alert alert-success\" style=\"border: 0px; border-left: 3px solid #119a68; color: black; background-color: #daf0e9\">\n",
    "<p style=\"color: #119a68;\">**Scaling**</p>\n",
    "As we are performing a classical simualation of a quantum system, we still need to consider how the simulation scales. Using the Fock backends, memory usage and computational time will scale like $\\sim D^N$, where $N$ is the number of modes and $D$ the cutoff dimension.\n",
    "<br><br>\n",
    "Ideally, we would like to choose a cutoff large enough that minimises truncation error, but small enough to reduce classical computational resources!\n",
    "</div>\n",
    "\n",
    "\n",
    "<div class=\"alert alert-info\" style=\"border: 0px; border-left: 3px solid #31708f; color: black; background-color: #d9edf7\">\n",
    "<p style=\"color: #31708f;\">**Exercise**</p>\n",
    "\n",
    "Run the engine using the Gaussian or the Fock backend.\n",
    "\n",
    "</div>"
   ]
  },
  {
   "cell_type": "code",
   "execution_count": 156,
   "metadata": {},
   "outputs": [],
   "source": [
    "state = eng.run('fock', cutoff_dim=15)\n",
    "#state = eng.run('gaussian')"
   ]
  },
  {
   "cell_type": "markdown",
   "metadata": {},
   "source": [
    "## Results and visualization\n",
    "Once the engine has been run, we can extract results of measurements and the quantum state from the circuit. Any measurements performed on a mode are stored in the mode attribute `val`:"
   ]
  },
  {
   "cell_type": "code",
   "execution_count": 157,
   "metadata": {},
   "outputs": [
    {
     "data": {
      "text/plain": [
       "0.10610106101061056"
      ]
     },
     "execution_count": 157,
     "metadata": {},
     "output_type": "execute_result"
    }
   ],
   "source": [
    "q[0].val # position"
   ]
  },
  {
   "cell_type": "code",
   "execution_count": 158,
   "metadata": {},
   "outputs": [
    {
     "data": {
      "text/plain": [
       "3.008530085300853"
      ]
     },
     "execution_count": 158,
     "metadata": {},
     "output_type": "execute_result"
    }
   ],
   "source": [
    "q[1].val # momentum"
   ]
  },
  {
   "cell_type": "code",
   "execution_count": 159,
   "metadata": {},
   "outputs": [
    {
     "name": "stdout",
     "output_type": "stream",
     "text": [
      "None\n"
     ]
    }
   ],
   "source": [
    "print(q[2].val) # Not measured yet"
   ]
  },
  {
   "cell_type": "markdown",
   "metadata": {},
   "source": [
    "The returned `state` object stores the resulting state of the circuit after the engine run, and also contains some convenient functions for state manipulation.\n",
    "\n",
    "<div class=\"alert alert-info\" style=\"border: 0px; border-left: 3px solid #31708f; color: black; background-color: #d9edf7\">\n",
    "<p style=\"color: #31708f;\">**Exercise**</p>\n",
    "\n",
    "Print the state object below to see some info about the state.\n",
    "\n",
    "</div>"
   ]
  },
  {
   "cell_type": "code",
   "execution_count": 160,
   "metadata": {},
   "outputs": [
    {
     "name": "stdout",
     "output_type": "stream",
     "text": [
      "<FockState: num_modes=3, cutoff=15, pure=False, hbar=2>\n"
     ]
    }
   ],
   "source": [
    "print(state)"
   ]
  },
  {
   "cell_type": "markdown",
   "metadata": {},
   "source": [
    "The actual state representation can also be returned; in the Fock backends, the state vector in the truncated Fock basis is available via `state.ket()`, while the density matrix is given by `state.dm()`. In the Gaussian backend, the vector of means and covariance matrix are accessible via `state.means()` and `state.cov()` respectively."
   ]
  },
  {
   "cell_type": "markdown",
   "metadata": {},
   "source": [
    "### Fock backend example\n",
    "To return the density matrix representing the Fock state, we can use the method state.dm(). In this case, the density matrix has dimension"
   ]
  },
  {
   "cell_type": "code",
   "execution_count": 161,
   "metadata": {},
   "outputs": [
    {
     "data": {
      "text/plain": [
       "(15, 15, 15, 15, 15, 15)"
      ]
     },
     "execution_count": 161,
     "metadata": {},
     "output_type": "execute_result"
    }
   ],
   "source": [
    "state.dm().shape"
   ]
  },
  {
   "cell_type": "markdown",
   "metadata": {},
   "source": [
    "Here, we use the convention that every pair of consecutive dimensions corresponds to a subsystem; i.e.,\n",
    "\n",
    "$$\\rho_{\\underbrace{ij}_{q[0]}\\underbrace{kl}_{q[1]}\\underbrace{mn}_{q[2]}}$$\n",
    "\n",
    "Thus we can calculate the reduced density matrix for mode `q[2]`, $\\rho_2$:"
   ]
  },
  {
   "cell_type": "code",
   "execution_count": 162,
   "metadata": {},
   "outputs": [
    {
     "data": {
      "text/plain": [
       "(15, 15)"
      ]
     },
     "execution_count": 162,
     "metadata": {},
     "output_type": "execute_result"
    }
   ],
   "source": [
    "import numpy as np\n",
    "rho2 = np.einsum('kkllij->ij', state.dm())\n",
    "rho2.shape"
   ]
  },
  {
   "cell_type": "markdown",
   "metadata": {},
   "source": [
    "<div class=\"alert alert-success\" style=\"border: 0px; border-left: 3px solid #119a68; color: black; background-color: #daf0e9\">\n",
    "<p style=\"color: #119a68;\">**Note**</p>\n",
    "The Fock state also provides the method `reduced_dm()` for extracting the reduced density matrix automatically.\n",
    "</div>"
   ]
  },
  {
   "cell_type": "code",
   "execution_count": 163,
   "metadata": {},
   "outputs": [
    {
     "data": {
      "text/plain": [
       "array([[ 2.04164248e-01-6.76542156e-17j,  2.08621485e-01-9.32642848e-02j,\n",
       "         1.09487048e-01-2.06186446e-01j,  4.43021554e-04-1.62171773e-01j,\n",
       "        -5.87567322e-02-1.26658439e-01j, -4.80905136e-02-2.84026830e-02j,\n",
       "        -4.26254764e-02-2.44789995e-02j, -7.37185129e-03+1.60516005e-02j,\n",
       "        -9.95422247e-03-1.09749363e-02j,  3.76942742e-03+1.25627291e-02j,\n",
       "        -1.14115174e-03-1.23230860e-02j, -7.45104376e-04+9.06087451e-03j,\n",
       "         2.84486410e-03-8.19111133e-03j, -2.90268463e-03+6.74128082e-03j,\n",
       "         8.04977423e-03-4.66153004e-03j],\n",
       "       [ 2.08621485e-01+9.32642848e-02j,  2.55780095e-01-1.04083409e-17j,\n",
       "         2.06065374e-01-1.60673045e-01j,  7.45343928e-02-1.65509869e-01j,\n",
       "        -2.18063635e-03-1.56264265e-01j, -3.61657759e-02-5.09909906e-02j,\n",
       "        -3.23738062e-02-4.44851628e-02j, -1.48653236e-02+1.30344971e-02j,\n",
       "        -5.15807785e-03-1.57617261e-02j, -1.88706105e-03+1.45589063e-02j,\n",
       "         4.46324487e-03-1.31134086e-02j, -4.90046995e-03+8.91831692e-03j,\n",
       "         6.64875426e-03-7.07037401e-03j, -6.04553993e-03+5.56247835e-03j,\n",
       "         1.03549477e-02-1.08608085e-03j],\n",
       "       [ 1.09487048e-01+2.06186446e-01j,  2.06065374e-01+1.60673045e-01j,\n",
       "         2.66943233e-01+4.85722573e-17j,  1.64015625e-01-8.65203576e-02j,\n",
       "         9.64035205e-02-1.27261755e-01j,  2.89453167e-03-6.37983299e-02j,\n",
       "         1.86271754e-03-5.61750112e-02j, -2.01638864e-02+1.16311521e-03j,\n",
       "         5.74549507e-03-1.59383397e-02j, -1.06657312e-02+1.05437705e-02j,\n",
       "         1.18331784e-02-7.76094909e-03j, -9.55019704e-03+4.10658571e-03j,\n",
       "         9.79785605e-03-1.51960095e-03j, -8.36467270e-03+6.83707909e-04j,\n",
       "         9.02454937e-03+5.62966920e-03j],\n",
       "       [ 4.43021554e-04+1.62171773e-01j,  7.45343928e-02+1.65509869e-01j,\n",
       "         1.64015625e-01+8.65203576e-02j,  1.28817266e-01-1.04083409e-17j,\n",
       "         1.00479851e-01-4.69464951e-02j,  2.24564701e-02-3.82608950e-02j,\n",
       "         1.93516680e-02-3.39113918e-02j, -1.27661059e-02-5.82077911e-03j,\n",
       "         8.69601296e-03-7.93065415e-03j, -9.97064929e-03+3.02139230e-03j,\n",
       "         9.78599911e-03-9.33180002e-04j, -7.19885189e-03-5.72189971e-04j,\n",
       "         6.51253781e-03+2.24195872e-03j, -5.36103371e-03-2.29103276e-03j,\n",
       "         3.72021459e-03+6.38398258e-03j],\n",
       "       [-5.87567322e-02+1.26658439e-01j, -2.18063635e-03+1.56264265e-01j,\n",
       "         9.64035205e-02+1.27261755e-01j,  1.00479851e-01+4.69464951e-02j,\n",
       "         9.54854435e-02-7.37257477e-18j,  3.14603609e-02-2.16601123e-02j,\n",
       "         2.74534138e-02-1.93989414e-02j, -7.83645907e-03-9.19282778e-03j,\n",
       "         9.67331894e-03-3.01685967e-03j, -8.87841487e-03-1.27698713e-03j,\n",
       "         7.97335086e-03+2.83853697e-03j, -5.40670727e-03-3.06988682e-03j,\n",
       "         4.26283478e-03+4.12221527e-03j, -3.34675561e-03-3.74083683e-03j,\n",
       "         5.75241211e-04+6.33542907e-03j],\n",
       "       [-4.80905136e-02+2.84026830e-02j, -3.61657759e-02+5.09909906e-02j,\n",
       "         2.89453167e-03+6.37983299e-02j,  2.24564701e-02+3.82608950e-02j,\n",
       "         3.14603609e-02+2.16601123e-02j,  1.52789234e-02+1.69135539e-17j,\n",
       "         1.34457935e-02-1.63937780e-04j, -4.96621750e-04-4.80647360e-03j,\n",
       "         3.87149717e-03+1.20032621e-03j, -2.63556875e-03-2.43473697e-03j,\n",
       "         1.98314485e-03+2.74392686e-03j, -1.08501217e-03-2.23792891e-03j,\n",
       "         4.69418930e-04+2.32516970e-03j, -2.54103586e-04-1.99170860e-03j,\n",
       "        -1.24761225e-03+2.21787391e-03j],\n",
       "       [-4.26254764e-02+2.44789995e-02j, -3.23738062e-02+4.44851628e-02j,\n",
       "         1.86271754e-03+5.61750112e-02j,  1.93516680e-02+3.39113918e-02j,\n",
       "         2.74534138e-02+1.93989414e-02j,  1.34457935e-02+1.63937780e-04j,\n",
       "         1.18343573e-02+0.00000000e+00j, -3.85466354e-04-4.23513260e-03j,\n",
       "         3.39412479e-03+1.09785373e-03j, -2.29323539e-03-2.17090164e-03j,\n",
       "         1.71577030e-03+2.43599535e-03j, -9.30822688e-04-1.98106919e-03j,\n",
       "         3.88150833e-04+2.05123793e-03j, -2.02246453e-04-1.75547446e-03j,\n",
       "        -1.12172367e-03+1.93839207e-03j],\n",
       "       [-7.37185129e-03-1.60516005e-02j, -1.48653236e-02-1.30344971e-02j,\n",
       "        -2.01638864e-02-1.16311521e-03j, -1.27661059e-02+5.82077911e-03j,\n",
       "        -7.83645907e-03+9.19282778e-03j, -4.96621750e-04+4.80647360e-03j,\n",
       "        -3.85466354e-04+4.23513260e-03j,  1.52817192e-03-1.56125113e-17j,\n",
       "        -5.03439004e-04+1.17888809e-03j,  8.51590090e-04-7.49964381e-04j,\n",
       "        -9.27649450e-04+5.34673775e-04j,  7.39278978e-04-2.68584251e-04j,\n",
       "        -7.46714292e-04+7.20940751e-05j,  6.34814898e-04-1.51984770e-05j,\n",
       "        -6.57151082e-04-4.64565441e-04j],\n",
       "       [-9.95422247e-03+1.09749363e-02j, -5.15807785e-03+1.57617261e-02j,\n",
       "         5.74549507e-03+1.59383397e-02j,  8.69601296e-03+7.93065415e-03j,\n",
       "         9.67331894e-03+3.01685967e-03j,  3.87149717e-03-1.20032621e-03j,\n",
       "         3.39412479e-03-1.09785373e-03j, -5.03439004e-04-1.17888809e-03j,\n",
       "         1.07528999e-03-1.08420217e-17j, -8.59096892e-04-4.09880649e-04j,\n",
       "         7.18070689e-04+5.39480702e-04j, -4.50742904e-04-4.81824976e-04j,\n",
       "         3.01612626e-04+5.52292323e-04j, -2.20857273e-04-4.84712623e-04j,\n",
       "        -1.41891877e-04+6.59996390e-04j],\n",
       "       [ 3.76942742e-03-1.25627291e-02j, -1.88706105e-03-1.45589063e-02j,\n",
       "        -1.06657312e-02-1.05437705e-02j, -9.97064929e-03-3.02139230e-03j,\n",
       "        -8.87841487e-03+1.27698713e-03j, -2.63556875e-03+2.43473697e-03j,\n",
       "        -2.29323539e-03+2.17090164e-03j,  8.51590090e-04+7.49964381e-04j,\n",
       "        -8.59096892e-04+4.09880649e-04j,  8.42609551e-04+1.25767452e-17j,\n",
       "        -7.79338601e-04-1.57299813e-04j,  5.43781275e-04+2.13136500e-04j,\n",
       "        -4.51495327e-04-3.26281694e-04j,  3.61216160e-04+3.03071718e-04j,\n",
       "        -1.38214695e-04-5.81386963e-04j],\n",
       "       [-1.14115174e-03+1.23230860e-02j,  4.46324487e-03+1.31134086e-02j,\n",
       "         1.18331784e-02+7.76094909e-03j,  9.78599911e-03+9.33180002e-04j,\n",
       "         7.97335086e-03-2.83853697e-03j,  1.98314485e-03-2.74392686e-03j,\n",
       "         1.71577030e-03-2.43599535e-03j, -9.27649450e-04-5.34673775e-04j,\n",
       "         7.18070689e-04-5.39480702e-04j, -7.79338601e-04+1.57299813e-04j,\n",
       "         7.50183624e-04+1.43114687e-17j, -5.42737818e-04-9.56182005e-05j,\n",
       "         4.78503698e-04+2.17495503e-04j, -3.90670651e-04-2.12881820e-04j,\n",
       "         2.36370580e-04+5.11928872e-04j],\n",
       "       [-7.45104376e-04-9.06087451e-03j, -4.90046995e-03-8.91831692e-03j,\n",
       "        -9.55019704e-03-4.10658571e-03j, -7.19885189e-03+5.72189971e-04j,\n",
       "        -5.40670727e-03+3.06988682e-03j, -1.08501217e-03+2.23792891e-03j,\n",
       "        -9.30822688e-04+1.98106919e-03j,  7.39278978e-04+2.68584251e-04j,\n",
       "        -4.50742904e-04+4.81824976e-04j,  5.43781275e-04-2.13136500e-04j,\n",
       "        -5.42737818e-04+9.56182005e-05j,  4.04843788e-04-1.73472348e-18j,\n",
       "        -3.73906565e-04-9.63622373e-05j,  3.09773642e-04+1.04219537e-04j,\n",
       "        -2.36258117e-04-3.40239138e-04j],\n",
       "       [ 2.84486410e-03+8.19111133e-03j,  6.64875426e-03+7.07037401e-03j,\n",
       "         9.79785605e-03+1.51960095e-03j,  6.51253781e-03-2.24195872e-03j,\n",
       "         4.26283478e-03-4.12221527e-03j,  4.69418930e-04-2.32516970e-03j,\n",
       "         3.88150833e-04-2.05123793e-03j, -7.46714292e-04-7.20940751e-05j,\n",
       "         3.01612626e-04-5.52292323e-04j, -4.51495327e-04+3.26281694e-04j,\n",
       "         4.78503698e-04-2.17495503e-04j, -3.73906565e-04+9.63622373e-05j,\n",
       "         3.68269946e-04+2.60208521e-18j, -3.10908133e-04-2.25219902e-05j,\n",
       "         2.99188648e-04+2.58003926e-04j],\n",
       "       [-2.90268463e-03-6.74128082e-03j, -6.04553993e-03-5.56247835e-03j,\n",
       "        -8.36467270e-03-6.83707909e-04j, -5.36103371e-03+2.29103276e-03j,\n",
       "        -3.34675561e-03+3.74083683e-03j, -2.54103586e-04+1.99170860e-03j,\n",
       "        -2.02246453e-04+1.75547446e-03j,  6.34814898e-04+1.51984770e-05j,\n",
       "        -2.20857273e-04+4.84712623e-04j,  3.61216160e-04-3.03071718e-04j,\n",
       "        -3.90670651e-04+2.12881820e-04j,  3.09773642e-04-1.04219537e-04j,\n",
       "        -3.10908133e-04+2.25219902e-05j,  2.63858368e-04+1.56125113e-17j,\n",
       "        -2.68365493e-04-1.99519933e-04j],\n",
       "       [ 8.04977423e-03+4.66153004e-03j,  1.03549477e-02+1.08608085e-03j,\n",
       "         9.02454937e-03-5.62966920e-03j,  3.72021459e-03-6.38398258e-03j,\n",
       "         5.75241211e-04-6.33542907e-03j, -1.24761225e-03-2.21787391e-03j,\n",
       "        -1.12172367e-03-1.93839207e-03j, -6.57151082e-04+4.64565441e-04j,\n",
       "        -1.41891877e-04-6.59996390e-04j, -1.38214695e-04+5.81386963e-04j,\n",
       "         2.36370580e-04-5.11928872e-04j, -2.36258117e-04+3.40239138e-04j,\n",
       "         2.99188648e-04-2.58003926e-04j, -2.68365493e-04+1.99519933e-04j,\n",
       "         4.23819196e-04-5.14996032e-19j]])"
      ]
     },
     "execution_count": 163,
     "metadata": {},
     "output_type": "execute_result"
    }
   ],
   "source": [
    "state.reduced_dm([2])"
   ]
  },
  {
   "cell_type": "markdown",
   "metadata": {},
   "source": [
    "The diagonal values of the reduced density matrix contain the marginal Fock state probabilities $\\left|\\left\\langle{i}\\mid{\\rho_2}\\right\\rangle\\right|^2,~~ 0\\leq i< cutoff$:"
   ]
  },
  {
   "cell_type": "code",
   "execution_count": 164,
   "metadata": {},
   "outputs": [
    {
     "data": {
      "text/plain": [
       "array([2.04164248e-01, 2.55780095e-01, 2.66943233e-01, 1.28817266e-01,\n",
       "       9.54854435e-02, 1.52789234e-02, 1.18343573e-02, 1.52817192e-03,\n",
       "       1.07528999e-03, 8.42609551e-04, 7.50183624e-04, 4.04843788e-04,\n",
       "       3.68269946e-04, 2.63858368e-04, 4.23819196e-04])"
      ]
     },
     "execution_count": 164,
     "metadata": {},
     "output_type": "execute_result"
    }
   ],
   "source": [
    "    np.real_if_close(np.diag(state.reduced_dm([2])))"
   ]
  },
  {
   "cell_type": "markdown",
   "metadata": {},
   "source": [
    "This can also be returned via the state method `all_fock_probs`."
   ]
  },
  {
   "cell_type": "code",
   "execution_count": 165,
   "metadata": {},
   "outputs": [
    {
     "data": {
      "text/plain": [
       "array([2.04164248e-01, 2.55780095e-01, 2.66943233e-01, 1.28817266e-01,\n",
       "       9.54854435e-02, 1.52789234e-02, 1.18343573e-02, 1.52817192e-03,\n",
       "       1.07528999e-03, 8.42609551e-04, 7.50183624e-04, 4.04843788e-04,\n",
       "       3.68269946e-04, 2.63858368e-04, 4.23819196e-04])"
      ]
     },
     "execution_count": 165,
     "metadata": {},
     "output_type": "execute_result"
    }
   ],
   "source": [
    "fock_probs = state.all_fock_probs()\n",
    "np.sum(fock_probs, axis=(0,1))"
   ]
  },
  {
   "cell_type": "markdown",
   "metadata": {},
   "source": [
    "### Plotting the Wigner function"
   ]
  },
  {
   "cell_type": "markdown",
   "metadata": {},
   "source": [
    "<div class=\"alert alert-info\" style=\"border: 0px; border-left: 3px solid #31708f; color: black; background-color: #d9edf7\">\n",
    "<p style=\"color: #31708f;\">**Exercise**</p>\n",
    "\n",
    "Using the `state.wigner` function, plot the wigner function of the input state and the resulting teleported state.\n",
    "\n",
    "</div>"
   ]
  },
  {
   "cell_type": "code",
   "execution_count": 166,
   "metadata": {},
   "outputs": [],
   "source": [
    "import matplotlib.pyplot as plt"
   ]
  },
  {
   "cell_type": "code",
   "execution_count": 167,
   "metadata": {},
   "outputs": [],
   "source": [
    "x = np.arange(-5, 5, 0.1)\n",
    "p = np.arange(-5, 5, 0.1)"
   ]
  },
  {
   "cell_type": "code",
   "execution_count": 168,
   "metadata": {},
   "outputs": [],
   "source": [
    "W = state.wigner(2, x, p)"
   ]
  },
  {
   "cell_type": "code",
   "execution_count": 169,
   "metadata": {},
   "outputs": [
    {
     "data": {
      "text/plain": [
       "(100, 100)"
      ]
     },
     "execution_count": 169,
     "metadata": {},
     "output_type": "execute_result"
    }
   ],
   "source": [
    "W.shape"
   ]
  },
  {
   "cell_type": "code",
   "execution_count": 170,
   "metadata": {},
   "outputs": [
    {
     "data": {
      "text/plain": [
       "<matplotlib.contour.QuadContourSet at 0x11b9d41d0>"
      ]
     },
     "execution_count": 170,
     "metadata": {},
     "output_type": "execute_result"
    },
    {
     "data": {
      "image/png": "[encoded data removed]",
      "text/plain": [
       "<Figure size 432x288 with 1 Axes>"
      ]
     },
     "metadata": {},
     "output_type": "display_data"
    }
   ],
   "source": [
    "X, P = np.meshgrid(x, p)\n",
    "plt.contourf(X, P, W)"
   ]
  },
  {
   "cell_type": "code",
   "execution_count": null,
   "metadata": {},
   "outputs": [],
   "source": []
  },
  {
   "cell_type": "markdown",
   "metadata": {},
   "source": [
    "<div class=\"alert alert-info\" style=\"border: 0px; border-left: 3px solid #31708f; color: black; background-color: #d9edf7\">\n",
    "<p style=\"color: #31708f;\">**Exercise**</p>\n",
    "\n",
    "Repeat this notebook, but using the `'gaussian'` backend instead. How does the teleportation fidelity compare to the fock backend?\n",
    "\n",
    "</div>"
   ]
  },
  {
   "cell_type": "code",
   "execution_count": null,
   "metadata": {},
   "outputs": [],
   "source": []
  }
 ],
 "metadata": {
  "kernelspec": {
   "display_name": "Python 3",
   "language": "python",
   "name": "python3"
  },
  "language_info": {
   "codemirror_mode": {
    "name": "ipython",
    "version": 3
   },
   "file_extension": ".py",
   "mimetype": "text/x-python",
   "name": "python",
   "nbconvert_exporter": "python",
   "pygments_lexer": "ipython3",
   "version": "3.6.5"
  },
  "toc": {
   "nav_menu": {},
   "number_sections": true,
   "sideBar": true,
   "skip_h1_title": false,
   "toc_cell": false,
   "toc_position": {},
   "toc_section_display": "block",
   "toc_window_display": false
  }
 },
 "nbformat": 4,
 "nbformat_minor": 2
}
