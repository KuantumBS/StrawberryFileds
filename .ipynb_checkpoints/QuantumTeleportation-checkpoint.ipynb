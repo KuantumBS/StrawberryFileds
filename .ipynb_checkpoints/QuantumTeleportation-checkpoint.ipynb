{
 "cells": [
  {
   "cell_type": "markdown",
   "metadata": {},
   "source": [
    "<script>\n",
    "  jQuery(document).ready(function($) {\n",
    "\n",
    "  $(window).load(function(){\n",
    "    $('#preloader').fadeOut('slow',function(){$(this).remove();});\n",
    "  });\n",
    "\n",
    "  });\n",
    "</script>\n",
    "\n",
    "<style type=\"text/css\">\n",
    "  div#preloader { position: fixed;\n",
    "      left: 0;\n",
    "      top: 0;\n",
    "      z-index: 999;\n",
    "      width: 100%;\n",
    "      height: 100%;\n",
    "      overflow: visible;\n",
    "      background: #fff url('http://preloaders.net/preloaders/720/Moving%20line.gif') no-repeat center center;\n",
    "  }\n",
    "\n",
    "</style>\n",
    "\n",
    "<div id=\"preloader\"></div>"
   ]
  },
  {
   "cell_type": "markdown",
   "metadata": {},
   "source": [
    "<table width=60% >\n",
    "    <tr style=\"background-color: white;\">\n",
    "        <td><img src='https://www.creativedestructionlab.com/wp-content/uploads/2018/05/xanadu.jpg'></td>\n",
    "<!--         <td><img src='https://www.creativedestructionlab.com/wp-content/uploads/2016/10/creative-destruction-lab.png' ></td> -->\n",
    "    </tr>\n",
    "</table>\n",
    "\n",
    "---\n",
    "\n",
    "<img src='https://raw.githubusercontent.com/XanaduAI/strawberryfields/master/doc/_static/strawberry-fields-text.png'>\n",
    "\n",
    "---\n",
    "\n",
    "<br>\n",
    "\n",
    "<center> <h1> Quantum teleportation </h1></center>\n",
    "\n",
    "<div class=\"alert alert-info\">\n",
    "“A trick that quantum magicians use to produce phenomena that cannot be imitated by classical magicians.” - A. Peres\n",
    "</div>\n",
    "\n",
    "To get a feel for how Strawberry Fields works, let's walk through an example of quantum teleportation.\n"
   ]
  },
  {
   "cell_type": "markdown",
   "metadata": {},
   "source": [
    "## Background info\n",
    "Quantum teleportation is the reliable transfer of an unknown quantum state across spatially separated qubits or qumodes, through the use of a classical transmission channel and quantum entanglement. Considered a fundamental quantum information protocol, it has applications ranging from quantum communication to enabling distributed information processing in quantum computation.\n",
    "\n",
    "In general, all quantum teleportation circuits work on the same basic principle. Two distant observers, Alice and Bob, share a maximally entangled quantum state (in discrete variables, any one of the four Bell states; or in CV, a maximally entangled state for a fixed energy), and have access to a classical communication channel. Alice, in possession of an unknown state which she wishes to transport to Bob, makes a joint measurement of the unknown state and her half of the entangled state, by projecting onto the Bell basis. By transmitting the results of her measurement to Bob, Bob is then able to transform his half of the entangled state to an accurate replica of the original unknown state, by performing a conditional phase flip (for qubits) or displacement (for qumodes)."
   ]
  },
  {
   "cell_type": "markdown",
   "metadata": {},
   "source": [
    "## The teleportation circuit\n",
    "\n",
    "<img src='https://strawberryfields.readthedocs.io/en/stable/_images/teleport.svg' width=90%>"
   ]
  },
  {
   "cell_type": "markdown",
   "metadata": {},
   "source": [
    "$$\\newcommand{ket}[1]{\\left|#1\\right\\rangle}$$\n",
    "\n",
    "* Here, qumodes $q_1$ and $q_2$ are initially prepared as highly squeezed vacuum states in momentum and position space respectively. We do this by highly squeezing these two qumodes in the phase space:\n",
    "\n",
    "\\begin{align}\n",
    "&\\ket{0}_x \\approx S(2)\\ket{0}\\\\\n",
    "&\\ket{0}_p \\approx S(-2) \\ket{0}\n",
    "\\end{align}\n",
    "\n",
    "\n",
    "* They are then maximally entangled by a 50-50 beamsplitter. This is a beamsplitter with parameters $\\theta=\\pi/4$, $\\phi=0$.\n",
    "\n",
    "\n",
    "\n",
    "* These two qumodes are now spatially separated, with $\\ket{q_1}$ held by Alice, and $\\ket{q_2}$ held by Bob, with the two connected via the classical communication channels $c_0$ and $c_1$.\n",
    "\n",
    "\n",
    "* To teleport her unknown state $\\ket{\\psi}$ to Bob, Alice now performs a projective measurement of her entire system onto the maximally entangled basis states. This is done by entangling $\\ket{\\psi}$ and $\\ket{q_1}$ via another 50-50 beamsplitter, before performing two homodyne measurements, in the $x$ and $p$ quadratures respectively. The two resulting measurements are referred to as $m_1$ and $m_2$.\n",
    "\n",
    "\n",
    "* The results of these measurements are then transmitted to Bob, who performs both a position displacement (conditional on the $x$ measurement) using a $X$ gate, and a momentum displacement (conditional on the $p$ measurement) using a $Z$ gate, to recover exactly the transmitted state $\\ket{\\psi}$. In particular, Bob has to make the following displacements:\n",
    "\n",
    "\\begin{align}\n",
    "Z\\left(-\\sqrt{2}m_2\\right)X\\left(\\sqrt{2}m_1\\right)\\ket{q_2}\n",
    "\\end{align}"
   ]
  },
  {
   "cell_type": "markdown",
   "metadata": {},
   "source": [
    "## Importing Strawberry Fields"
   ]
  },
  {
   "cell_type": "markdown",
   "metadata": {},
   "source": [
    "We import the Strawberry Fields, as well as all quantum operations, using the following commands:"
   ]
  },
  {
   "cell_type": "code",
   "execution_count": 1,
   "metadata": {},
   "outputs": [
    {
     "name": "stderr",
     "output_type": "stream",
     "text": [
      "/Users/ryunagai/.pyenv/versions/3.6.5/envs/main_env/lib/python3.6/site-packages/h5py/__init__.py:36: FutureWarning: Conversion of the second argument of issubdtype from `float` to `np.floating` is deprecated. In future, it will be treated as `np.float64 == np.dtype(float).type`.\n",
      "  from ._conv import register_converters as _register_converters\n"
     ]
    }
   ],
   "source": [
    "import strawberryfields as sf\n",
    "from strawberryfields.ops import *"
   ]
  },
  {
   "cell_type": "markdown",
   "metadata": {},
   "source": [
    "The first import statement imports Strawberry Fields as sf, allowing us to access the engine and backends. The second import statement imports all available CV gates into the global namespace.\n",
    "\n",
    "In addition, we will also need some utilities from the `utils` subpackage, a module containing Strawberry Fields utilities and extensions. Finally, we import $\\pi$ and the square root from NumPy so that we can pass angle parameters to gates such as beamsplitters, and perform some custom classical processing."
   ]
  },
  {
   "cell_type": "code",
   "execution_count": 2,
   "metadata": {},
   "outputs": [],
   "source": [
    "from strawberryfields.utils import scale\n",
    "from numpy import pi, sqrt"
   ]
  },
  {
   "cell_type": "markdown",
   "metadata": {},
   "source": [
    "\n",
    "<div class=\"alert alert-success\" style=\"border: 0px; border-left: 3px solid #119a68; color: black; background-color: #daf0e9\">\n",
    "<p style=\"color: #119a68;\">**Available CV gates**</p>\n",
    "\n",
    "Check out our <a href=\"https://strawberryfields.readthedocs.io/en/stable/op_conventions.html\">documentation</a> to see the available CV gates, states, measurements, and other operations available in Strawberry Fields.\n",
    "</div>\n"
   ]
  },
  {
   "cell_type": "markdown",
   "metadata": {},
   "source": [
    "## Engine initialization\n",
    "\n",
    "We can now initialise our chosen backend, engine, and quantum register, using the \n",
    "`sf.Engine()` function, which has the following syntax:\n",
    "\n",
    "    eng, q = sf.Engine(num_subsystems)\n",
    "\n",
    "where\n",
    "\n",
    "* `num_subsystems` (*int*) is the number of modes we want to initialise in our quantum register\n",
    "\n",
    "returning\n",
    "\n",
    "* `eng` is the resulting engine; we use this engine object to manipulate our engine/circuit.\n",
    "* `q` (*tuple*) contains the **qumodes** in our quantum circuit. They are accessed by indexing; for example `q[0]` for the first qumode, `q[1]` for the second qumode, etc.\n",
    "\n",
    "<div class=\"alert alert-info\" style=\"border: 0px; border-left: 3px solid #31708f; color: black; background-color: #d9edf7\">\n",
    "<p style=\"color: #31708f;\">**Exercise**</p>\n",
    "\n",
    "Initialise an engine below, using the correct number of modes for quantum teleportation as per the circuit above.\n",
    "\n",
    "</div>"
   ]
  },
  {
   "cell_type": "code",
   "execution_count": 133,
   "metadata": {},
   "outputs": [],
   "source": [
    "eng, q = sf.Engine(3)"
   ]
  },
  {
   "cell_type": "markdown",
   "metadata": {},
   "source": [
    "## Circuit construction\n",
    "\n",
    "Now that we have created the engine and qumodes, we can start to construct our circuit. In Strawberry Fields, circuit construction *always* occurs within a `with eng:` context. Inside this context, operations are applied using the syntax\n",
    "\n",
    "```python3\n",
    "with eng:\n",
    "    Operation(arguments) | (sequence of qumodes)\n",
    "```\n",
    "\n",
    "For example, to apply prepare a squeezed state, followed by a beamsplitter, we can write\n",
    "\n",
    "```python3\n",
    "with eng:\n",
    "    Squeezed(0.5) | q[0]\n",
    "    BSgate(pi/4, 0) | (q[0], q[1])\n",
    "```\n",
    "\n",
    "Some operations in Strawberry Fields apply to one mode, and some apply to two. Be sure to check the documentation to double check the operation arguments, and to see how many qumodes they act on.\n",
    "\n",
    "<div class=\"alert alert-info\" style=\"border: 0px; border-left: 3px solid #31708f; color: black; background-color: #d9edf7\">\n",
    "<p style=\"color: #31708f;\">**Exercise**</p>\n",
    "\n",
    "The cell below corresponding to the teleportation circuit is partially complete. Using the above, and referring to the docs, fill in the cell below to finish constructing the teleportation circuit.\n",
    "</div>\n",
    "\n"
   ]
  },
  {
   "cell_type": "code",
   "execution_count": 134,
   "metadata": {},
   "outputs": [],
   "source": [
    "@sf.convert\n",
    "def custom(x):\n",
    "    return -x*sqrt(2)\n",
    "\n",
    "with eng:\n",
    "    # prepare the initial states\n",
    "    Coherent(1+0.5j) | q[0]  # This is the state we will teleport\n",
    "    Sgate(-2) | q[1] # momentum squeezed\n",
    "    Sgate(2) | q[2] # position squeezed\n",
    "    \n",
    "    # apply the gates\n",
    "    BSgate(pi/4, 0) | (q[1], q[2])  # a 50-50 beamsplitter\n",
    "    BSgate(pi/4, 0) | (q[0], q[1])  # a 50-50 beamsplitter\n",
    "    \n",
    "    # perform the homodyne measurements\n",
    "    MeasureX | q[0]\n",
    "    MeasureP | q[1]    \n",
    "    \n",
    "    # displacement gates conditioned on the measurements\n",
    "    Xgate(scale(q[0], sqrt(2))) | q[2]\n",
    "    Zgate(scale(q[1], sqrt(2))) | q[2]\n",
    "    #Zgate(custom(q[1])) | q[2]"
   ]
  },
  {
   "cell_type": "markdown",
   "metadata": {},
   "source": [
    "A couple of things to note:\n",
    "\n",
    "* **Operations must be applied in temporal order.** Different operation orderings can result in the same quantum circuit, providing the operations do not apply sequentially to the same mode.\n",
    "\n",
    "\n",
    "* **Gates are standard Python objects, and can be treated as such.** In this case, since both beamsplitters use the same parameters, a single instance can be created and stored under variable BS.\n",
    "\n",
    "\n",
    "* **The results of measured modes are passed to gates simply by passing the measured mode as an argument.** In order to perform additional classical processing to the measured mode, we can use the basic classical processing functions available in `strawberryfields.utils`; here we used the `scale()` function.\n"
   ]
  },
  {
   "cell_type": "markdown",
   "metadata": {},
   "source": [
    "## Running the engine\n",
    "\n",
    "Once the circuit is constructed, you can run the engine via the `eng.run()` method:\n",
    "\n",
    "```python3\n",
    "    state = eng.run(backend, return_state=True, modes=None, *args, **kwargs)\n",
    "```\n",
    "\n",
    "The eng.run method accepts the arguments\n",
    "\n",
    "* `backend`: a string representing the Strawberry Fields backend we wish to use; we have the choice of two Fock basis backends, the NumPy based (`'fock'`) and Tensorflow (`'tf'`), and one Gaussian representation backend (`'gaussian'`).\n",
    "\n",
    "    This is required the first time running the engine, but optional for subsequent runs - if not provided, the previously used backend will continue to be used.\n",
    "\n",
    "and returns\n",
    "\n",
    "* `state`: an object representing the quantum state after the circuit simulation.\n",
    "\n",
    "    Depending on backend used, the state returned might be a BaseFockState, which represents the state using the Fock/number basis, or might be a BaseGaussianState, which represents the state using Gaussian representation, as a vector of means and a covariance matrix. Many methods are provided for state manipulation, see Quantum states API for more details.\n",
    "\n",
    "For more details on the technical differences between the backends, see the [Backend API](https://strawberryfields.readthedocs.io/en/stable/code/backend.html) in the documentation.\n",
    "\n",
    "### How do we choose a backend?\n",
    "\n",
    "\n",
    "* **Fock backends** are backends which represent the quantum state and operations via the Fock basis. <br>These can represent all possible continuous-variable states and operations, but also introduce numerical error due to truncation of the Fock space, and can consume more memory.\n",
    "\n",
    "\n",
    "* The **gaussian backend**, due to its ability to represent states and operations as gaussian objects/transforms in the phase space, can be less computationally intensive then the Fock backends. <br>However, it cannot represent non-gaussian operations and states (such as the cubic phase gate, fock measurements, and fock states, amongst others).</li>\n",
    "\n",
    "In the Fock backends, due to the infinite Hilbert space, we must specify a **cutoff dimension**. For example, choosing `cutoff_dim=5`, a state $|\\psi\\rangle$ has approximation\n",
    "\n",
    "$$|{\\psi}\\rangle = \\sum_{n=0}^\\infty c_n|{n}\\rangle \\approx\\sum_{n=0}^{5-1} c_n|{n}\\rangle$$\n",
    "\n",
    "in our truncated Fock basis - i.e. all information of quantum amplitudes of Fock states $|n\\rangle$, with $n\\geq 5$, is discarded.\n",
    "\n",
    "<div class=\"alert\" style=\"border: 0px; border-left: 3px solid #F0AD4E; color: black; background-color: #FFF1E3\">\n",
    "<p style=\"color: #9B5831;\">**Warning**</p>\n",
    "To avoid significant numerical error when working with the Fock backend, we generally need to ensure that all initial states and gates we apply result in negligible amplitude in the Fock basis for Fock states $|{n}\\rangle, ~~n\\geq \\texttt{cutoff_dim}$.\n",
    "<br><br>\n",
    "\n",
    "For example, to prepare a squeezed vacuum state in the $x$ quadrature with `cutoff_dim=10`, a squeezing factor of $r=1$ provides an acceptable approximation, since $\\left|\\left\\langle{n}\\middle|{\\xi}\\right\\rangle\\right|^2<0.02$ for $n\\geq 10$.\n",
    "</div>\n",
    "\n",
    "<div class=\"alert alert-success\" style=\"border: 0px; border-left: 3px solid #119a68; color: black; background-color: #daf0e9\">\n",
    "<p style=\"color: #119a68;\">**Scaling**</p>\n",
    "As we are performing a classical simualation of a quantum system, we still need to consider how the simulation scales. Using the Fock backends, memory usage and computational time will scale like $\\sim D^N$, where $N$ is the number of modes and $D$ the cutoff dimension.\n",
    "<br><br>\n",
    "Ideally, we would like to choose a cutoff large enough that minimises truncation error, but small enough to reduce classical computational resources!\n",
    "</div>\n",
    "\n",
    "\n",
    "<div class=\"alert alert-info\" style=\"border: 0px; border-left: 3px solid #31708f; color: black; background-color: #d9edf7\">\n",
    "<p style=\"color: #31708f;\">**Exercise**</p>\n",
    "\n",
    "Run the engine using the Gaussian or the Fock backend.\n",
    "\n",
    "</div>"
   ]
  },
  {
   "cell_type": "code",
   "execution_count": 135,
   "metadata": {},
   "outputs": [],
   "source": [
    "state = eng.run('fock', cutoff_dim=15)\n",
    "#state = eng.run('gaussian')"
   ]
  },
  {
   "cell_type": "markdown",
   "metadata": {},
   "source": [
    "## Results and visualization\n",
    "Once the engine has been run, we can extract results of measurements and the quantum state from the circuit. Any measurements performed on a mode are stored in the mode attribute `val`:"
   ]
  },
  {
   "cell_type": "code",
   "execution_count": 136,
   "metadata": {},
   "outputs": [
    {
     "data": {
      "text/plain": [
       "2.1841218412184134"
      ]
     },
     "execution_count": 136,
     "metadata": {},
     "output_type": "execute_result"
    }
   ],
   "source": [
    "q[0].val # position"
   ]
  },
  {
   "cell_type": "code",
   "execution_count": 137,
   "metadata": {},
   "outputs": [
    {
     "data": {
      "text/plain": [
       "-1.5179151791517906"
      ]
     },
     "execution_count": 137,
     "metadata": {},
     "output_type": "execute_result"
    }
   ],
   "source": [
    "q[1].val # momentum"
   ]
  },
  {
   "cell_type": "code",
   "execution_count": 152,
   "metadata": {},
   "outputs": [
    {
     "name": "stdout",
     "output_type": "stream",
     "text": [
      "None\n"
     ]
    }
   ],
   "source": [
    "print(q[2].val) # Not measured yet"
   ]
  },
  {
   "cell_type": "markdown",
   "metadata": {},
   "source": [
    "The returned `state` object stores the resulting state of the circuit after the engine run, and also contains some convenient functions for state manipulation.\n",
    "\n",
    "<div class=\"alert alert-info\" style=\"border: 0px; border-left: 3px solid #31708f; color: black; background-color: #d9edf7\">\n",
    "<p style=\"color: #31708f;\">**Exercise**</p>\n",
    "\n",
    "Print the state object below to see some info about the state.\n",
    "\n",
    "</div>"
   ]
  },
  {
   "cell_type": "code",
   "execution_count": 138,
   "metadata": {},
   "outputs": [
    {
     "name": "stdout",
     "output_type": "stream",
     "text": [
      "<FockState: num_modes=3, cutoff=15, pure=False, hbar=2>\n"
     ]
    }
   ],
   "source": [
    "print(state)"
   ]
  },
  {
   "cell_type": "markdown",
   "metadata": {},
   "source": [
    "The actual state representation can also be returned; in the Fock backends, the state vector in the truncated Fock basis is available via `state.ket()`, while the density matrix is given by `state.dm()`. In the Gaussian backend, the vector of means and covariance matrix are accessible via `state.means()` and `state.cov()` respectively."
   ]
  },
  {
   "cell_type": "markdown",
   "metadata": {},
   "source": [
    "### Fock backend example\n",
    "To return the density matrix representing the Fock state, we can use the method state.dm(). In this case, the density matrix has dimension"
   ]
  },
  {
   "cell_type": "code",
   "execution_count": 139,
   "metadata": {},
   "outputs": [
    {
     "data": {
      "text/plain": [
       "(15, 15, 15, 15, 15, 15)"
      ]
     },
     "execution_count": 139,
     "metadata": {},
     "output_type": "execute_result"
    }
   ],
   "source": [
    "state.dm().shape"
   ]
  },
  {
   "cell_type": "markdown",
   "metadata": {},
   "source": [
    "Here, we use the convention that every pair of consecutive dimensions corresponds to a subsystem; i.e.,\n",
    "\n",
    "$$\\rho_{\\underbrace{ij}_{q[0]}\\underbrace{kl}_{q[1]}\\underbrace{mn}_{q[2]}}$$\n",
    "\n",
    "Thus we can calculate the reduced density matrix for mode `q[2]`, $\\rho_2$:"
   ]
  },
  {
   "cell_type": "code",
   "execution_count": 140,
   "metadata": {},
   "outputs": [
    {
     "data": {
      "text/plain": [
       "(15, 15)"
      ]
     },
     "execution_count": 140,
     "metadata": {},
     "output_type": "execute_result"
    }
   ],
   "source": [
    "import numpy as np\n",
    "rho2 = np.einsum('kkllij->ij', state.dm())\n",
    "rho2.shape"
   ]
  },
  {
   "cell_type": "markdown",
   "metadata": {},
   "source": [
    "<div class=\"alert alert-success\" style=\"border: 0px; border-left: 3px solid #119a68; color: black; background-color: #daf0e9\">\n",
    "<p style=\"color: #119a68;\">**Note**</p>\n",
    "The Fock state also provides the method `reduced_dm()` for extracting the reduced density matrix automatically.\n",
    "</div>"
   ]
  },
  {
   "cell_type": "code",
   "execution_count": 141,
   "metadata": {},
   "outputs": [
    {
     "data": {
      "text/plain": [
       "array([[ 2.84869709e-01+7.11236625e-17j,  2.95750664e-01-1.22350257e-01j,\n",
       "         1.70465775e-01-1.90038875e-01j,  4.90625965e-02-1.41278780e-01j,\n",
       "         7.98980829e-03-9.00535277e-02j, -1.97858749e-02-4.64956948e-02j,\n",
       "        -2.17718976e-02-2.38019724e-02j, -1.72201175e-02+1.60119011e-03j,\n",
       "        -6.18863762e-03+7.07950591e-03j, -9.67237745e-05+4.98249864e-03j,\n",
       "        -3.51580712e-03+3.94763793e-03j,  5.16877247e-03-8.16595176e-04j,\n",
       "         3.11929997e-03+6.27613471e-03j, -3.48711872e-03+4.63675176e-03j,\n",
       "        -2.91594463e-03-5.23795125e-03j],\n",
       "       [ 2.95750664e-01+1.22350257e-01j,  3.59596115e-01+4.64038530e-17j,\n",
       "         2.58597769e-01-1.24083366e-01j,  1.11615204e-01-1.25602936e-01j,\n",
       "         4.69725736e-02-9.00616483e-02j, -5.71929733e-04-5.67696003e-02j,\n",
       "        -1.23806626e-02-3.40620505e-02j, -1.85655654e-02-5.73361335e-03j,\n",
       "        -9.46563629e-03+4.69192452e-03j, -2.24037899e-03+5.13126899e-03j,\n",
       "        -5.34559049e-03+2.58839958e-03j,  5.71692415e-03+1.37217844e-03j,\n",
       "         5.42873953e-04+7.85558483e-03j, -5.61177759e-03+3.31615652e-03j,\n",
       "        -7.77646316e-04-6.69040644e-03j],\n",
       "       [ 1.70465775e-01+1.90038875e-01j,  2.58597769e-01+1.24083366e-01j,\n",
       "         2.28783027e-01+1.90819582e-17j,  1.23607224e-01-5.18110404e-02j,\n",
       "         6.48565271e-02-4.85578836e-02j,  1.91778026e-02-4.10222979e-02j,\n",
       "         2.85020361e-03-2.87672867e-02j, -1.13726695e-02-1.05295283e-02j,\n",
       "        -8.42607049e-03+1.07879931e-04j, -3.38174436e-03+2.91699745e-03j,\n",
       "        -4.73735682e-03+1.68397200e-05j,  3.63774595e-03+2.95947990e-03j,\n",
       "        -2.32027371e-03+5.83654342e-03j, -5.17990309e-03+4.48343074e-04j,\n",
       "         1.74938082e-03-5.07963539e-03j],\n",
       "       [ 4.90625965e-02+1.41278780e-01j,  1.11615204e-01+1.25602936e-01j,\n",
       "         1.23607224e-01+5.18110404e-02j,  7.85160070e-02-2.08166817e-17j,\n",
       "         4.60373738e-02-1.15472773e-02j,  1.96514703e-02-1.78205110e-02j,\n",
       "         8.05465699e-03-1.48969637e-02j, -3.75988682e-03-8.26440503e-03j,\n",
       "        -4.57688041e-03-1.84991319e-03j, -2.48768762e-03+8.10157404e-04j,\n",
       "        -2.56331956e-03-1.06374095e-03j,  1.29519200e-03+2.42276931e-03j,\n",
       "        -2.57536578e-03+2.62791844e-03j, -2.90013893e-03-9.30828338e-04j,\n",
       "         2.09551078e-03-2.34826157e-03j],\n",
       "       [ 7.98980829e-03+9.00535277e-02j,  4.69725736e-02+9.00616483e-02j,\n",
       "         6.48565271e-02+4.85578836e-02j,  4.60373738e-02+1.15472773e-02j,\n",
       "         2.86919762e-02-1.04083409e-17j,  1.41433640e-02-7.55882237e-03j,\n",
       "         6.91368099e-03-7.55015122e-03j, -9.89147835e-04-5.39874575e-03j,\n",
       "        -2.41156040e-03-1.75780274e-03j, -1.57778932e-03+1.09168827e-04j,\n",
       "        -1.34654312e-03-1.00070297e-03j,  4.03113332e-04+1.61105846e-03j,\n",
       "        -1.89653531e-03+1.16210699e-03j, -1.56358240e-03-9.72306203e-04j,\n",
       "         1.57404643e-03-1.06870375e-03j],\n",
       "       [-1.97858749e-02+4.64956948e-02j, -5.71929733e-04+5.67696003e-02j,\n",
       "         1.91778026e-02+4.10222979e-02j,  1.96514703e-02+1.78205110e-02j,\n",
       "         1.41433640e-02+7.55882237e-03j,  8.96315193e-03-7.15573434e-18j,\n",
       "         5.39708238e-03-1.90036582e-03j,  9.34696240e-04-2.92183497e-03j,\n",
       "        -7.25661344e-04-1.50180666e-03j, -8.06512467e-04-3.61850808e-04j,\n",
       "        -4.00129760e-04-8.48027565e-04j, -2.25719069e-04+9.00350964e-04j,\n",
       "        -1.24102813e-03+7.32096195e-05j, -5.14597710e-04-8.91208123e-04j,\n",
       "         1.05745430e-03-1.12126429e-04j],\n",
       "       [-2.17718976e-02+2.38019724e-02j, -1.23806626e-02+3.40620505e-02j,\n",
       "         2.85020361e-03+2.87672867e-02j,  8.05465699e-03+1.48969637e-02j,\n",
       "         6.91368099e-03+7.55015122e-03j,  5.39708238e-03+1.90036582e-03j,\n",
       "         3.65272046e-03-2.60208521e-18j,  1.18230595e-03-1.56118287e-03j,\n",
       "        -1.18537768e-04-1.05815413e-03j, -4.08914782e-04-3.88881876e-04j,\n",
       "        -6.11359362e-05-5.95467709e-04j, -3.26806979e-04+4.94281426e-04j,\n",
       "        -7.62795966e-04-2.19040033e-04j, -1.20906662e-04-6.45737972e-04j,\n",
       "         6.60509745e-04+1.56685331e-04j],\n",
       "       [-1.72201175e-02-1.60119011e-03j, -1.85655654e-02+5.73361335e-03j,\n",
       "        -1.13726695e-02+1.05295283e-02j, -3.75988682e-03+8.26440503e-03j,\n",
       "        -9.89147835e-04+5.39874575e-03j,  9.34696240e-04+2.92183497e-03j,\n",
       "         1.18230595e-03+1.56118287e-03j,  1.04994055e-03-1.47451495e-17j,\n",
       "         4.13889924e-04-3.93164787e-04j,  3.38523964e-05-3.00643896e-04j,\n",
       "         2.34716183e-04-2.18869580e-04j, -3.17037546e-04+2.03099080e-05j,\n",
       "        -1.53282101e-04-3.96919596e-04j,  2.36855353e-04-2.60687143e-04j,\n",
       "         1.46824854e-04+3.33019324e-04j],\n",
       "       [-6.18863762e-03-7.07950591e-03j, -9.46563629e-03-4.69192452e-03j,\n",
       "        -8.42607049e-03-1.07879931e-04j, -4.57688041e-03+1.84991319e-03j,\n",
       "        -2.41156040e-03+1.75780274e-03j, -7.25661344e-04+1.50180666e-03j,\n",
       "        -1.18537768e-04+1.05815413e-03j,  4.13889924e-04+3.93164787e-04j,\n",
       "         3.10382736e-04-3.20923843e-17j,  1.25924996e-04-1.05838287e-04j,\n",
       "         1.74484618e-04+1.61363832e-06j, -1.32582542e-04-1.10712872e-04j,\n",
       "         8.82077484e-05-2.13865582e-04j,  1.90987051e-04-1.40699369e-05j,\n",
       "        -6.68248732e-05+1.86257885e-04j],\n",
       "       [-9.67237745e-05-4.98249864e-03j, -2.24037899e-03-5.13126899e-03j,\n",
       "        -3.38174436e-03-2.91699745e-03j, -2.48768762e-03-8.10157404e-04j,\n",
       "        -1.57778932e-03-1.09168827e-04j, -8.06512467e-04+3.61850808e-04j,\n",
       "        -4.08914782e-04+3.88881876e-04j,  3.38523964e-05+3.00643896e-04j,\n",
       "         1.25924996e-04+1.05838287e-04j,  8.71789714e-05-1.45283091e-17j,\n",
       "         7.02396996e-05+6.01526707e-05j, -1.60376039e-05-9.01268785e-05j,\n",
       "         1.08713286e-04-5.66889312e-05j,  8.22828680e-05+5.94169181e-05j,\n",
       "        -9.06240397e-05+5.27796536e-05j],\n",
       "       [-3.51580712e-03-3.94763793e-03j, -5.34559049e-03-2.58839958e-03j,\n",
       "        -4.73735682e-03-1.68397200e-05j, -2.56331956e-03+1.06374095e-03j,\n",
       "        -1.34654312e-03+1.00070297e-03j, -4.00129760e-04+8.48027565e-04j,\n",
       "        -6.11359362e-05+5.95467709e-04j,  2.34716183e-04+2.18869580e-04j,\n",
       "         1.74484618e-04-1.61363832e-06j,  7.02396996e-05-6.01526707e-05j,\n",
       "         9.80965828e-05-1.45283091e-17j, -7.51081231e-05-6.15490190e-05j,\n",
       "         4.84749693e-05-1.20685159e-04j,  1.07292046e-04-8.90246547e-06j,\n",
       "        -3.65979106e-05+1.05054062e-04j],\n",
       "       [ 5.16877247e-03+8.16595176e-04j,  5.71692415e-03-1.37217844e-03j,\n",
       "         3.63774595e-03-2.95947990e-03j,  1.29519200e-03-2.42276931e-03j,\n",
       "         4.03113332e-04-1.61105846e-03j, -2.25719069e-04-9.00350964e-04j,\n",
       "        -3.26806979e-04-4.94281426e-04j, -3.17037546e-04-2.03099080e-05j,\n",
       "        -1.32582542e-04+1.10712872e-04j, -1.60376039e-05+9.01268785e-05j,\n",
       "        -7.51081231e-05+6.15490190e-05j,  9.61247744e-05-1.16009632e-17j,\n",
       "         3.86067390e-05+1.22817964e-04j, -7.65629749e-05+7.41347707e-05j,\n",
       "        -3.78930025e-05-1.03397882e-04j],\n",
       "       [ 3.11929997e-03-6.27613471e-03j,  5.42873953e-04-7.85558483e-03j,\n",
       "        -2.32027371e-03-5.83654342e-03j, -2.57536578e-03-2.62791844e-03j,\n",
       "        -1.89653531e-03-1.16210699e-03j, -1.24102813e-03-7.32096195e-05j,\n",
       "        -7.62795966e-04+2.19040033e-04j, -1.53282101e-04+3.96919596e-04j,\n",
       "         8.82077484e-05+2.13865582e-04j,  1.08713286e-04+5.66889312e-05j,\n",
       "         4.84749693e-05+1.20685159e-04j,  3.86067390e-05-1.22817964e-04j,\n",
       "         1.72429352e-04-1.64798730e-17j,  6.39713834e-05+1.27598847e-04j,\n",
       "        -1.47329787e-04+6.88778078e-06j],\n",
       "       [-3.48711872e-03-4.63675176e-03j, -5.61177759e-03-3.31615652e-03j,\n",
       "        -5.17990309e-03-4.48343074e-04j, -2.90013893e-03+9.30828338e-04j,\n",
       "        -1.56358240e-03+9.72306203e-04j, -5.14597710e-04+8.91208123e-04j,\n",
       "        -1.20906662e-04+6.45737972e-04j,  2.36855353e-04+2.60687143e-04j,\n",
       "         1.90987051e-04+1.40699369e-05j,  8.22828680e-05-5.94169181e-05j,\n",
       "         1.07292046e-04+8.90246547e-06j, -7.65629749e-05-7.41347707e-05j,\n",
       "         6.39713834e-05-1.27598847e-04j,  1.18157399e-04-1.47451495e-17j,\n",
       "        -4.95624285e-05+1.11580376e-04j],\n",
       "       [-2.91594463e-03+5.23795125e-03j, -7.77646316e-04+6.69040644e-03j,\n",
       "         1.74938082e-03+5.07963539e-03j,  2.09551078e-03+2.34826157e-03j,\n",
       "         1.57404643e-03+1.06870375e-03j,  1.05745430e-03+1.12126429e-04j,\n",
       "         6.60509745e-04-1.56685331e-04j,  1.46824854e-04-3.33019324e-04j,\n",
       "        -6.68248732e-05-1.86257885e-04j, -9.06240397e-05-5.27796536e-05j,\n",
       "        -3.65979106e-05-1.05054062e-04j, -3.78930025e-05+1.03397882e-04j,\n",
       "        -1.47329787e-04-6.88778078e-06j, -4.95624285e-05-1.11580376e-04j,\n",
       "         1.26158961e-04-1.06251813e-17j]])"
      ]
     },
     "execution_count": 141,
     "metadata": {},
     "output_type": "execute_result"
    }
   ],
   "source": [
    "state.reduced_dm([2])"
   ]
  },
  {
   "cell_type": "markdown",
   "metadata": {},
   "source": [
    "The diagonal values of the reduced density matrix contain the marginal Fock state probabilities $\\left|\\left\\langle{i}\\mid{\\rho_2}\\right\\rangle\\right|^2,~~ 0\\leq i< cutoff$:"
   ]
  },
  {
   "cell_type": "code",
   "execution_count": 142,
   "metadata": {},
   "outputs": [
    {
     "data": {
      "text/plain": [
       "array([2.84869709e-01, 3.59596115e-01, 2.28783027e-01, 7.85160070e-02,\n",
       "       2.86919762e-02, 8.96315193e-03, 3.65272046e-03, 1.04994055e-03,\n",
       "       3.10382736e-04, 8.71789714e-05, 9.80965828e-05, 9.61247744e-05,\n",
       "       1.72429352e-04, 1.18157399e-04, 1.26158961e-04])"
      ]
     },
     "execution_count": 142,
     "metadata": {},
     "output_type": "execute_result"
    }
   ],
   "source": [
    "np.real_if_close(np.diag(state.reduced_dm([2])))"
   ]
  },
  {
   "cell_type": "markdown",
   "metadata": {},
   "source": [
    "This can also be returned via the state method `all_fock_probs`."
   ]
  },
  {
   "cell_type": "code",
   "execution_count": 154,
   "metadata": {},
   "outputs": [
    {
     "data": {
      "text/plain": [
       "array([2.84869709e-01, 3.59596115e-01, 2.28783027e-01, 7.85160070e-02,\n",
       "       2.86919762e-02, 8.96315193e-03, 3.65272046e-03, 1.04994055e-03,\n",
       "       3.10382736e-04, 8.71789714e-05, 9.80965828e-05, 9.61247744e-05,\n",
       "       1.72429352e-04, 1.18157399e-04, 1.26158961e-04])"
      ]
     },
     "execution_count": 154,
     "metadata": {},
     "output_type": "execute_result"
    }
   ],
   "source": [
    "fock_probs = state.all_fock_probs()\n",
    "np.sum(fock_probs, axis=(0,1))"
   ]
  },
  {
   "cell_type": "markdown",
   "metadata": {},
   "source": [
    "### Plotting the Wigner function"
   ]
  },
  {
   "cell_type": "markdown",
   "metadata": {},
   "source": [
    "<div class=\"alert alert-info\" style=\"border: 0px; border-left: 3px solid #31708f; color: black; background-color: #d9edf7\">\n",
    "<p style=\"color: #31708f;\">**Exercise**</p>\n",
    "\n",
    "Using the `state.wigner` function, plot the wigner function of the input state and the resulting teleported state.\n",
    "\n",
    "</div>"
   ]
  },
  {
   "cell_type": "code",
   "execution_count": 144,
   "metadata": {},
   "outputs": [],
   "source": [
    "import matplotlib.pyplot as plt"
   ]
  },
  {
   "cell_type": "code",
   "execution_count": 145,
   "metadata": {},
   "outputs": [],
   "source": [
    "x = np.arange(-5, 5, 0.1)\n",
    "p = np.arange(-5, 5, 0.1)"
   ]
  },
  {
   "cell_type": "code",
   "execution_count": 146,
   "metadata": {},
   "outputs": [],
   "source": [
    "W = state.wigner(2, x, p)"
   ]
  },
  {
   "cell_type": "code",
   "execution_count": 147,
   "metadata": {},
   "outputs": [
    {
     "data": {
      "text/plain": [
       "(100, 100)"
      ]
     },
     "execution_count": 147,
     "metadata": {},
     "output_type": "execute_result"
    }
   ],
   "source": [
    "W.shape"
   ]
  },
  {
   "cell_type": "code",
   "execution_count": 148,
   "metadata": {},
   "outputs": [
    {
     "data": {
      "text/plain": [
       "<matplotlib.contour.QuadContourSet at 0x11b4ec320>"
      ]
     },
     "execution_count": 148,
     "metadata": {},
     "output_type": "execute_result"
    },
    {
     "data": {
      "image/png": "[encoded data removed]",
      "text/plain": [
       "<Figure size 432x288 with 1 Axes>"
      ]
     },
     "metadata": {},
     "output_type": "display_data"
    }
   ],
   "source": [
    "X, P = np.meshgrid(x, p)\n",
    "plt.contourf(X, P, W)"
   ]
  },
  {
   "cell_type": "code",
   "execution_count": 100,
   "metadata": {},
   "outputs": [
    {
     "name": "stdout",
     "output_type": "stream",
     "text": [
      "(100, 100)\n"
     ]
    },
    {
     "data": {
      "text/plain": [
       "<matplotlib.contour.QuadContourSet at 0x11b19e208>"
      ]
     },
     "execution_count": 100,
     "metadata": {},
     "output_type": "execute_result"
    },
    {
     "data": {
      "image/png": "[encoded data removed]",
      "text/plain": [
       "<Figure size 432x288 with 1 Axes>"
      ]
     },
     "metadata": {},
     "output_type": "display_data"
    }
   ],
   "source": [
    "x1 = np.arange(-5, 5, 0.1)\n",
    "p1 = np.arange(-5, 5, 0.1)\n",
    "W_ini = state.wigner(1, x1, p1)\n",
    "print(W_ini.shape)\n",
    "X1, P1 = np.meshgrid(x1, p1)\n",
    "plt.contourf(X1, P1, W_ini)"
   ]
  },
  {
   "cell_type": "markdown",
   "metadata": {},
   "source": [
    "<div class=\"alert alert-info\" style=\"border: 0px; border-left: 3px solid #31708f; color: black; background-color: #d9edf7\">\n",
    "<p style=\"color: #31708f;\">**Exercise**</p>\n",
    "\n",
    "Repeat this notebook, but using the `'gaussian'` backend instead. How does the teleportation fidelity compare to the fock backend?\n",
    "\n",
    "</div>"
   ]
  },
  {
   "cell_type": "code",
   "execution_count": null,
   "metadata": {},
   "outputs": [],
   "source": []
  }
 ],
 "metadata": {
  "kernelspec": {
   "display_name": "Python 3",
   "language": "python",
   "name": "python3"
  },
  "language_info": {
   "codemirror_mode": {
    "name": "ipython",
    "version": 3
   },
   "file_extension": ".py",
   "mimetype": "text/x-python",
   "name": "python",
   "nbconvert_exporter": "python",
   "pygments_lexer": "ipython3",
   "version": "3.6.5"
  },
  "toc": {
   "nav_menu": {},
   "number_sections": true,
   "sideBar": true,
   "skip_h1_title": false,
   "toc_cell": false,
   "toc_position": {},
   "toc_section_display": "block",
   "toc_window_display": false
  }
 },
 "nbformat": 4,
 "nbformat_minor": 2
}
