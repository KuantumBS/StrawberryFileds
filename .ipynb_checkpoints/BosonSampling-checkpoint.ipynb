{
 "cells": [
  {
   "cell_type": "markdown",
   "metadata": {},
   "source": [
    "# Boson sampling Tutorial"
   ]
  },
  {
   "cell_type": "code",
   "execution_count": 75,
   "metadata": {},
   "outputs": [],
   "source": [
    "import numpy as np\n",
    "import strawberryfields as sf\n",
    "import random as rd\n",
    "from strawberryfields.ops import *"
   ]
  },
  {
   "cell_type": "code",
   "execution_count": 76,
   "metadata": {},
   "outputs": [
    {
     "name": "stdout",
     "output_type": "stream",
     "text": [
      "0.17468916048563937\n",
      "0.10644192724642339\n"
     ]
    }
   ],
   "source": [
    "eng, q = sf.Engine(4)\n",
    "FockList_ini = [1,1,0,1]\n",
    "\n",
    "with eng:\n",
    "    # prepare the input fock states\n",
    "    Fock(FockList_ini[0]) | q[0]\n",
    "    Fock(FockList_ini[1]) | q[1]\n",
    "    Fock(FockList_ini[2]) | q[2] # vacuum state (optional)\n",
    "    Fock(FockList_ini[3]) | q[3]\n",
    "\n",
    "    # rotation gates\n",
    "    Rgate(0.5719)\n",
    "    Rgate(-1.9782)\n",
    "    Rgate(2.0603)\n",
    "    Rgate(0.0644)\n",
    "\n",
    "    # beamsplitter array ()\n",
    "    BSgate(0.7804, 0.8578)  | (q[0], q[1])\n",
    "    BSgate(0.06406, 0.5165) | (q[2], q[3])\n",
    "    BSgate(0.473, 0.1176)   | (q[1], q[2])\n",
    "    BSgate(0.563, 0.1517)   | (q[0], q[1])\n",
    "    BSgate(0.1323, 0.9946)  | (q[2], q[3])\n",
    "    BSgate(0.311, 0.3231)   | (q[1], q[2])\n",
    "    BSgate(0.4348, 0.0798)  | (q[0], q[1])\n",
    "    BSgate(0.4368, 0.6157)  | (q[2], q[3])\n",
    "    # end circuit\n",
    "    # not performing measurement\n",
    "\n",
    "# run the engine\n",
    "state = eng.run('fock', cutoff_dim=7)\n",
    "\n",
    "# extract the joint Fock probabilities\n",
    "probs = state.all_fock_probs()\n",
    "\n",
    "# print the joint Fock state probabilities\n",
    "print(probs[1,1,0,1])\n",
    "print(probs[2,0,0,1])"
   ]
  },
  {
   "cell_type": "code",
   "execution_count": 77,
   "metadata": {},
   "outputs": [],
   "source": [
    "from numpy.linalg import multi_dot\n",
    "from scipy.linalg import block_diag"
   ]
  },
  {
   "cell_type": "markdown",
   "metadata": {},
   "source": [
    "let’s generate the matrix representing the unitary transformation of the input mode annihilation and creation operators\n",
    "\n",
    "$$\n",
    "R(\\phi)\\hat{a}= \\hat{a} e^{i\\phi} \\\\\n",
    "BS(\\theta, \\phi)(\\hat{a}_{1},\\hat{a}_{2}) = \\left[\\begin{array}{c}\n",
    "      t & -r^{*} \\\\\n",
    "      r & t\\\\\n",
    "    \\end{array}\\right] \\quad\n",
    "$$\n"
   ]
  },
  {
   "cell_type": "code",
   "execution_count": 78,
   "metadata": {},
   "outputs": [],
   "source": [
    "Uphase = np.diag([np.exp(0.5719*1j),np.exp(-1.9782*1j),np.exp(2.0603*1j),np.exp(0.0644*1j)])"
   ]
  },
  {
   "cell_type": "code",
   "execution_count": 79,
   "metadata": {},
   "outputs": [],
   "source": [
    "BSargs = [\n",
    "(0.7804, 0.8578),\n",
    "(0.06406, 0.5165),\n",
    "(0.473, 0.1176),\n",
    "(0.563, 0.1517),\n",
    "(0.1323, 0.9946),\n",
    "(0.311, 0.3231),\n",
    "(0.4348, 0.0798),\n",
    "(0.4368, 0.6157)\n",
    "]\n",
    "\n",
    "t_r_amplitudes = [(np.cos(q), np.exp(p*1j)*np.sin(q)) for q,p in BSargs]\n",
    "# Official tutorial lack \"*1j\"\n",
    "BSunitaries = [np.array([[t, -np.conj(r)], [r, t]]) for t,r in t_r_amplitudes]\n",
    "# list of 2x2 numpy array"
   ]
  },
  {
   "cell_type": "code",
   "execution_count": 80,
   "metadata": {},
   "outputs": [
    {
     "name": "stdout",
     "output_type": "stream",
     "text": [
      "[[ 0.71063217+0.j         -0.46020324+0.53217938j  0.        +0.j\n",
      "   0.        +0.j        ]\n",
      " [ 0.46020324+0.53217938j  0.71063217+0.j          0.        +0.j\n",
      "   0.        +0.j        ]\n",
      " [ 0.        +0.j          0.        +0.j          0.99794886+0.j\n",
      "  -0.05566547+0.03161374j]\n",
      " [ 0.        +0.j          0.        +0.j          0.05566547+0.03161374j\n",
      "   0.99794886+0.j        ]]\n",
      "diagonaolize 2 arrays to make 4 x 4 unitary\n"
     ]
    }
   ],
   "source": [
    "UBS1 = block_diag(*BSunitaries[0:2])\n",
    "print(UBS1)\n",
    "print('diagonaolize 2 arrays to make 4 x 4 unitary')"
   ]
  },
  {
   "cell_type": "code",
   "execution_count": 81,
   "metadata": {},
   "outputs": [],
   "source": [
    "UBS2 = block_diag([[1]], BSunitaries[2], [[1]])\n",
    "UBS3 = block_diag(*BSunitaries[3:5])\n",
    "UBS4 = block_diag([[1]], BSunitaries[5], [[1]])\n",
    "UBS5 = block_diag(*BSunitaries[6:8])"
   ]
  },
  {
   "cell_type": "code",
   "execution_count": 82,
   "metadata": {},
   "outputs": [
    {
     "name": "stdout",
     "output_type": "stream",
     "text": [
      "combine all unitaries\n",
      "\n",
      "[[ 0.21954694-0.25653455j  0.61107685+0.52417894j -0.10270019+0.47447883j\n",
      "  -0.02725023+0.03729095j]\n",
      " [ 0.45128186+0.60258291j  0.45695259+0.01230749j  0.13162587-0.45041774j\n",
      "   0.03528319-0.05324427j]\n",
      " [ 0.03871009+0.49271556j -0.01921274-0.32184285j -0.24077647+0.52443283j\n",
      "  -0.45838814+0.32963337j]\n",
      " [-0.15661908+0.22456857j  0.10999222-0.16375022j -0.42117984+0.18364484j\n",
      "   0.81876918+0.06801566j]]\n"
     ]
    }
   ],
   "source": [
    "U = multi_dot([UBS5, UBS4, UBS3, UBS2, UBS1, Uphase])\n",
    "print('combine all unitaries\\n')\n",
    "print(U)"
   ]
  },
  {
   "cell_type": "markdown",
   "metadata": {},
   "source": [
    "Calculate Permanate function in the analytic result of Boson sampling.\n",
    "\n",
    "$$\n",
    "|<n_{1},n_{2},…,n_{N}∣\\psi^{'}>|^{2} =\n",
    "\\frac{|\\mathrm{Perm}(U_{st})|^{2}}{m_{1}!m_{2}!,…,m_{N}!n_{1}!n_{2}!,…,n_{N}!}\n",
    "$$\n",
    "\n",
    "Note\n",
    "\n",
    "It's classically hard to compute!\n",
    "\n",
    "This function makes use of the Balasubramanian-Bax-Franklin-Glynn formula, which scales as $$O(2^{n−1}n^{2})$$\n",
    " for an n×n\n",
    " matrix."
   ]
  },
  {
   "cell_type": "code",
   "execution_count": 5,
   "metadata": {},
   "outputs": [],
   "source": [
    "def perm(M):\n",
    "     n = M.shape[0]\n",
    "     d = np.ones(n)\n",
    "     j =  0\n",
    "     s = 1\n",
    "     f = np.arange(n)\n",
    "     v = M.sum(axis=0)\n",
    "     p = np.prod(v)\n",
    "     while (j < n-1):\n",
    "         v -= 2*d[j]*M[j]\n",
    "         d[j] = -d[j]\n",
    "         s = -s\n",
    "         prod = np.prod(v)\n",
    "         p += s*prod\n",
    "         f[0] = 0\n",
    "         f[j] = f[j+1]\n",
    "         f[j+1] = j+1\n",
    "         j = f[0]\n",
    "     return p/2**(n-1)"
   ]
  },
  {
   "cell_type": "markdown",
   "metadata": {},
   "source": [
    "Calculate Ust\n",
    "\n",
    "Input Fock state has a photon in 0th, 1st, and 3rd mode.\n",
    "$$|1,1,0,1> \\to (0,1,3)$$\n",
    "Output Fock state has 2 photons in 0th mode and a photon in 3rd mode.\n",
    "$$|2,0,0,1> \\to (0,0,3)$$\n",
    "\n",
    "Photon number should be preserved!"
   ]
  },
  {
   "cell_type": "code",
   "execution_count": 84,
   "metadata": {},
   "outputs": [
    {
     "name": "stdout",
     "output_type": "stream",
     "text": [
      "0.10644192724642332 0.10644192724642339\n"
     ]
    }
   ],
   "source": [
    "clasic_calc = np.abs(perm(U[:,[0,1,3]][[0,0,3]]))**2 / 2\n",
    "# / 2 derive to (1! * 1! * 0! * 1!) * (2! * 0! * 0! * 1!)\n",
    "Boson_calc = probs[2,0,0,1]\n",
    "print(clasic_calc, Boson_calc)"
   ]
  },
  {
   "cell_type": "markdown",
   "metadata": {},
   "source": [
    "Ust計算の補足"
   ]
  },
  {
   "cell_type": "code",
   "execution_count": 54,
   "metadata": {},
   "outputs": [
    {
     "name": "stdout",
     "output_type": "stream",
     "text": [
      "[[ 1  2  3  4]\n",
      " [ 5  6  7  8]\n",
      " [ 9 10 11 12]\n",
      " [13 14 15 16]]\n",
      "\n",
      "0, 1, 3列目を抜き出し\n",
      "[[ 1  2  4]\n",
      " [ 5  6  8]\n",
      " [ 9 10 12]\n",
      " [13 14 16]]\n",
      "\n",
      "0, 0, 3列目を抜き出し\n",
      "[[ 1  1  4]\n",
      " [ 5  5  8]\n",
      " [ 9  9 12]\n",
      " [13 13 16]]\n",
      "\n",
      "0, 1, 3列目を抜き出した行列から0,0,3行目を抜き出し\n",
      "[[ 1  2  4]\n",
      " [ 1  2  4]\n",
      " [13 14 16]]\n"
     ]
    }
   ],
   "source": [
    "A = np.array([[1,2,3,4],[5,6,7,8],[9,10,11,12],[13,14,15,16]])\n",
    "print(A)\n",
    "print('\\n0, 1, 3列目を抜き出し')\n",
    "print(A[:,[0,1,3]])\n",
    "print('\\n0, 0, 3列目を抜き出し')\n",
    "print(A[:,[0,0,3]])\n",
    "print('\\n0, 1, 3列目を抜き出した行列から0,0,3行目を抜き出し')\n",
    "print(A[:,[0,1,3]][[0,0,3]])"
   ]
  },
  {
   "cell_type": "markdown",
   "metadata": {},
   "source": [
    "## Input, Output Fock state をランダムに生成できるようにした"
   ]
  },
  {
   "cell_type": "code",
   "execution_count": 74,
   "metadata": {},
   "outputs": [],
   "source": [
    "import numpy as np\n",
    "import strawberryfields as sf\n",
    "import random as rd\n",
    "from strawberryfields.ops import *\n",
    "from numpy.linalg import multi_dot\n",
    "from scipy.linalg import block_diag\n",
    "import math"
   ]
  },
  {
   "cell_type": "code",
   "execution_count": 75,
   "metadata": {},
   "outputs": [],
   "source": [
    "def transform(photonNumList):\n",
    "    resList = []\n",
    "    for i in range(len(photonNumList)):\n",
    "        for j in range(photonNumList[i]):\n",
    "            resList.append(int(i))\n",
    "    return resList\n",
    "\n",
    "def perm(M):\n",
    "     n = M.shape[0]\n",
    "     d = np.ones(n)\n",
    "     j =  0\n",
    "     s = 1\n",
    "     f = np.arange(n)\n",
    "     v = M.sum(axis=0)\n",
    "     p = np.prod(v)\n",
    "     while (j < n-1):\n",
    "         v -= 2*d[j]*M[j]\n",
    "         d[j] = -d[j]\n",
    "         s = -s\n",
    "         prod = np.prod(v)\n",
    "         p += s*prod\n",
    "         f[0] = 0\n",
    "         f[j] = f[j+1]\n",
    "         f[j+1] = j+1\n",
    "         j = f[0]\n",
    "     return p/2**(n-1)\n",
    "\n",
    "def Fact_Fock(FockList_ini, FockList_after):\n",
    "    FockList_ini_Fact = [np.math.factorial(i) for i in FockList_ini]\n",
    "    FockList_after_Fact = [np.math.factorial(i) for i in FockList_after]\n",
    "\n",
    "    res = 1\n",
    "    for i in range(len(FockList_ini)):\n",
    "        res *= FockList_ini_Fact[i]\n",
    "\n",
    "    for i in range(len(FockList_after)):\n",
    "        res *= FockList_after_Fact[i]\n",
    "    return res"
   ]
  },
  {
   "cell_type": "code",
   "execution_count": 76,
   "metadata": {},
   "outputs": [],
   "source": [
    "NodeNum = 4\n",
    "FockList_ini = np.zeros(4, dtype=int)\n",
    "SumOfPhoton = 3\n",
    "\n",
    "for i in range(SumOfPhoton):\n",
    "    tmp = rd.randint(0, NodeNum-1)\n",
    "    FockList_ini[tmp] += int(1)\n",
    "\n",
    "eng, q = sf.Engine(4)\n",
    "\n",
    "with eng:\n",
    "    # prepare the input fock states\n",
    "    Fock(FockList_ini[0]) | q[0]\n",
    "    Fock(FockList_ini[1]) | q[1]\n",
    "    Fock(FockList_ini[2]) | q[2] # vacuum state (optional)\n",
    "    Fock(FockList_ini[3]) | q[3]\n",
    "\n",
    "    # rotation gates\n",
    "    Rgate(0.5719)\n",
    "    Rgate(-1.9782)\n",
    "    Rgate(2.0603)\n",
    "    Rgate(0.0644)\n",
    "\n",
    "    # beamsplitter array ()\n",
    "    BSgate(0.7804, 0.8578)  | (q[0], q[1])\n",
    "    BSgate(0.06406, 0.5165) | (q[2], q[3])\n",
    "    BSgate(0.473, 0.1176)   | (q[1], q[2])\n",
    "    BSgate(0.563, 0.1517)   | (q[0], q[1])\n",
    "    BSgate(0.1323, 0.9946)  | (q[2], q[3])\n",
    "    BSgate(0.311, 0.3231)   | (q[1], q[2])\n",
    "    BSgate(0.4348, 0.0798)  | (q[0], q[1])\n",
    "    BSgate(0.4368, 0.6157)  | (q[2], q[3])\n",
    "    # end circuit\n",
    "    # not performing measurement\n",
    "\n",
    "# run the engine\n",
    "state = eng.run('fock', cutoff_dim=7)\n",
    "\n",
    "# extract the joint Fock probabilities\n",
    "probs = state.all_fock_probs()"
   ]
  },
  {
   "cell_type": "code",
   "execution_count": 83,
   "metadata": {},
   "outputs": [
    {
     "name": "stdout",
     "output_type": "stream",
     "text": [
      "[0, 2, 0, 1]\n",
      "[0, 0, 1, 2]\n",
      "0.006819330090093822 0.006819330090093822\n"
     ]
    }
   ],
   "source": [
    "Uphase = np.diag([np.exp(0.5719*1j),np.exp(-1.9782*1j),np.exp(2.0603*1j),np.exp(0.0644*1j)])\n",
    "\n",
    "BSargs = [\n",
    "(0.7804, 0.8578),\n",
    "(0.06406, 0.5165),\n",
    "(0.473, 0.1176),\n",
    "(0.563, 0.1517),\n",
    "(0.1323, 0.9946),\n",
    "(0.311, 0.3231),\n",
    "(0.4348, 0.0798),\n",
    "(0.4368, 0.6157)\n",
    "]\n",
    "\n",
    "t_r_amplitudes = [(np.cos(q), np.exp(p*1j)*np.sin(q)) for q,p in BSargs]\n",
    "# Official tutorial lack \"*1j\"\n",
    "BSunitaries = [np.array([[t, -np.conj(r)], [r, t]]) for t,r in t_r_amplitudes]\n",
    "# list of 2x2 numpy array\n",
    "\n",
    "UBS1 = block_diag(*BSunitaries[0:2])\n",
    "UBS2 = block_diag([[1]], BSunitaries[2], [[1]])\n",
    "UBS3 = block_diag(*BSunitaries[3:5])\n",
    "UBS4 = block_diag([[1]], BSunitaries[5], [[1]])\n",
    "UBS5 = block_diag(*BSunitaries[6:8])\n",
    "U = multi_dot([UBS5, UBS4, UBS3, UBS2, UBS1, Uphase])\n",
    "\n",
    "\n",
    "FockList_after = np.zeros(4, dtype=int)\n",
    "\n",
    "for i in range(SumOfPhoton):\n",
    "    tmp = rd.randint(0, NodeNum-1)\n",
    "    FockList_after[tmp] += int(1)\n",
    "  \n",
    "print(list(FockList_ini))\n",
    "print(list(FockList_after))\n",
    "\n",
    "div = Fact_Fock(FockList_ini, FockList_after)\n",
    "\n",
    "ini_vec = transform(FockList_ini)\n",
    "after_vec = transform(FockList_after)\n",
    "clasic_calc = np.abs(perm(U[:,ini_vec][after_vec]))**2 / div\n",
    "Boson_calc = probs[FockList_after[0],\n",
    "                   FockList_after[1],\n",
    "                   FockList_after[2],\n",
    "                   FockList_after[3]]\n",
    "print(clasic_calc, Boson_calc)"
   ]
  },
  {
   "cell_type": "code",
   "execution_count": 59,
   "metadata": {},
   "outputs": [
    {
     "data": {
      "text/plain": [
       "2"
      ]
     },
     "execution_count": 59,
     "metadata": {},
     "output_type": "execute_result"
    }
   ],
   "source": []
  },
  {
   "cell_type": "code",
   "execution_count": null,
   "metadata": {},
   "outputs": [],
   "source": []
  }
 ],
 "metadata": {
  "kernelspec": {
   "display_name": "Python 3",
   "language": "python",
   "name": "python3"
  },
  "language_info": {
   "codemirror_mode": {
    "name": "ipython",
    "version": 3
   },
   "file_extension": ".py",
   "mimetype": "text/x-python",
   "name": "python",
   "nbconvert_exporter": "python",
   "pygments_lexer": "ipython3",
   "version": "3.6.5"
  }
 },
 "nbformat": 4,
 "nbformat_minor": 2
}
