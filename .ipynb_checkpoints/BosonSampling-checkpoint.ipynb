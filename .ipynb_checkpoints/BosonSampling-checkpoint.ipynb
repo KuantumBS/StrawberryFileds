{
 "cells": [
  {
   "cell_type": "markdown",
   "metadata": {},
   "source": [
    "# Boson sampling Tutorial"
   ]
  },
  {
   "cell_type": "code",
   "execution_count": 1,
   "metadata": {},
   "outputs": [
    {
     "name": "stderr",
     "output_type": "stream",
     "text": [
      "/Users/ryunagai/.pyenv/versions/3.6.5/envs/main_env/lib/python3.6/site-packages/h5py/__init__.py:36: FutureWarning: Conversion of the second argument of issubdtype from `float` to `np.floating` is deprecated. In future, it will be treated as `np.float64 == np.dtype(float).type`.\n",
      "  from ._conv import register_converters as _register_converters\n"
     ]
    }
   ],
   "source": [
    "import numpy as np\n",
    "import strawberryfields as sf\n",
    "import random as rd\n",
    "from strawberryfields.ops import *"
   ]
  },
  {
   "cell_type": "code",
   "execution_count": 2,
   "metadata": {},
   "outputs": [
    {
     "name": "stdout",
     "output_type": "stream",
     "text": [
      "0.17468916048563937\n"
     ]
    }
   ],
   "source": [
    "eng, q = sf.Engine(4)\n",
    "#Input Fock state\n",
    "FockList_ini = [1,1,0,1]\n",
    "\n",
    "with eng:\n",
    "    # prepare the input fock states\n",
    "    Fock(FockList_ini[0]) | q[0]\n",
    "    Fock(FockList_ini[1]) | q[1]\n",
    "    Fock(FockList_ini[2]) | q[2]\n",
    "    Fock(FockList_ini[3]) | q[3]\n",
    "\n",
    "    # set rotation gates\n",
    "    Rgate(0.5719)\n",
    "    Rgate(-1.9782)\n",
    "    Rgate(2.0603)\n",
    "    Rgate(0.0644)\n",
    "\n",
    "    # beam splitter array\n",
    "    BSgate(0.7804, 0.8578)  | (q[0], q[1])\n",
    "    BSgate(0.06406, 0.5165) | (q[2], q[3])\n",
    "    BSgate(0.473, 0.1176)   | (q[1], q[2])\n",
    "    BSgate(0.563, 0.1517)   | (q[0], q[1])\n",
    "    BSgate(0.1323, 0.9946)  | (q[2], q[3])\n",
    "    BSgate(0.311, 0.3231)   | (q[1], q[2])\n",
    "    BSgate(0.4348, 0.0798)  | (q[0], q[1])\n",
    "    BSgate(0.4368, 0.6157)  | (q[2], q[3])\n",
    "    # end circuit\n",
    "\n",
    "# run the engine\n",
    "state = eng.run('fock', cutoff_dim=7)\n",
    "\n",
    "# extract the joint Fock probabilities\n",
    "probs = state.all_fock_probs()\n",
    "\n",
    "# print the joint Fock state probabilities\n",
    "print(probs[1,1,0,1])\n"
   ]
  },
  {
   "cell_type": "markdown",
   "metadata": {},
   "source": [
    "# Analysis with classical conputation"
   ]
  },
  {
   "cell_type": "code",
   "execution_count": 3,
   "metadata": {},
   "outputs": [],
   "source": [
    "from numpy.linalg import multi_dot\n",
    "from scipy.linalg import block_diag"
   ]
  },
  {
   "cell_type": "markdown",
   "metadata": {},
   "source": [
    "let’s generate the matrix representing the unitary transformation of the input mode annihilation and creation operators\n",
    "\n",
    "$$\n",
    "R(\\phi)\\hat{a}= \\hat{a} e^{i\\phi} \\\\\n",
    "BS(\\theta, \\phi)(\\hat{a}_{1},\\hat{a}_{2}) = \\left[\\begin{array}{c}\n",
    "      t & -r^{*} \\\\\n",
    "      r & t\\\\\n",
    "    \\end{array}\\right] \\quad\n",
    "$$\n"
   ]
  },
  {
   "cell_type": "code",
   "execution_count": 27,
   "metadata": {},
   "outputs": [],
   "source": [
    "Uphase = np.diag([np.exp(0.5719*1j),np.exp(-1.9782*1j),np.exp(2.0603*1j),np.exp(0.0644*1j)])"
   ]
  },
  {
   "cell_type": "code",
   "execution_count": 31,
   "metadata": {},
   "outputs": [],
   "source": [
    "BSargs = [\n",
    "(0.7804, 0.8578),\n",
    "(0.06406, 0.5165),\n",
    "(0.473, 0.1176),\n",
    "(0.563, 0.1517),\n",
    "(0.1323, 0.9946),\n",
    "(0.311, 0.3231),\n",
    "(0.4348, 0.0798),\n",
    "(0.4368, 0.6157)\n",
    "]\n",
    "\n",
    "# (theta, phi) to (t, r) for BS gate\n",
    "t_r_amplitudes = [(np.cos(q), np.exp(p*1j)*np.sin(q)) for q,p in BSargs]\n",
    "\n",
    "BSunitaries = [np.array([[t, -np.conj(r)], [r, t]]) for t,r in t_r_amplitudes]\n",
    "# list of 2x2 numpy array"
   ]
  },
  {
   "cell_type": "code",
   "execution_count": 39,
   "metadata": {},
   "outputs": [
    {
     "name": "stdout",
     "output_type": "stream",
     "text": [
      "[[ 0.71+0.j   -0.46+0.53j  0.  +0.j    0.  +0.j  ]\n",
      " [ 0.46+0.53j  0.71+0.j    0.  +0.j    0.  +0.j  ]\n",
      " [ 0.  +0.j    0.  +0.j    1.  +0.j   -0.06+0.03j]\n",
      " [ 0.  +0.j    0.  +0.j    0.06+0.03j  1.  +0.j  ]]\n",
      "diagonaolize BSgate[0] and BSgate[1] so that 4 x 4 unitary is made\n"
     ]
    }
   ],
   "source": [
    "UBS1 = block_diag(*BSunitaries[0:2])\n",
    "print(np.round(UBS1, 2))\n",
    "print('diagonaolize BSgate[0] and BSgate[1] so that 4 x 4 unitary is made')"
   ]
  },
  {
   "cell_type": "code",
   "execution_count": 35,
   "metadata": {},
   "outputs": [],
   "source": [
    "UBS2 = block_diag([[1]], BSunitaries[2], [[1]])\n",
    "UBS3 = block_diag(*BSunitaries[3:5])\n",
    "UBS4 = block_diag([[1]], BSunitaries[5], [[1]])\n",
    "UBS5 = block_diag(*BSunitaries[6:8])"
   ]
  },
  {
   "cell_type": "code",
   "execution_count": 43,
   "metadata": {},
   "outputs": [
    {
     "name": "stdout",
     "output_type": "stream",
     "text": [
      "combine all unitaries\n",
      "\n",
      "[[ 0.22-0.26j  0.61+0.52j -0.1 +0.47j -0.03+0.04j]\n",
      " [ 0.45+0.6j   0.46+0.01j  0.13-0.45j  0.04-0.05j]\n",
      " [ 0.04+0.49j -0.02-0.32j -0.24+0.52j -0.46+0.33j]\n",
      " [-0.16+0.22j  0.11-0.16j -0.42+0.18j  0.82+0.07j]]\n"
     ]
    }
   ],
   "source": [
    "U = multi_dot([UBS5, UBS4, UBS3, UBS2, UBS1, Uphase])\n",
    "print('combine all unitaries\\n')\n",
    "print(np.round(U,2))"
   ]
  },
  {
   "cell_type": "markdown",
   "metadata": {},
   "source": [
    "Calculate Permanate function in the analytic result of Boson sampling.\n",
    "\n",
    "$$\n",
    "|<n_{1},n_{2},…,n_{N}∣\\psi^{'}>|^{2} =\n",
    "\\frac{|\\mathrm{Perm}(U_{st})|^{2}}{m_{1}!m_{2}!,…,m_{N}!n_{1}!n_{2}!,…,n_{N}!}\n",
    "$$\n",
    "m : Photon Number of input modes  \n",
    "n : Photon Number of output modes\n",
    "\n",
    "Note\n",
    "\n",
    "It's classically hard to compute!\n",
    "\n",
    "This function makes use of the Balasubramanian-Bax-Franklin-Glynn formula, which scales as $$O(2^{n−1}n^{2})$$\n",
    " for an n×n\n",
    " matrix."
   ]
  },
  {
   "cell_type": "code",
   "execution_count": 5,
   "metadata": {},
   "outputs": [],
   "source": [
    "def perm(M):\n",
    "     n = M.shape[0]\n",
    "     d = np.ones(n)\n",
    "     j =  0\n",
    "     s = 1\n",
    "     f = np.arange(n)\n",
    "     v = M.sum(axis=0)\n",
    "     p = np.prod(v)\n",
    "     while (j < n-1):\n",
    "         v -= 2*d[j]*M[j]\n",
    "         d[j] = -d[j]\n",
    "         s = -s\n",
    "         prod = np.prod(v)\n",
    "         p += s*prod\n",
    "         f[0] = 0\n",
    "         f[j] = f[j+1]\n",
    "         f[j+1] = j+1\n",
    "         j = f[0]\n",
    "     return p/2**(n-1)"
   ]
  },
  {
   "cell_type": "markdown",
   "metadata": {},
   "source": [
    "Calculate Ust\n",
    "\n",
    "Input Fock state has a photon in 0th, 1st, and 3rd mode.\n",
    "$$|1,1,0,1> \\to (0,1,3)$$\n",
    "Output Fock state has 2 photons in 0th mode and a photon in 3rd mode.\n",
    "$$|2,0,0,1> \\to (0,0,3)$$\n",
    "\n",
    "Photon number should be preserved!"
   ]
  },
  {
   "cell_type": "code",
   "execution_count": 46,
   "metadata": {},
   "outputs": [
    {
     "name": "stdout",
     "output_type": "stream",
     "text": [
      "[[ 0.22-0.26j  0.61+0.52j -0.03+0.04j]\n",
      " [ 0.22-0.26j  0.61+0.52j -0.03+0.04j]\n",
      " [-0.16+0.22j  0.11-0.16j  0.82+0.07j]] \n",
      "\n",
      "0.10644192724642332 0.10644192724642339\n"
     ]
    }
   ],
   "source": [
    "clasic_calc = np.abs(perm(U[:,[0,1,3]][[0,0,3]]))**2 / 2\n",
    "print(np.round(U[:,[0,1,3]][[0,0,3]],2), '\\n')\n",
    "# / 2 derive to (1! * 1! * 0! * 1!) * (2! * 0! * 0! * 1!)\n",
    "Boson_calc = probs[2,0,0,1]\n",
    "print(clasic_calc, Boson_calc)"
   ]
  },
  {
   "cell_type": "markdown",
   "metadata": {},
   "source": [
    "Ust計算の補足"
   ]
  },
  {
   "cell_type": "code",
   "execution_count": 54,
   "metadata": {},
   "outputs": [
    {
     "name": "stdout",
     "output_type": "stream",
     "text": [
      "[[ 1  2  3  4]\n",
      " [ 5  6  7  8]\n",
      " [ 9 10 11 12]\n",
      " [13 14 15 16]]\n",
      "\n",
      "0, 1, 3列目を抜き出し\n",
      "[[ 1  2  4]\n",
      " [ 5  6  8]\n",
      " [ 9 10 12]\n",
      " [13 14 16]]\n",
      "\n",
      "0, 0, 3列目を抜き出し\n",
      "[[ 1  1  4]\n",
      " [ 5  5  8]\n",
      " [ 9  9 12]\n",
      " [13 13 16]]\n",
      "\n",
      "0, 1, 3列目を抜き出した行列から0,0,3行目を抜き出し\n",
      "[[ 1  2  4]\n",
      " [ 1  2  4]\n",
      " [13 14 16]]\n"
     ]
    }
   ],
   "source": [
    "A = np.array([[1,2,3,4],[5,6,7,8],[9,10,11,12],[13,14,15,16]])\n",
    "print(A)\n",
    "print('\\n0, 1, 3列目を抜き出し')\n",
    "print(A[:,[0,1,3]])\n",
    "print('\\n0, 0, 3列目を抜き出し')\n",
    "print(A[:,[0,0,3]])\n",
    "print('\\n0, 1, 3列目を抜き出した行列から0,0,3行目を抜き出し')\n",
    "print(A[:,[0,1,3]][[0,0,3]])"
   ]
  },
  {
   "cell_type": "markdown",
   "metadata": {},
   "source": [
    "## Input, Output Fock state をランダムに生成できるようにした"
   ]
  },
  {
   "cell_type": "code",
   "execution_count": 4,
   "metadata": {},
   "outputs": [],
   "source": [
    "import numpy as np\n",
    "import strawberryfields as sf\n",
    "import random as rd\n",
    "from strawberryfields.ops import *\n",
    "from numpy.linalg import multi_dot\n",
    "from scipy.linalg import block_diag\n",
    "import math"
   ]
  },
  {
   "cell_type": "code",
   "execution_count": 5,
   "metadata": {},
   "outputs": [],
   "source": [
    "def transform(photonNumList):\n",
    "    resList = []\n",
    "    for i in range(len(photonNumList)):\n",
    "        for j in range(photonNumList[i]):\n",
    "            resList.append(int(i))\n",
    "    return resList\n",
    "\n",
    "def perm(M):\n",
    "     n = M.shape[0]\n",
    "     d = np.ones(n)\n",
    "     j =  0\n",
    "     s = 1\n",
    "     f = np.arange(n)\n",
    "     v = M.sum(axis=0)\n",
    "     p = np.prod(v)\n",
    "     while (j < n-1):\n",
    "         v -= 2*d[j]*M[j]\n",
    "         d[j] = -d[j]\n",
    "         s = -s\n",
    "         prod = np.prod(v)\n",
    "         p += s*prod\n",
    "         f[0] = 0\n",
    "         f[j] = f[j+1]\n",
    "         f[j+1] = j+1\n",
    "         j = f[0]\n",
    "     return p/2**(n-1)\n",
    "\n",
    "def Fact_Fock(FockList_ini, FockList_after):\n",
    "    FockList_ini_Fact = [np.math.factorial(i) for i in FockList_ini]\n",
    "    FockList_after_Fact = [np.math.factorial(i) for i in FockList_after]\n",
    "\n",
    "    res = 1\n",
    "    for i in range(len(FockList_ini)):\n",
    "        res *= FockList_ini_Fact[i]\n",
    "\n",
    "    for i in range(len(FockList_after)):\n",
    "        res *= FockList_after_Fact[i]\n",
    "    return res"
   ]
  },
  {
   "cell_type": "code",
   "execution_count": 97,
   "metadata": {},
   "outputs": [],
   "source": [
    "NodeNum = 4\n",
    "\n",
    "# 入力光子数状態(FockList_ini)をランダムに生成\n",
    "'''\n",
    "FockList_ini = np.zeros(4, dtype=int)\n",
    "SumOfPhoton = 3\n",
    "for i in range(SumOfPhoton):\n",
    "    tmp = rd.randint(0, NodeNum-1)\n",
    "    FockList_ini[tmp] += int(1)\n",
    "'''\n",
    "    \n",
    "# 1つのポートに2光子以上存在しない場合\n",
    "'''\n",
    "arr = np.arange(NodeNum)\n",
    "np.random.shuffle(arr)\n",
    "for i in range(SumOfPhoton):\n",
    "    FockList_ini[arr[i]] += int(1)\n",
    "'''\n",
    "\n",
    "FockList_ini = [1,1,0,1]\n",
    "\n",
    "eng, q = sf.Engine(4)\n",
    "\n",
    "with eng:\n",
    "    # prepare the input fock states\n",
    "    Fock(FockList_ini[0]) | q[0]\n",
    "    Fock(FockList_ini[1]) | q[1]\n",
    "    Fock(FockList_ini[2]) | q[2] # vacuum state (optional)\n",
    "    Fock(FockList_ini[3]) | q[3]\n",
    "\n",
    "    # rotation gates\n",
    "    Rgate(0.5719)\n",
    "    Rgate(-1.9782)\n",
    "    Rgate(2.0603)\n",
    "    Rgate(0.0644)\n",
    "\n",
    "    # beamsplitter array\n",
    "    BSgate(0.7804, 0.8578)  | (q[0], q[1])\n",
    "    BSgate(0.06406, 0.5165) | (q[2], q[3])\n",
    "    BSgate(0.473, 0.1176)   | (q[1], q[2])\n",
    "    BSgate(0.563, 0.1517)   | (q[0], q[1])\n",
    "    BSgate(0.1323, 0.9946)  | (q[2], q[3])\n",
    "    BSgate(0.311, 0.3231)   | (q[1], q[2])\n",
    "    BSgate(0.4348, 0.0798)  | (q[0], q[1])\n",
    "    BSgate(0.4368, 0.6157)  | (q[2], q[3])\n",
    "    # end circuit\n",
    "    # not performing measurement\n",
    "\n",
    "# run the engine\n",
    "state = eng.run('fock', cutoff_dim=8)\n",
    "\n",
    "# extract the joint Fock probabilities\n",
    "probs = state.all_fock_probs()"
   ]
  },
  {
   "cell_type": "code",
   "execution_count": 6,
   "metadata": {},
   "outputs": [
    {
     "ename": "NameError",
     "evalue": "name 'SumOfPhoton' is not defined",
     "output_type": "error",
     "traceback": [
      "\u001b[0;31m---------------------------------------------------------------------------\u001b[0m",
      "\u001b[0;31mNameError\u001b[0m                                 Traceback (most recent call last)",
      "\u001b[0;32m<ipython-input-6-93d73ff2ef09>\u001b[0m in \u001b[0;36m<module>\u001b[0;34m()\u001b[0m\n\u001b[1;32m     28\u001b[0m \u001b[0mFockList_after\u001b[0m \u001b[0;34m=\u001b[0m \u001b[0mnp\u001b[0m\u001b[0;34m.\u001b[0m\u001b[0mzeros\u001b[0m\u001b[0;34m(\u001b[0m\u001b[0;36m4\u001b[0m\u001b[0;34m,\u001b[0m \u001b[0mdtype\u001b[0m\u001b[0;34m=\u001b[0m\u001b[0mint\u001b[0m\u001b[0;34m)\u001b[0m\u001b[0;34m\u001b[0m\u001b[0m\n\u001b[1;32m     29\u001b[0m \u001b[0;34m\u001b[0m\u001b[0m\n\u001b[0;32m---> 30\u001b[0;31m \u001b[0;32mfor\u001b[0m \u001b[0mi\u001b[0m \u001b[0;32min\u001b[0m \u001b[0mrange\u001b[0m\u001b[0;34m(\u001b[0m\u001b[0mSumOfPhoton\u001b[0m\u001b[0;34m)\u001b[0m\u001b[0;34m:\u001b[0m\u001b[0;34m\u001b[0m\u001b[0m\n\u001b[0m\u001b[1;32m     31\u001b[0m     \u001b[0mtmp\u001b[0m \u001b[0;34m=\u001b[0m \u001b[0mrd\u001b[0m\u001b[0;34m.\u001b[0m\u001b[0mrandint\u001b[0m\u001b[0;34m(\u001b[0m\u001b[0;36m0\u001b[0m\u001b[0;34m,\u001b[0m \u001b[0mNodeNum\u001b[0m\u001b[0;34m-\u001b[0m\u001b[0;36m1\u001b[0m\u001b[0;34m)\u001b[0m\u001b[0;34m\u001b[0m\u001b[0m\n\u001b[1;32m     32\u001b[0m     \u001b[0mFockList_after\u001b[0m\u001b[0;34m[\u001b[0m\u001b[0mtmp\u001b[0m\u001b[0;34m]\u001b[0m \u001b[0;34m+=\u001b[0m \u001b[0mint\u001b[0m\u001b[0;34m(\u001b[0m\u001b[0;36m1\u001b[0m\u001b[0;34m)\u001b[0m\u001b[0;34m\u001b[0m\u001b[0m\n",
      "\u001b[0;31mNameError\u001b[0m: name 'SumOfPhoton' is not defined"
     ]
    }
   ],
   "source": [
    "Uphase = np.diag([np.exp(0.5719*1j),np.exp(-1.9782*1j),np.exp(2.0603*1j),np.exp(0.0644*1j)])\n",
    "\n",
    "BSargs = [\n",
    "(0.7804, 0.8578),\n",
    "(0.06406, 0.5165),\n",
    "(0.473, 0.1176),\n",
    "(0.563, 0.1517),\n",
    "(0.1323, 0.9946),\n",
    "(0.311, 0.3231),\n",
    "(0.4348, 0.0798),\n",
    "(0.4368, 0.6157)\n",
    "]\n",
    "\n",
    "t_r_amplitudes = [(np.cos(q), np.exp(p*1j)*np.sin(q)) for q,p in BSargs]\n",
    "# Official tutorial lack \"*1j\"\n",
    "BSunitaries = [np.array([[t, -np.conj(r)], [r, t]]) for t,r in t_r_amplitudes]\n",
    "# list of 2x2 numpy array\n",
    "\n",
    "UBS1 = block_diag(*BSunitaries[0:2])\n",
    "UBS2 = block_diag([[1]], BSunitaries[2], [[1]])\n",
    "UBS3 = block_diag(*BSunitaries[3:5])\n",
    "UBS4 = block_diag([[1]], BSunitaries[5], [[1]])\n",
    "UBS5 = block_diag(*BSunitaries[6:8])\n",
    "U = multi_dot([UBS5, UBS4, UBS3, UBS2, UBS1, Uphase])\n",
    "\n",
    "# 出力側光子検出器の検出結果をランダムに生成\n",
    "###########\n",
    "FockList_after = np.zeros(4, dtype=int)\n",
    "\n",
    "for i in range(SumOfPhoton):\n",
    "    tmp = rd.randint(0, NodeNum-1)\n",
    "    FockList_after[tmp] += int(1)\n",
    "###########\n",
    "\n",
    "# 任意の値を使用する場合\n",
    "#FockList_after = [1,0,1,1]\n",
    "  \n",
    "print(list(FockList_ini))\n",
    "print(list(FockList_after))\n",
    "\n",
    "div = Fact_Fock(FockList_ini, FockList_after)\n",
    "\n",
    "ini_vec = transform(FockList_ini)\n",
    "after_vec = transform(FockList_after)\n",
    "clasic_calc = np.abs(perm(U[:,ini_vec][after_vec]))**2 / div\n",
    "Boson_calc = probs[FockList_after[0],\n",
    "                   FockList_after[1],\n",
    "                   FockList_after[2],\n",
    "                   FockList_after[3]]\n",
    "print('Probability calculated with:')\n",
    "print('Classical algorithm',clasic_calc)\n",
    "print('Boson sampling',Boson_calc)"
   ]
  },
  {
   "cell_type": "code",
   "execution_count": 59,
   "metadata": {},
   "outputs": [
    {
     "data": {
      "text/plain": [
       "2"
      ]
     },
     "execution_count": 59,
     "metadata": {},
     "output_type": "execute_result"
    }
   ],
   "source": []
  },
  {
   "cell_type": "code",
   "execution_count": null,
   "metadata": {},
   "outputs": [],
   "source": []
  }
 ],
 "metadata": {
  "kernelspec": {
   "display_name": "Python 3",
   "language": "python",
   "name": "python3"
  },
  "language_info": {
   "codemirror_mode": {
    "name": "ipython",
    "version": 3
   },
   "file_extension": ".py",
   "mimetype": "text/x-python",
   "name": "python",
   "nbconvert_exporter": "python",
   "pygments_lexer": "ipython3",
   "version": "3.6.5"
  }
 },
 "nbformat": 4,
 "nbformat_minor": 2
}
