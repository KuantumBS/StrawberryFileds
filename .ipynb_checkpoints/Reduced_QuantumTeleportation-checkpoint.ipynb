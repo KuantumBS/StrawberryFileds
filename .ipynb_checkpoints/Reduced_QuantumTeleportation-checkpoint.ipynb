{
 "cells": [
  {
   "cell_type": "markdown",
   "metadata": {},
   "source": [
    "# Import"
   ]
  },
  {
   "cell_type": "code",
   "execution_count": 5,
   "metadata": {},
   "outputs": [],
   "source": [
    "import strawberryfields as sf\n",
    "from strawberryfields.ops import *\n",
    "from strawberryfields.utils import scale\n",
    "from numpy import pi, sqrt\n",
    "import matplotlib.pyplot as plt"
   ]
  },
  {
   "cell_type": "code",
   "execution_count": 6,
   "metadata": {},
   "outputs": [],
   "source": [
    "eng, q = sf.Engine(3)"
   ]
  },
  {
   "cell_type": "code",
   "execution_count": 9,
   "metadata": {},
   "outputs": [
    {
     "name": "stdout",
     "output_type": "stream",
     "text": [
      "prepared state :  1 0.5\n"
     ]
    },
    {
     "data": {
      "text/plain": [
       "<matplotlib.contour.QuadContourSet at 0x118231d68>"
      ]
     },
     "execution_count": 9,
     "metadata": {},
     "output_type": "execute_result"
    },
    {
     "data": {
      "image/png": "[encoded data removed]",
      "text/plain": [
       "<Figure size 432x288 with 1 Axes>"
      ]
     },
     "metadata": {},
     "output_type": "display_data"
    }
   ],
   "source": [
    "@sf.convert\n",
    "def custom(x):\n",
    "    return -x*sqrt(2)\n",
    "\n",
    "\n",
    "x_ini = 1\n",
    "p_ini = 0.5\n",
    "with eng:\n",
    "    # prepare the initial states\n",
    "    Coherent(x_ini + p_ini * 1j) | q[0]  # This is the state we want to teleport\n",
    "    Sgate(-2) | q[1] # momentum squeezed\n",
    "    Sgate(2) | q[2] # position squeezed\n",
    "    \n",
    "    # apply the gates\n",
    "    BSgate(pi/4, 0) | (q[1], q[2])  # a 50-50 beamsplitter\n",
    "    BSgate(pi/4, 0) | (q[0], q[1])  # a 50-50 beamsplitter\n",
    "    \n",
    "    # perform the homodyne measurements\n",
    "    MeasureX | q[0]\n",
    "    MeasureP | q[1]    \n",
    "    \n",
    "    # displacement gates conditioned on the measurements\n",
    "    Xgate(scale(q[0], sqrt(2))) | q[2]\n",
    "    Zgate(scale(q[1], sqrt(2))) | q[2]\n",
    "    #Zgate(custom(q[1])) | q[2]\n",
    "    \n",
    "state = eng.run('fock', cutoff_dim=15)\n",
    "print('prepared state : ', x_ini, p_ini)\n",
    "#print(q[0].val, q[1].val)\n",
    "\n",
    "x = np.arange(-5, 5, 0.1)\n",
    "p = np.arange(-5, 5, 0.1)\n",
    "W = state.wigner(2, x, p)\n",
    "X, P = np.meshgrid(x, p)\n",
    "plt.contourf(X, P, W)"
   ]
  },
  {
   "cell_type": "markdown",
   "metadata": {},
   "source": [
    "# Gaussian backend"
   ]
  },
  {
   "cell_type": "code",
   "execution_count": 21,
   "metadata": {},
   "outputs": [
    {
     "name": "stdout",
     "output_type": "stream",
     "text": [
      "telepoted state's mean of x and p\n",
      "2.271047597290189 1.2010071386881478\n",
      "original state's mean of x and p\n",
      "2.0 1.0\n"
     ]
    },
    {
     "data": {
      "text/plain": [
       "<matplotlib.contour.QuadContourSet at 0x118782400>"
      ]
     },
     "execution_count": 21,
     "metadata": {},
     "output_type": "execute_result"
    },
    {
     "data": {
      "image/png": "[encoded data removed]",
      "text/plain": [
       "<Figure size 432x288 with 1 Axes>"
      ]
     },
     "metadata": {},
     "output_type": "display_data"
    }
   ],
   "source": [
    "import strawberryfields as sf\n",
    "from strawberryfields.ops import *\n",
    "from strawberryfields.utils import scale\n",
    "from numpy import pi, sqrt\n",
    "import matplotlib.pyplot as plt\n",
    "\n",
    "eng_g, q_g = sf.Engine(4)\n",
    "\n",
    "r = 2 #squeeze Level\n",
    "\n",
    "x_ini = 1\n",
    "p_ini = 0.5\n",
    "with eng_g:\n",
    "    # prepare the initial states\n",
    "    Coherent(x_ini + p_ini * 1j) | q_g[0]  # This is the state we will teleport\n",
    "    Sgate(-r) | q_g[1] # momentum squeezed\n",
    "    Sgate(r) | q_g[2] # position squeezed\n",
    "    \n",
    "    Coherent(x_ini + p_ini * 1j) | q_g[3]  # Same state as q[0] for check\n",
    "    \n",
    "    # apply the gates\n",
    "    BSgate(pi/4, 0) | (q_g[1], q_g[2])  # a 50-50 beamsplitter\n",
    "    BSgate(pi/4, 0) | (q_g[0], q_g[1])  # a 50-50 beamsplitter\n",
    "    \n",
    "    # perform the homodyne measurements\n",
    "    MeasureX | q_g[0]\n",
    "    MeasureP | q_g[1]    \n",
    "    \n",
    "    # displacement gates conditioned on the measurements\n",
    "    Xgate(scale(q_g[0], sqrt(2))) | q_g[2]\n",
    "    Zgate(scale(q_g[1], sqrt(2))) | q_g[2]\n",
    "    \n",
    "state_g = eng_g.run('gaussian')\n",
    "#print('prepared state : ', x_ini, p_ini)\n",
    "print(\"telepoted state's mean of x and p\")\n",
    "print(state_g.means()[2], state_g.means()[6])\n",
    "\n",
    "print(\"original state's mean of x and p\")\n",
    "print(state_g.means()[3], state_g.means()[7])\n",
    "\n",
    "x = np.arange(-5, 5, 0.1)\n",
    "p = np.arange(-5, 5, 0.1)\n",
    "W_g = state_g.wigner(2, x, p)\n",
    "X, P = np.meshgrid(x, p)\n",
    "plt.contourf(X, P, W_g)"
   ]
  },
  {
   "cell_type": "code",
   "execution_count": 2,
   "metadata": {},
   "outputs": [
    {
     "name": "stdout",
     "output_type": "stream",
     "text": [
      "2.0 1.0\n"
     ]
    },
    {
     "data": {
      "text/plain": [
       "<matplotlib.contour.QuadContourSet at 0x117a296d8>"
      ]
     },
     "execution_count": 2,
     "metadata": {},
     "output_type": "execute_result"
    },
    {
     "data": {
      "image/png": "[encoded data removed]",
      "text/plain": [
       "<Figure size 432x288 with 1 Axes>"
      ]
     },
     "metadata": {},
     "output_type": "display_data"
    }
   ],
   "source": [
    "x1 = np.arange(-5, 5, 0.1)\n",
    "p1 = np.arange(-5, 5, 0.1)\n",
    "W_ini = state_g.wigner(3, x1, p1)\n",
    "print(state_g.means()[3], state_g.means()[7])\n",
    "X1, P1 = np.meshgrid(x1, p1)\n",
    "plt.contourf(X1, P1, W_ini)"
   ]
  },
  {
   "cell_type": "code",
   "execution_count": null,
   "metadata": {},
   "outputs": [],
   "source": []
  }
 ],
 "metadata": {
  "kernelspec": {
   "display_name": "Python 3",
   "language": "python",
   "name": "python3"
  },
  "language_info": {
   "codemirror_mode": {
    "name": "ipython",
    "version": 3
   },
   "file_extension": ".py",
   "mimetype": "text/x-python",
   "name": "python",
   "nbconvert_exporter": "python",
   "pygments_lexer": "ipython3",
   "version": "3.6.5"
  }
 },
 "nbformat": 4,
 "nbformat_minor": 2
}
