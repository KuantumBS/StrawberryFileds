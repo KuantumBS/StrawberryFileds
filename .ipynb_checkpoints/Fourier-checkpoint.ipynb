{
 "cells": [
  {
   "cell_type": "markdown",
   "metadata": {},
   "source": [
    "# DFT\n",
    "\n",
    "$$\n",
    "y_k = \\frac{1}{\\sqrt{N}} \\sum^{N-1}_{j=0} \\exp{(i\\frac{2\\pi kj}{N})}x_j\n",
    "$$"
   ]
  },
  {
   "cell_type": "code",
   "execution_count": 1,
   "metadata": {},
   "outputs": [],
   "source": [
    "import numpy as np\n",
    "import matplotlib.pyplot as plt\n",
    "import cmath as cm\n",
    "%matplotlib inline"
   ]
  },
  {
   "cell_type": "code",
   "execution_count": 2,
   "metadata": {},
   "outputs": [
    {
     "name": "stdout",
     "output_type": "stream",
     "text": [
      "N =  1000\n"
     ]
    },
    {
     "data": {
      "text/plain": [
       "[<matplotlib.lines.Line2D at 0x11220a390>]"
      ]
     },
     "execution_count": 2,
     "metadata": {},
     "output_type": "execute_result"
    },
    {
     "data": {
      "image/png": "[encoded data removed]",
      "text/plain": [
       "<Figure size 432x288 with 2 Axes>"
      ]
     },
     "metadata": {},
     "output_type": "display_data"
    }
   ],
   "source": [
    "N = 1000 # Num of data points\n",
    "Ts = 1 / 1000 # 10k sample per 1s\n",
    "print('N = ',N)\n",
    "x0 = np.arange(0,N)\n",
    "x1 = np.sin(2*np.pi * x0 / 10) # sine wave 100 cycle = 100Hz\n",
    "x2 = np.sin(2*np.pi * x0 / 50) # sine wave 20 cycle = 20Hz\n",
    "x = x1 + x2\n",
    "\n",
    "plt.subplot(2, 1, 1)\n",
    "plt.plot(x[:(np.int(N/5))])\n",
    "\n",
    "#plt.plot(x0[:1000],x[:1000])\n",
    "\n",
    "W = np.zeros([N,N]) + 1e-32j\n",
    "\n",
    "for k in range(N):\n",
    "    for j in range(0,N):\n",
    "        W[k][j] = cm.exp(1j * 2*cm.pi*k*j / N)\n",
    "        \n",
    "y = abs(np.dot(W,x)) / np.sqrt(N) / (N*Ts) # convert to actual freq.\n",
    "\n",
    "plt.subplot(2, 1, 2)\n",
    "plt.plot(y)"
   ]
  },
  {
   "cell_type": "code",
   "execution_count": 3,
   "metadata": {},
   "outputs": [
    {
     "data": {
      "text/plain": [
       "(0, 200)"
      ]
     },
     "execution_count": 3,
     "metadata": {},
     "output_type": "execute_result"
    },
    {
     "data": {
      "image/png": "[encoded data removed]",
      "text/plain": [
       "<Figure size 432x288 with 1 Axes>"
      ]
     },
     "metadata": {},
     "output_type": "display_data"
    }
   ],
   "source": [
    "plt.plot(y)\n",
    "plt.xlim(0, 200)"
   ]
  },
  {
   "cell_type": "markdown",
   "metadata": {},
   "source": [
    "# 量子フーリエ変換\n",
    "https://whyitsso.net/physics/quantum_mechanics/QFT.html"
   ]
  },
  {
   "cell_type": "markdown",
   "metadata": {},
   "source": [
    "$$\n",
    "|\\ x> = \\sum^{N-1}_{j=0} x_j\\ |\\ j>\n",
    "$$"
   ]
  },
  {
   "cell_type": "code",
   "execution_count": 6,
   "metadata": {},
   "outputs": [],
   "source": [
    "qubitNum = 4\n",
    "N = 2**qubitNum"
   ]
  },
  {
   "cell_type": "markdown",
   "metadata": {},
   "source": [
    "こうしたい\n",
    "$$\n",
    "\\begin{align}\n",
    "|\\ y> &= \\sum^{N-1}_{k=0} y_k\\ |\\ k>\\\\\n",
    "&=\\sum^{N-1}_{k=0} [\\frac{1}{\\sqrt{N}} \\sum^{N-1}_{j=0} \\exp{(i\\frac{2\\pi kj}{N})}x_j]\\ |\\ k>\\\\\n",
    "&=\\sum^{N-1}_{j=0}x_j\\ [\\frac{1}{\\sqrt{N}} \\sum^{N-1}_{k=0} \\exp{(i\\frac{2\\pi kj}{N})}\\ |\\ k> ]\n",
    "\\end{align}\n",
    "$$\n",
    "\n",
    "$|\\ k>$がもつ基底の1つ1つにDFTの入力における点1つを割り当てるイメージ。\n",
    "\n",
    "こうするためには、  \n",
    "$$\n",
    "|\\ j>\\ \\to \\frac{1}{\\sqrt{N}} \\sum^{N-1}_{k=0} \\exp{(i\\frac{2\\pi kj}{N})}\\ |\\ k> \n",
    "$$\n",
    "\n",
    "実は、\n",
    "$$\n",
    "\\frac{1}{\\sqrt{2^n}}(|0>+e^{i2\\pi 0.j_0}|1>)(|0>+e^{i2\\pi 0.j_1 j_0}|1>)\\cdots (|0>+e^{i2\\pi 0.j_{n-1} j_{n-2} \\cdots j_0}|1>)\n",
    "$$"
   ]
  },
  {
   "cell_type": "code",
   "execution_count": 3,
   "metadata": {},
   "outputs": [],
   "source": [
    "import numpy as np\n",
    "\n",
    "class Qbits:\n",
    "    def __init__(self, initial):\n",
    "        self.states = []\n",
    "        for i in range(len(initial)):\n",
    "            if initial[i]==1:# |1>\n",
    "                self.states.append(np.array([0+0j,1+0j]))\n",
    "            else:\n",
    "                self.states.append(np.array([1+0j,0+0j]))\n",
    "    \n",
    "\n",
    "    def tensorProd(self, a, b):\n",
    "        dim_a = len(a)\n",
    "        dim_b = len(b)\n",
    "        k = np.zeros(dim_a*dim_b) + 0j\n",
    "        ite = 0\n",
    "        for i in range(dim_a):\n",
    "            for j in range(dim_b):\n",
    "                k[ite] = a[i]*b[j]\n",
    "                ite += 1\n",
    "        return k\n",
    "    \n",
    "    def outputTensorProduct(self):\n",
    "        out = self.states[0]\n",
    "        for i in range(1, len(self.states)):\n",
    "            out = self.tensorProd(out, self.states[i])\n",
    "        return out\n",
    "    \n",
    "    def Hadamard(self, i):\n",
    "        H = np.array([[1,1],[1,-1]]) / np.sqrt(2)\n",
    "        self.states[i] = np.dot(H, self.states[i])\n",
    "        \n",
    "    def C_Hadamard(self, c, i):\n",
    "        if self.states[c] == np.array([1,0]):\n",
    "            self.Hadamard(i)\n",
    "            \n",
    "    def Rphase(self, i, k):\n",
    "        R = np.array([[1,0],[0,np.exp(1j * np.pi / (2**k))]]) + 0j\n",
    "        self.states[i] = np.dot(R, self.states[i])\n",
    "        \n",
    "    def C_Rphase(self, c, i, k):\n",
    "        if self.states[c][1] == 1+0j:\n",
    "            self.Rphase(i, k)\n",
    "            \n",
    "    def flipState(self):\n",
    "        self.states.reverse()\n",
    "            \n",
    "def QFT(initial):\n",
    "    A = Qbits(initial = initial)\n",
    "    N = len(initial)\n",
    "    for i in range(N):\n",
    "        for j in range(i):\n",
    "            A.C_Rphase(i, j, i-j)\n",
    "        A.Hadamard(i)\n",
    "    A.flipState()\n",
    "    return A.outputTensorProduct()"
   ]
  },
  {
   "cell_type": "markdown",
   "metadata": {},
   "source": [
    "確認  \n",
    "|01> (= |2>)を量子フーリエ変換  \n",
    "N = 4    \n",
    "j, k = {0,1,2,3}\n",
    "\n",
    "$$\n",
    "\\begin{align}\n",
    "|\\ j>\\ &\\to  \\frac{1}{\\sqrt{N}} \\sum^{N-1}_{k=0} \\exp{(i\\frac{2\\pi kj}{N})}\\ |\\ k> \\\\\n",
    "&= \\frac{1}{\\sqrt{2^n}}(|0>+e^{i2\\pi 0.j_0}|1>)(|0>+e^{i2\\pi 0.j_1 j_0}|1>)\\cdots (|0>+e^{i2\\pi 0.j_{n-1} j_{n-2} \\cdots j_0}|1>)\n",
    "\\end{align}\n",
    "$$"
   ]
  },
  {
   "cell_type": "code",
   "execution_count": 9,
   "metadata": {},
   "outputs": [
    {
     "name": "stdout",
     "output_type": "stream",
     "text": [
      "[ 0.5+0.j -0.5+0.j  0.5-0.j -0.5+0.j]\n"
     ]
    }
   ],
   "source": [
    "import numpy as np\n",
    "\n",
    "def binToInt(inputState):\n",
    "    out = 0\n",
    "    for i in range(len(inputState)):\n",
    "        out += inputState[-1-i]*  2**i\n",
    "    return out\n",
    "\n",
    "def QFT_calc(inputState):\n",
    "    j = binToInt(inputState)\n",
    "    N = 2**len(inputState)\n",
    "    calc = []\n",
    "    for i in range(N):\n",
    "        calc.append(1/np.sqrt(N) * np.exp(1j * 2*np.pi *i*j / N))\n",
    "    return calc\n",
    "\n",
    "inputState = [1,0]\n",
    "calc = QFT_calc(inputState)\n",
    "print(np.round(calc,3))"
   ]
  },
  {
   "cell_type": "code",
   "execution_count": 6,
   "metadata": {},
   "outputs": [
    {
     "name": "stdout",
     "output_type": "stream",
     "text": [
      "[ 0.5+0.j -0.5+0.j  0.5+0.j -0.5+0.j]\n"
     ]
    }
   ],
   "source": [
    "import numpy as np\n",
    "\n",
    "class Qbits:\n",
    "    def __init__(self, initial):\n",
    "        self.states = []\n",
    "        for i in range(len(initial)):\n",
    "            if initial[i]==1:# |1>\n",
    "                self.states.append(np.array([0+0j,1+0j]))\n",
    "            else:\n",
    "                self.states.append(np.array([1+0j,0+0j]))\n",
    "    \n",
    "\n",
    "    def tensorProd(self, a, b):\n",
    "        dim_a = len(a)\n",
    "        dim_b = len(b)\n",
    "        k = np.zeros(dim_a*dim_b) + 0j\n",
    "        ite = 0\n",
    "        for i in range(dim_a):\n",
    "            for j in range(dim_b):\n",
    "                k[ite] = a[i]*b[j]\n",
    "                ite += 1\n",
    "        return k\n",
    "    \n",
    "    def outputTensorProduct(self):\n",
    "        out = self.states[0]\n",
    "        for i in range(1, len(self.states)):\n",
    "            out = self.tensorProd(out, self.states[i])\n",
    "        return out\n",
    "    \n",
    "    def Hadamard(self, i):\n",
    "        H = np.array([[1,1],[1,-1]]) / np.sqrt(2)\n",
    "        self.states[i] = np.dot(H, self.states[i])\n",
    "        \n",
    "    def C_Hadamard(self, c, i):\n",
    "        if self.states[c] == np.array([1,0]):\n",
    "            self.Hadamard(i)\n",
    "            \n",
    "    def Rphase(self, i, k):\n",
    "        R = np.array([[1,0],[0,np.exp(1j * np.pi / (2**k))]]) + 0j\n",
    "        self.states[i] = np.dot(R, self.states[i])\n",
    "        \n",
    "    def C_Rphase(self, c, i, k):\n",
    "        if self.states[c][1] == 1+0j:\n",
    "            self.Rphase(i, k)\n",
    "            \n",
    "    def flipState(self):\n",
    "        self.states.reverse()\n",
    "            \n",
    "def QFT(initial):\n",
    "    A = Qbits(initial = initial)\n",
    "    N = len(initial)\n",
    "    for i in range(N):\n",
    "        for j in range(i):\n",
    "            A.C_Rphase(i, j, i-j)\n",
    "        A.Hadamard(i)\n",
    "    A.flipState()\n",
    "    return A.outputTensorProduct()\n",
    "\n",
    "inputState = [1,0]\n",
    "a = QFT(initial = inputState)\n",
    "print(np.round(a,3))"
   ]
  },
  {
   "cell_type": "code",
   "execution_count": 8,
   "metadata": {},
   "outputs": [
    {
     "name": "stdout",
     "output_type": "stream",
     "text": [
      "[ 0.25 +0.j    -0.177-0.177j  0.   +0.25j   0.177-0.177j -0.25 +0.j\n",
      "  0.177+0.177j -0.   -0.25j  -0.177+0.177j  0.25 -0.j    -0.177-0.177j\n",
      " -0.   +0.25j   0.177-0.177j -0.25 +0.j     0.177+0.177j -0.   -0.25j\n",
      " -0.177+0.177j]\n",
      "[ 0.25 +0.j    -0.177-0.177j  0.   +0.25j   0.177-0.177j -0.25 +0.j\n",
      "  0.177+0.177j -0.   -0.25j  -0.177+0.177j  0.25 +0.j    -0.177-0.177j\n",
      "  0.   +0.25j   0.177-0.177j -0.25 +0.j     0.177+0.177j -0.   -0.25j\n",
      " -0.177+0.177j]\n"
     ]
    }
   ],
   "source": [
    "inputState = [1,0,1,0]\n",
    "\n",
    "calc = QFT_calc(inputState)\n",
    "print(np.round(calc,3))\n",
    "\n",
    "a = QFT(initial = inputState)\n",
    "print(np.round(a,3))"
   ]
  },
  {
   "cell_type": "code",
   "execution_count": null,
   "metadata": {},
   "outputs": [],
   "source": []
  }
 ],
 "metadata": {
  "kernelspec": {
   "display_name": "Python 3",
   "language": "python",
   "name": "python3"
  },
  "language_info": {
   "codemirror_mode": {
    "name": "ipython",
    "version": 3
   },
   "file_extension": ".py",
   "mimetype": "text/x-python",
   "name": "python",
   "nbconvert_exporter": "python",
   "pygments_lexer": "ipython3",
   "version": "3.6.5"
  }
 },
 "nbformat": 4,
 "nbformat_minor": 2
}
