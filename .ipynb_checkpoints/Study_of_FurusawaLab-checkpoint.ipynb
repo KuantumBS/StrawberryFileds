{
 "cells": [
  {
   "cell_type": "markdown",
   "metadata": {},
   "source": [
    "# Universal Quantum Computing with Measurement-Induced Continuous-Variable Gate Sequence in a Loop-Based Architecture"
   ]
  },
  {
   "cell_type": "markdown",
   "metadata": {},
   "source": [
    "- measurement-induced\n",
    "- continuous-variable\n",
    "- loop-based architecture\n",
    "- time-bin-encoded information in a single spatial mode\n",
    "- deterministically processed\n",
    "- performed fault-tolerantly\n",
    "- offers a universal gate set for both qubits and continuous variables"
   ]
  },
  {
   "cell_type": "markdown",
   "metadata": {},
   "source": [
    "CVによる測定誘起量子計算はqubit方式より以下の点で優秀\n",
    "- ancillae state と 測定(ホモダイン)を確率的でなくdeterministicに実行可能  \n",
    "\n",
    "qubitにはrobust encodingというメリットがある。  \n",
    "組み合わせて使いたい。\n",
    "\n",
    "空間モードエンコードは結局コンポーネント数が多くなりすぎるのでアウト  \n",
    "time-bin encodeをしよう"
   ]
  },
  {
   "cell_type": "markdown",
   "metadata": {},
   "source": [
    "- 単一の空間モード中の n-pulses に量子状態をエンコード\n",
    "- m個の ancilla pulses と一緒にループに入れる\n",
    "- ゲート操作は電気的操作をスイッチ、BSの透過率、phase shifter, 増幅器ゲインに対し行って実現  \n",
    "\n",
    "\n",
    "- 実験の複雑さを増すことなく、任意の入力、任意のモード数に対して行える\n",
    "- 任意のマルチモードクリフォードゲートを決定的に作るためには、1個の ancilla (スクイーズリソース)と1個のホモダインディテクタ、feedfoward electronicsがあれば良い(効率的)\n",
    "- Qubit, CV(qumode)双方に対してユニバーサル量子ゲートが実現可能。"
   ]
  },
  {
   "cell_type": "markdown",
   "metadata": {},
   "source": [
    "誤り訂正符号も実装可能らしい...  \n",
    "D. Gottesman, A. Kitaev, and J. Preskill, Phys. Rev. A 64, 012310 (2001)"
   ]
  },
  {
   "cell_type": "markdown",
   "metadata": {},
   "source": [
    "CVにおいて、Clifford gates は Gaussian gates\n",
    "$\\hat{R}(θ_2) \\hat{S}(r) \\hat{R}(θ_1)$\n",
    "と等価！  \n",
    "$\\hat{S}(r)^{\\dagger}\\hat{x}\\ \\hat{S}(r)=e^{-r}\\hat{x}$  \n",
    "$\\hat{S}(r)^{\\dagger}\\hat{p}\\ \\hat{S}(r)=e^{r}\\hat{p}$\n",
    "\n",
    "\n",
    "phase-space displacements : optical modulater  \n",
    "rotation : phase shifter"
   ]
  },
  {
   "cell_type": "markdown",
   "metadata": {},
   "source": [
    "### measurement-induced squeezing scheme  (測定誘起スクイージング)\n",
    "$\\hat{x}_{out} = \\sqrt{R_0}\\ \\hat{x}_{in}$  \n",
    "$\\hat{p}_{out} = \\hat{p}_{in}\\ \\sqrt{R_0}$\n",
    "\n",
    "\n",
    "スクイージングレベルをBSの反射率で調整可能  \n",
    "relations correspond to the squeezing operation $\\hat{S}(-\\ln \\sqrt{R_0})$"
   ]
  },
  {
   "cell_type": "code",
   "execution_count": 2,
   "metadata": {},
   "outputs": [
    {
     "name": "stderr",
     "output_type": "stream",
     "text": [
      "/Users/ryunagai/.pyenv/versions/3.6.5/envs/main_env/lib/python3.6/site-packages/h5py/__init__.py:36: FutureWarning: Conversion of the second argument of issubdtype from `float` to `np.floating` is deprecated. In future, it will be treated as `np.float64 == np.dtype(float).type`.\n",
      "  from ._conv import register_converters as _register_converters\n"
     ]
    }
   ],
   "source": [
    "import strawberryfields as sf\n",
    "from strawberryfields.ops import *\n",
    "from strawberryfields.utils import scale\n",
    "from numpy import pi, sqrt\n",
    "import matplotlib.pyplot as plt"
   ]
  },
  {
   "cell_type": "code",
   "execution_count": 116,
   "metadata": {},
   "outputs": [
    {
     "name": "stdout",
     "output_type": "stream",
     "text": [
      "29.328388345729422 [0.23840587 0.        ]\n"
     ]
    },
    {
     "data": {
      "image/png": "[encoded data removed]",
      "text/plain": [
       "<Figure size 432x288 with 1 Axes>"
      ]
     },
     "metadata": {},
     "output_type": "display_data"
    }
   ],
   "source": [
    "eng, q = sf.Engine(2)\n",
    "\n",
    "x_ini = 10\n",
    "p_ini = 0\n",
    "r = 1\n",
    "T0 = 1/2\n",
    "R0 = 1/2\n",
    "g0 = np.sqrt(T0/R0)\n",
    "with eng:\n",
    "    # prepare the initial states\n",
    "    Coherent(x_ini + p_ini * 1j) | q[0]  # input (arbite)\n",
    "    Sgate(r) | q[1] # Ancilla (position squeezed)\n",
    "    \n",
    "    # apply the gates\n",
    "    BSgate(pi/4, 0) | (q[0], q[1])  # a 50-50 beamsplitter\n",
    "    \n",
    "    # perform the homodyne measurements\n",
    "    #MeasureX | q[1]  \n",
    "    MeasureHomodyne(0) | q[1]\n",
    "    \n",
    "    # displacement gates conditioned on the measurements\n",
    "    Xgate(scale(q[1], g0)) | q[0]\n",
    "\n",
    "state = eng.run('gaussian')\n",
    "mu, cov = state.reduced_gaussian([0])\n",
    "x = np.arange(3*x_ini-5, 3*x_ini+5, 0.1)\n",
    "p = np.arange(3*p_ini-5, 3*p_ini+5, 0.1)\n",
    "W = state.wigner(0, x, p)\n",
    "X, P = np.meshgrid(x, p)\n",
    "plt.contourf(X, P, W)\n",
    "\n",
    "print(mu[0], cov[0])"
   ]
  },
  {
   "cell_type": "markdown",
   "metadata": {},
   "source": [
    "上記を古澤研はループ構造で実現した\n",
    "- the input pulse is picked up into the loop by setting the beam splitter transmissivity to T(t = 0) = 1\n",
    "- pulse entering the loop takes time τ to circle around the loop, and is subjected to a phase shift $\\hat{R}(\\theta_1)$\n",
    "- After one cycle in the loop, the input pulse coincides with the ancillary squeezed pulse at the beam splitter\n",
    "- The pulse leaving the loop is then immediately measured by a homodyne detector\n",
    "- whose output signal is fedforward with gain g0 to the pulse inside the loop\n",
    "- This feedforward completes the squeezing operation $\\hat{S}(−\\ln R_0)$\n",
    "- the pulse in the loop is subjected to another phase shift $\\hat{R}(\\theta_2)$ and exits the loop by choosing T(2τ) = 1\n",
    "\n",
    "this loop circuit provides a sufficient set of operations for an arbitrary single-mode Clifford gate in a programmable fashion."
   ]
  },
  {
   "cell_type": "markdown",
   "metadata": {},
   "source": [
    "### multi-mode Clifford gates"
   ]
  },
  {
   "cell_type": "markdown",
   "metadata": {},
   "source": [
    "any n-mode Clif- ford (Gaussian) gate in CVs can be decomposed into  \n",
    "- a n-mode linear interferometer,  \n",
    "- followed by the parallel applications of a set of single-mode squeezing operations  \n",
    "- followed by another n-mode linear interferometer  \n",
    "(up to displacement operations)\n",
    "\n",
    "\n",
    "time bin encoding に対する n-mode interferometer が欲しい"
   ]
  },
  {
   "cell_type": "markdown",
   "metadata": {},
   "source": [
    "An arbitrary n-mode linear interferometer can be decomposed into a sequence of at most $n(n−1)/2$ pairwise beam splitter operations"
   ]
  },
  {
   "cell_type": "code",
   "execution_count": null,
   "metadata": {},
   "outputs": [],
   "source": []
  }
 ],
 "metadata": {
  "kernelspec": {
   "display_name": "Python 3",
   "language": "python",
   "name": "python3"
  }
 },
 "nbformat": 4,
 "nbformat_minor": 2
}
