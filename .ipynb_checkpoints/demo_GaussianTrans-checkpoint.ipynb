{
 "cells": [
  {
   "cell_type": "code",
   "execution_count": 1,
   "metadata": {},
   "outputs": [],
   "source": [
    "import Gaussian as Gauss"
   ]
  },
  {
   "cell_type": "code",
   "execution_count": 2,
   "metadata": {},
   "outputs": [
    {
     "name": "stderr",
     "output_type": "stream",
     "text": [
      "/Users/ryunagai/.pyenv/versions/3.6.5/envs/main_env/lib/python3.6/site-packages/h5py/__init__.py:36: FutureWarning: Conversion of the second argument of issubdtype from `float` to `np.floating` is deprecated. In future, it will be treated as `np.float64 == np.dtype(float).type`.\n",
      "  from ._conv import register_converters as _register_converters\n"
     ]
    }
   ],
   "source": [
    "import numpy as np\n",
    "import strawberryfields as sf\n",
    "from strawberryfields.ops import *\n",
    "import matplotlib.pyplot as plt"
   ]
  },
  {
   "cell_type": "markdown",
   "metadata": {},
   "source": [
    "## ryuNagai式モジュール\n",
    "\n",
    "基本的なゲート動作と測定を一通り行っています。"
   ]
  },
  {
   "cell_type": "code",
   "execution_count": 5,
   "metadata": {},
   "outputs": [
    {
     "data": {
      "image/png": "[encoded data removed]",
      "text/plain": [
       "<Figure size 432x288 with 1 Axes>"
      ]
     },
     "metadata": {},
     "output_type": "display_data"
    },
    {
     "name": "stdout",
     "output_type": "stream",
     "text": [
      "3.9308921435970703\n",
      "mu0 = [ 2.58901816 -1.69763594]\n",
      "cov0 = [[ 1.58002566 -0.76159416]\n",
      " [-0.76159416  1.        ]]\n"
     ]
    }
   ],
   "source": [
    "G = Gauss.Gaussian_trans(2) # two qumode [0, 1]\n",
    "G.Displace(0, 2, 0) # Displacement gate, x to x+2\n",
    "G.Xsqueeze(0, 1) # X squeeIng gate, r=1\n",
    "G.rotation(0, np.pi/4) # pi/4 rotation gate\n",
    "G.BS(0, 1, np.pi/4) # 50:50 beam splitter\n",
    "x = G.MeasureX(1) # Measure mode 1\n",
    "G.plotGaussianWigner(0) # plot\n",
    "print(x)\n",
    "print('mu0 =', G.mu[0:2]) # mu of qumode 0\n",
    "print('cov0 =', G.V[0:2, 0:2]) # mu of qumode 1"
   ]
  },
  {
   "cell_type": "markdown",
   "metadata": {},
   "source": [
    "## Strawberry Fields\n",
    "\n",
    "上のコードと同様の操作をしています。  \n",
    "MeasureXで$\\hat{x}$を測定した際の測定値がガウス分布からのランダムサンプリングなので、実行のたび異なります。  \n",
    "測定されたqumodeは(現実には測定により光は検出器に吸収されて無くなりますが便宜上)、vacume stateにしています。  \n",
    "それ以外のqumodeは測定によって、\n",
    "\n",
    "- 共分散行列は測定値に依存せず変化する\n",
    "- 平均は測定値に依存して変化する\n",
    "\n",
    "ため、共分散行列は上のコードと出力が常に同じであるべきですが、平均は独立同分布なサンプル点がそれぞれ得られます。"
   ]
  },
  {
   "cell_type": "code",
   "execution_count": 6,
   "metadata": {},
   "outputs": [
    {
     "name": "stdout",
     "output_type": "stream",
     "text": [
      "mu0 = [ 1.31526836 -0.0251575 ]\n",
      "cov0 = [[ 1.58002565 -0.76159417]\n",
      " [-0.76159417  1.00000002]]\n"
     ]
    },
    {
     "data": {
      "text/plain": [
       "<matplotlib.contour.QuadContourSet at 0x11c2254a8>"
      ]
     },
     "execution_count": 6,
     "metadata": {},
     "output_type": "execute_result"
    },
    {
     "data": {
      "image/png": "[encoded data removed]",
      "text/plain": [
       "<Figure size 432x288 with 1 Axes>"
      ]
     },
     "metadata": {},
     "output_type": "display_data"
    }
   ],
   "source": [
    "eng, q = sf.Engine(2)\n",
    "\n",
    "with eng:\n",
    "        # prepare the initial states\n",
    "        Dgate(2) | q[0] # displacement gate\n",
    "        Sgate(1) | q[0] # position squeezed\n",
    "        Rgate(pi/4) | q[0] # rotation gate\n",
    "        BSgate(pi/4, 0) | (q[0], q[1])  # 50-50 beamsplitter\n",
    "\n",
    "        # perform the homodyne measurements\n",
    "        MeasureX | q[1]\n",
    "\n",
    "state = eng.run('gaussian')\n",
    "mu0, cov0 = state.reduced_gaussian([0])\n",
    "mu1, cov1 = state.reduced_gaussian([1])\n",
    "print('mu0 =', mu0)\n",
    "print('cov0 =', cov0)\n",
    "\n",
    "x = np.arange(-5, 5, 0.1)\n",
    "p = np.arange(-5, 5, 0.1)\n",
    "W = state.wigner(0, x, p)\n",
    "X, P = np.meshgrid(x, p)\n",
    "plt.contourf(X, P, W)"
   ]
  },
  {
   "cell_type": "markdown",
   "metadata": {},
   "source": [
    "## 以下、メモ"
   ]
  },
  {
   "cell_type": "markdown",
   "metadata": {},
   "source": [
    "## Phase space について\n",
    "\n",
    "N bosonic mode Hilbert space  \n",
    "$\\otimes^{N}_{k=1} \\mathcal{H}_k$\n",
    "\n",
    "vectorial operator  \n",
    "$\\hat{\\mathbf{b}} = (\\hat{a}_1, \\hat{a}_1^{\\dagger}, \\dots, \\hat{a}_N, \\hat{a}_N^{\\dagger})$ : 2N elements\n",
    "\n",
    "bosonic commutation relations  \n",
    "$[\\hat{b}_i, \\hat{b}_j] = \\Omega_{ij}\\ \\ (i, j = 1, \\dots, 2N)$ \n",
    "\n",
    "$\\mathbf{\\Omega} = \\oplus_{k=1}^{N}\\omega\\ \\ \\ \n",
    "\\omega = \n",
    "\\begin{pmatrix}\n",
    "0 & 1 \\\\\n",
    "-1 & 0 \\\\\n",
    "\\end{pmatrix}\n",
    "$\n",
    "\n",
    "Quadrature field  \n",
    "$\\hat{\\mathbf{x}} = (\\hat{q}_1, \\hat{p}_1, \\dots, \\hat{q}_N, \\hat{p}_N)$ : 2N elements\n",
    "\n",
    "canonical commutation relation  \n",
    "$[\\hat{x}_i, \\hat{x}_j] = 2i\\Omega_{ij}\\ \\ (i, j = 1, \\dots, 2N)$ "
   ]
  },
  {
   "cell_type": "markdown",
   "metadata": {},
   "source": [
    "## 密度演算子とWigner関数\n",
    "\n",
    "任意の密度演算子$\\hat{\\rho}$を考える  \n",
    "もし$\\hat{\\rho}^2 = \\hat{\\rho}$なら$\\hat{\\rho}$はpure state\n",
    "\n",
    "任意の密度演算子は等価なWigner関数が存在する\n",
    "\n",
    "Weyl operator  \n",
    "$D(\\xi) = \\exp(i \\hat{x}^T \\Omega \\hat{\\xi})$  \n",
    "\n",
    "これを用いて、Wigner characteristic functionを定義できる  \n",
    "$\\chi (\\xi) = \\mathrm{Tr}[\\hat{\\rho}D(\\xi)]$\n",
    "\n",
    "Wigner characteristic functionのフーリエ変換がWigner function  \n",
    "$W(\\mathbf{x}) = \\int_{R^{2N}} \\frac{d^{2N}}{(2\\pi)^{2N}} \\exp{(-i \\hat{x}^T \\Omega \\hat{\\xi})} \\chi (\\xi)$"
   ]
  },
  {
   "cell_type": "markdown",
   "metadata": {},
   "source": [
    "## 統計量とWigner関数\n",
    "\n",
    "Wigner functionは統計量でも定義できる  \n",
    "\n",
    "- first moment  \n",
    "$\\bar{\\mathbf{x}} = \\langle \\hat{\\mathbf{x}} \\rangle= \\mathrm{Tr}[\\hat{\\mathbf{x}} \\hat{\\rho}]$\n",
    "\n",
    "- second moment  \n",
    "$V_{ij} = \\frac{1}{2}\\langle \\{\\Delta\\hat{x}_i, \\Delta\\hat{x}_j \\}\\rangle$  \n",
    "$\\{ A, B \\} = AB+BA$\n",
    "\n",
    "$V_{ii}$は$\\hat{x}_i$の分散をあらわす\n",
    "\n",
    "Gaussian stateは最初の2モーメントだけで完全に記述可能"
   ]
  },
  {
   "cell_type": "markdown",
   "metadata": {},
   "source": [
    "## Gaussian Unitaryについて\n",
    "\n",
    "Quadrature operatorにおいては、Gaussian UnitaryはAffien写像で書ける！  \n",
    "$(\\mathbf{S}, \\mathbf{d}) : \\hat{\\mathrm{x}}\\to \\mathbf{S}\\mathrm{x} + \\mathbf{d}$\n",
    "\n",
    "Williamson's Theorem  \n",
    "任意の偶数次元の正定値実行列はsimplectic transformで対角化できる  \n",
    "$\\mathbf{V} = \\mathbf{SV}^{\\oplus}\\mathbf{S}^{T}$  \n",
    "$\\mathbf{V}^{\\oplus} = \\oplus^{N}_{k=1} \\nu_k \\mathbf{I}$"
   ]
  },
  {
   "cell_type": "markdown",
   "metadata": {},
   "source": [
    "## Gaussian Measurement  \n",
    "\n",
    "POVM: $\\Pi_i = E_{i}^{\\dagger}E_i\\ \\ \\ (\\sum_i E_{i}^{\\dagger}E_i = I)$  \n",
    "これを連続量に置き換える  \n",
    "\n",
    "Gaussian Measurementとは、Gaussian stateに対して行い、出力結果がGaussian Distributionで、測定しなかったモードはGaussian stateのままである\n",
    "\n",
    "測定するsubsystemを$\\mathbf{B}$として、それ以外のsubsystemを$\\mathbf{A}$とする。\n",
    "\n",
    "測定結果の確率分布：測定モード以外の直交位相を周辺化したGaussian Wigner分布\n",
    "測定後の状態：以下のようになる。※測定結果には依存しない\n",
    "\n",
    "$\\mathbf{V} = \\mathbf{A} - \\mathbf{C}(\\mathbf{\\Pi B \\Pi})^{-1}\\mathbf{C}^T$  \n",
    "$\\mathbf{\\Pi} = \\rm{diag}(1, 0)$     ($\\hat{x}$測定の場合)\n",
    "\n",
    "$\\mathbf{\\Pi B \\Pi}$は非正則。pseudo-inverseを用いる。  \n",
    "$(\\mathbf{\\Pi B \\Pi})^{-1} = B_{11}^{-1}\\Pi$\n",
    "\n",
    "これは多変量ガウス分布の条件付き分布をとるのと基本的に同じ  \n",
    "なので同様に測定後の状態の平均もとれる\n",
    "\n",
    "$\\mathbf{\\mu} = \\mathbf{\\mu_A} + \\mathbf{C}(\\mathbf{\\Pi B \\Pi})^{-1}(\\mathbf{\\mu_B} - x_B\\mathbf{\\Pi})$"
   ]
  },
  {
   "cell_type": "code",
   "execution_count": null,
   "metadata": {},
   "outputs": [],
   "source": []
  }
 ],
 "metadata": {
  "kernelspec": {
   "display_name": "Python 3",
   "language": "python",
   "name": "python3"
  },
  "language_info": {
   "codemirror_mode": {
    "name": "ipython",
    "version": 3
   },
   "file_extension": ".py",
   "mimetype": "text/x-python",
   "name": "python",
   "nbconvert_exporter": "python",
   "pygments_lexer": "ipython3",
   "version": "3.6.5"
  }
 },
 "nbformat": 4,
 "nbformat_minor": 2
}
