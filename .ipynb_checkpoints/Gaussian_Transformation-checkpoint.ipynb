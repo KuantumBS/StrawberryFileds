{
 "cells": [
  {
   "cell_type": "markdown",
   "metadata": {},
   "source": [
    "N bosonic mode Hilbert space  \n",
    "$\\otimes^{N}_{k=1} \\mathcal{H}_k$\n",
    "\n",
    "vectorial operator  \n",
    "$\\hat{\\mathbf{b}} = (\\hat{a}_1, \\hat{a}_1^{\\dagger}, \\dots, \\hat{a}_N, \\hat{a}_N^{\\dagger})$ : 2N elements\n",
    "\n",
    "bosonic commutation relations  \n",
    "$[\\hat{b}_i, \\hat{b}_j] = \\Omega_{ij}\\ \\ (i, j = 1, \\dots, 2N)$ \n",
    "\n",
    "$\\mathbf{\\Omega} = \\oplus_{k=1}^{N}\\omega\\ \\ \\ \n",
    "\\omega = \n",
    "\\begin{pmatrix}\n",
    "0 & 1 \\\\\n",
    "-1 & 0 \\\\\n",
    "\\end{pmatrix}\n",
    "$\n",
    "\n",
    "Quadrature field  \n",
    "$\\hat{\\mathbf{x}} = (\\hat{q}_1, \\hat{p}_1, \\dots, \\hat{q}_N, \\hat{p}_N)$ : 2N elements\n",
    "\n",
    "canonical commutation relation  \n",
    "$[\\hat{x}_i, \\hat{x}_j] = 2i\\Omega_{ij}\\ \\ (i, j = 1, \\dots, 2N)$ "
   ]
  },
  {
   "cell_type": "markdown",
   "metadata": {},
   "source": [
    "任意の密度演算子$\\hat{\\rho}$を考える  \n",
    "もし$\\hat{\\rho}^2 = \\hat{\\rho}$なら$\\hat{\\rho}$はpure state\n",
    "\n",
    "任意の密度演算子は等価なWigner関数が存在する\n",
    "\n",
    "Weyl operator  \n",
    "$D(\\xi) = \\exp(i \\hat{x}^T \\Omega \\hat{\\xi})$  \n",
    "\n",
    "これを用いて、Wigner characteristic functionを定義できる  \n",
    "$\\chi (\\xi) = \\mathrm{Tr}[\\hat{\\rho}D(\\xi)]$\n",
    "\n",
    "Wigner characteristic functionのフーリエ変換がWigner function  \n",
    "$W(\\mathbf{x}) = \\int_{R^{2N}} \\frac{d^{2N}}{(2\\pi)^{2N}} \\exp{(-i \\hat{x}^T \\Omega \\hat{\\xi})} \\chi (\\xi)$"
   ]
  },
  {
   "cell_type": "markdown",
   "metadata": {},
   "source": [
    "Wigner functionは統計量でも定義できる  \n",
    "\n",
    "- first moment  \n",
    "$\\bar{\\mathbf{x}} = \\langle \\hat{\\mathbf{x}} \\rangle= \\mathrm{Tr}[\\hat{\\mathbf{x}} \\hat{\\rho}]$\n",
    "\n",
    "- second moment  \n",
    "$V_{ij} = \\frac{1}{2}\\langle \\{\\Delta\\hat{x}_i, \\Delta\\hat{x}_j \\}\\rangle$  \n",
    "$\\{ A, B \\} = AB+BA$\n",
    "\n",
    "$V_{ii}$は$\\hat{x}_i$の分散をあらわす\n",
    "\n",
    "Gaussian stateは最初の2モーメントだけで完全に記述可能"
   ]
  },
  {
   "cell_type": "markdown",
   "metadata": {},
   "source": [
    "Quadrature operatorにおいては、Gaussian UnitaryはAffien写像で書ける！  \n",
    "$(\\mathbf{S}, \\mathbf{d}) : \\hat{\\mathrm{x}}\\to \\mathbf{S}\\mathrm{x} + \\mathbf{d}$"
   ]
  },
  {
   "cell_type": "markdown",
   "metadata": {},
   "source": [
    "Williamson's Theorem  \n",
    "任意の偶数次元の正定値実行列はsimplectic transformで対角化できる  \n",
    "$\\mathbf{V} = \\mathbf{SV}^{\\oplus}\\mathbf{S}^{T}$  \n",
    "$\\mathbf{V}^{\\oplus} = \\oplus^{N}_{k=1} \\nu_k \\mathbf{I}$"
   ]
  },
  {
   "cell_type": "markdown",
   "metadata": {},
   "source": [
    "Measurement  \n",
    "POVM: $\\Pi_i = E_{i}^{\\dagger}E_i\\ \\ \\ (\\sum_i E_{i}^{\\dagger}E_i = I)$  \n",
    "これを連続量に置き換える  \n",
    "\n",
    "Gaussian Measurementとは、Gaussian stateに対して行い、出力結果がGaussian Distributionで、測定しなかったモードはGaussian stateのままである\n",
    "\n",
    "測定するsubsystemを$\\mathbf{B}$として、それ以外のsubsystemを$\\mathbf{A}$とする。\n",
    "\n",
    "測定結果の確率分布：測定モード以外の直交位相を周辺化したGaussian Wigner分布\n",
    "測定後の状態：以下のようになる。※測定結果には依存しない\n",
    "\n",
    "$\\mathbf{V} = \\mathbf{A} - \\mathbf{C}(\\mathbf{\\Pi B \\Pi})^{-1}\\mathbf{C}^T$  \n",
    "$\\mathbf{\\Pi} = \\rm{diag}(1, 0)$     ($\\hat{x}$測定の場合)\n",
    "\n",
    "$\\mathbf{\\Pi B \\Pi}$は非正則。pseudo-inverseを用いる。  \n",
    "$(\\mathbf{\\Pi B \\Pi})^{-1} = B_{11}^{-1}\\Pi$\n",
    "\n",
    "これは多変量ガウス分布の条件付き分布をとるのと基本的に同じ  \n",
    "なので同様に測定後の状態の平均もとれる\n",
    "\n",
    "$\\mathbf{\\mu} = \\mathbf{\\mu_A} + \\mathbf{C}(\\mathbf{\\Pi B \\Pi})^{-1}(\\mathbf{\\mu_B} - x_B\\mathbf{\\Pi})$"
   ]
  },
  {
   "cell_type": "code",
   "execution_count": 1,
   "metadata": {},
   "outputs": [],
   "source": [
    "import numpy as np\n",
    "import numpy.linalg\n",
    "import matplotlib.pyplot as plt\n",
    "\n",
    "import strawberryfields as sf\n",
    "from strawberryfields.ops import *"
   ]
  },
  {
   "cell_type": "markdown",
   "metadata": {},
   "source": [
    "Gaussian Wigner function\n",
    "\n",
    "$$\n",
    "W(\\xi) = \\frac{1}{(2\\pi)^{N} \\sqrt{\\det V^{(N)}}} \\exp{\\{ -\\frac{1}{2}\\xi [V^{(N)}]^{-1} \\xi^{T} \\}}\n",
    "$$\n",
    "\n",
    "$$\n",
    "Tr[\\hat{\\rho}\\ (\\Delta \\hat{\\xi_{i}} \\Delta \\hat{\\xi_{j}} + \\Delta \\hat{\\xi_{j}} \\Delta \\hat{\\xi_{i}})\\ /\\ 2] \\\\\n",
    "= \\left< \\left(\\hat{\\xi_{i}} \\hat{\\xi_{j}} + \\hat{\\xi_{j}} \\hat{\\xi_{i}}\\right)\\ /\\ 2 \\right> \\\\\n",
    "= \\int W(\\xi)\\xi_i \\xi_j d^{2N} \\xi\n",
    "=V^{(N)}_{ij}\n",
    "$$\n",
    "\n",
    "\n",
    "$$\n",
    "V^{(N)} \\to V^{(N)'} = S V^{N} S^T\n",
    "$$"
   ]
  },
  {
   "cell_type": "code",
   "execution_count": 11,
   "metadata": {},
   "outputs": [],
   "source": [
    "class Gaussian_trans():\n",
    "    def __init__(self, N):\n",
    "        self.N = N # num of qumode\n",
    "        self.V = np.eye(2 * N)\n",
    "        self.mu = np.zeros(2 * N)\n",
    "        #self.V = []\n",
    "        #for i in range(N):\n",
    "         #   self.V.append(np.eye(2))\n",
    "        #self.V = np.array(self.V)\n",
    "        \n",
    "    def Xsqueeze(self, idx, r):\n",
    "        idx = 2 * idx\n",
    "        S = np.eye(2 * self.N)\n",
    "        S[idx:idx+2, idx:idx+2] = np.array([[np.exp(-r), 0], [0, np.exp(r)]])\n",
    "        self.V = np.dot(S, np.dot(self.V, S.T))\n",
    "        self.mu = np.dot(S, self.mu)\n",
    "        \n",
    "    def Psqueeze(self, idx, r):\n",
    "        idx = 2 * idx\n",
    "        S = np.eye(2 * self.N)\n",
    "        S[idx:idx+2, idx:idx+2] = np.array([[np.exp(r), 0], [0, np.exp(-r)]])\n",
    "        self.V = np.dot(S, np.dot(self.V, S.T))\n",
    "        self.mu = np.dot(S, self.mu)\n",
    "        \n",
    "    def rotation(self, idx, theta):\n",
    "        idx = 2 * idx\n",
    "        S = np.eye(2 * self.N)\n",
    "        S[idx:idx+2, idx:idx+2] = np.array([[np.cos(theta), -np.sin(theta)], [np.sin(theta), np.cos(theta)]])\n",
    "        self.V = np.dot(S, np.dot(self.V, S.T))\n",
    "        self.mu = np.dot(S, self.mu)\n",
    "        \n",
    "    def BS(self, idx1, idx2, theta):\n",
    "        idx1 = 2 * idx1\n",
    "        idx2 = 2 * idx2\n",
    "        S = np.eye(2 * self.N)\n",
    "        S[idx1:idx1+2, idx1:idx1+2] = np.array([[np.sin(theta), 0], [0, np.sin(theta)]])\n",
    "        S[idx1:idx1+2, idx2:idx2+2] = np.array([[np.cos(theta), 0], [0, np.cos(theta)]])\n",
    "        S[idx2:idx2+2, idx1:idx1+2] = np.array([[np.cos(theta), 0], [0, np.cos(theta)]])\n",
    "        S[idx2:idx2+2, idx2:idx2+2] = np.array([[-np.sin(theta), 0], [0, -np.sin(theta)]])\n",
    "        self.V = np.dot(S, np.dot(self.V, S.T))\n",
    "        self.mu = np.dot(S, self.mu)\n",
    "        \n",
    "    def twoModeSqueezing(self, idx1, idx2,  r):\n",
    "        idx1 = 2 * idx1\n",
    "        idx2 = 2 * idx2\n",
    "        S = np.eye(2 * self.N)\n",
    "        S[idx1:idx1+2, idx1:idx1+2] = np.array([[np.cosh(r), 0], [0, np.cosh(r)]])\n",
    "        S[idx1:idx1+2, idx2:idx2+2] = np.array([[np.sinh(r), 0], [0, -np.sinh(r)]])\n",
    "        S[idx2:idx2+2, idx1:idx1+2] = np.array([[np.sinh(r), 0], [0, -np.sinh(r)]])\n",
    "        S[idx2:idx2+2, idx2:idx2+2] = np.array([[np.cosh(r), 0], [0, np.cosh(r)]])\n",
    "        self.V = np.dot(S, np.dot(self.V, S.T))\n",
    "        self.mu = np.dot(S, self.mu)        \n",
    "    \n",
    "    def Displace(self, idx, x, p):\n",
    "        self.mu[idx:idx+2] = self.mu[idx:idx+2] + np.array([x, p]) * 2\n",
    "        \n",
    "    def MeasureX(self, idx):\n",
    "        res = np.random.normal(self.mu[2 * idx], np.sqrt(self.V[2 * idx, 2 * idx]))\n",
    "        self.mu, self.V = self.StateAfterMeasurement(idx, res, np.diag([1, 0]))        \n",
    "        return res\n",
    "    \n",
    "    def MeasureP(self, idx):\n",
    "        res = np.random.normal(self.mu[2 * idx + 1], np.sqrt(self.V[2 * idx + 1, 2 * idx + 1]))\n",
    "        self.mu, self.V = self.StateAfterMeasurement(idx, res, np.diag([0, 1]))\n",
    "        return res\n",
    "\n",
    "    def plotGaussianWigner(self, idx):\n",
    "        idx = idx * 2\n",
    "        x = np.arange(-5, 5, 0.1)\n",
    "        p = np.arange(-5, 5, 0.1)\n",
    "        m = len(x)\n",
    "        xx, pp = np.meshgrid(x, p)\n",
    "        xi_array = np.dstack((pp, xx))\n",
    "        W = np.zeros((m, m))\n",
    "        for i in range(m):\n",
    "            for j in range(m):\n",
    "                W[i][j] = self.GaussianWigner(xi_array[j][i], self.V[idx:idx+2, idx:idx+2], self.mu[idx:idx+2])\n",
    "        h = plt.contourf(x, p, W)\n",
    "        plt.show()\n",
    "\n",
    "    def GaussianWigner(self, xi, V, mu):\n",
    "        xi = xi - mu\n",
    "        xi_tmp = np.ravel(xi)\n",
    "        N = np.int(len(xi_tmp) / 2)\n",
    "        det_V = np.linalg.det(V)\n",
    "        V_inv = np.linalg.inv(V)\n",
    "        W = (2 * np.pi)**(-N) / np.sqrt(det_V) * np.exp(-1/2 * np.dot(xi_tmp, np.dot(V_inv, xi_tmp.T)))\n",
    "        return W\n",
    "    \n",
    "    def StateAfterMeasurement(self, idx, res, Pi):\n",
    "        subSysA = np.delete(np.delete(self.V, [2 * idx, 2 * idx + 1], 0), [2 * idx, 2 * idx + 1], 1)\n",
    "        subSysB = self.V[(2 * idx):(2 * idx + 2), (2 * idx):(2 * idx + 2)]\n",
    "        arrayList = []\n",
    "        for j in range(self.N):\n",
    "            if j != idx:\n",
    "                arrayList.append(self.V[(2 * j):(2 * j + 2), (2 * idx):(2*idx + 2)])\n",
    "        C = np.concatenate(arrayList)\n",
    "        post_V = subSysA - np.dot(C, np.dot(1 / np.sum(subSysB * Pi) * Pi, C.T))\n",
    "        post_V = np.insert(post_V, 2 * idx, [[0], [0]], axis = 0)\n",
    "        post_V = np.insert(post_V, 2 * idx, [[0], [0]], axis = 1)\n",
    "        post_V[2 * idx, 2 * idx] = 1\n",
    "        post_V[2 * idx + 1, 2 * idx + 1] = 1\n",
    "        \n",
    "        post_mu = np.delete(self.mu, [2 * idx, 2 * idx + 1]) + \\\n",
    "        np.dot(np.dot(C, 1 / np.sum(subSysB * Pi) * Pi), res * np.diag(Pi) - self.mu[(2 * idx):(2 * idx + 2)])\n",
    "        post_mu = np.insert(post_mu, 2 * idx, [0, 0])\n",
    "        \n",
    "        return post_mu, post_V"
   ]
  },
  {
   "cell_type": "code",
   "execution_count": 3,
   "metadata": {},
   "outputs": [],
   "source": [
    "def test_1():\n",
    "    G = Gaussian_trans(2) # two qumode [0, 1]\n",
    "    G.Displace(0, 2, 0) # Displacement gate, x to x+2\n",
    "    G.Xsqueeze(0, 1) # X squeeIng gate, r=1\n",
    "    G.rotation(0, np.pi/4) # pi/4 rotation gate\n",
    "    G.BS(0, 1, np.pi/4) # 50:50 beam splitter\n",
    "    x = G.MeasureX(1)\n",
    "    #G.plotGaussianWigner(0) # plot\n",
    "    #print(x)\n",
    "    #print('mu0 =', G.mu[0:2]) # mu of qumode 0\n",
    "    #print('cov0 =', G.V[0:2, 0:2]) # mu of qumode 1\n",
    "    return G.mu[0:2]"
   ]
  },
  {
   "cell_type": "code",
   "execution_count": 4,
   "metadata": {},
   "outputs": [],
   "source": [
    "def test_2():\n",
    "    eng, q = sf.Engine(2)\n",
    "\n",
    "    with eng:\n",
    "        # prepare the initial states\n",
    "        Dgate(2) | q[0] # displacement gate\n",
    "        Sgate(1) | q[0] # position squeezed\n",
    "        Rgate(pi/4) | q[0] # rotation gate\n",
    "        BSgate(pi/4, 0) | (q[0], q[1])  # 50-50 beamsplitter\n",
    "\n",
    "        # perform the homodyne measurements\n",
    "        MeasureX | q[1]\n",
    "\n",
    "    state = eng.run('gaussian')\n",
    "    mu0, cov0 = state.reduced_gaussian([0])\n",
    "    mu1, cov1 = state.reduced_gaussian([1])\n",
    "    #print('mu0 =', mu0)\n",
    "    #print('cov0 =', cov0)\n",
    "\n",
    "    #x = np.arange(-5, 5, 0.1)\n",
    "    #p = np.arange(-5, 5, 0.1)\n",
    "    #W = state.wigner(0, x, p)\n",
    "    #X, P = np.meshgrid(x, p)\n",
    "    #plt.contourf(X, P, W)\n",
    "    return mu0"
   ]
  },
  {
   "cell_type": "code",
   "execution_count": 5,
   "metadata": {},
   "outputs": [
    {
     "ename": "TypeError",
     "evalue": "backend must be a string or a BaseBackend instance.",
     "output_type": "error",
     "traceback": [
      "\u001b[0;31m---------------------------------------------------------------------------\u001b[0m",
      "\u001b[0;31mTypeError\u001b[0m                                 Traceback (most recent call last)",
      "\u001b[0;32m<ipython-input-5-9ff8fe4045b2>\u001b[0m in \u001b[0;36m<module>\u001b[0;34m\u001b[0m\n\u001b[1;32m      5\u001b[0m \u001b[0;32mfor\u001b[0m \u001b[0mi\u001b[0m \u001b[0;32min\u001b[0m \u001b[0mrange\u001b[0m\u001b[0;34m(\u001b[0m\u001b[0;36m500\u001b[0m\u001b[0;34m)\u001b[0m\u001b[0;34m:\u001b[0m\u001b[0;34m\u001b[0m\u001b[0m\n\u001b[1;32m      6\u001b[0m     \u001b[0mmu1\u001b[0m \u001b[0;34m=\u001b[0m \u001b[0mtest_1\u001b[0m\u001b[0;34m(\u001b[0m\u001b[0;34m)\u001b[0m\u001b[0;34m\u001b[0m\u001b[0m\n\u001b[0;32m----> 7\u001b[0;31m     \u001b[0mmu2\u001b[0m \u001b[0;34m=\u001b[0m \u001b[0mtest_2\u001b[0m\u001b[0;34m(\u001b[0m\u001b[0;34m)\u001b[0m\u001b[0;34m\u001b[0m\u001b[0m\n\u001b[0m\u001b[1;32m      8\u001b[0m     \u001b[0mlistx1\u001b[0m\u001b[0;34m.\u001b[0m\u001b[0mappend\u001b[0m\u001b[0;34m(\u001b[0m\u001b[0mmu1\u001b[0m\u001b[0;34m[\u001b[0m\u001b[0;36m0\u001b[0m\u001b[0;34m]\u001b[0m\u001b[0;34m)\u001b[0m\u001b[0;34m\u001b[0m\u001b[0m\n\u001b[1;32m      9\u001b[0m     \u001b[0mlistp1\u001b[0m\u001b[0;34m.\u001b[0m\u001b[0mappend\u001b[0m\u001b[0;34m(\u001b[0m\u001b[0mmu1\u001b[0m\u001b[0;34m[\u001b[0m\u001b[0;36m1\u001b[0m\u001b[0;34m]\u001b[0m\u001b[0;34m)\u001b[0m\u001b[0;34m\u001b[0m\u001b[0m\n",
      "\u001b[0;32m<ipython-input-4-010a6bdb5558>\u001b[0m in \u001b[0;36mtest_2\u001b[0;34m()\u001b[0m\n\u001b[1;32m      1\u001b[0m \u001b[0;32mdef\u001b[0m \u001b[0mtest_2\u001b[0m\u001b[0;34m(\u001b[0m\u001b[0;34m)\u001b[0m\u001b[0;34m:\u001b[0m\u001b[0;34m\u001b[0m\u001b[0m\n\u001b[0;32m----> 2\u001b[0;31m     \u001b[0meng\u001b[0m\u001b[0;34m,\u001b[0m \u001b[0mq\u001b[0m \u001b[0;34m=\u001b[0m \u001b[0msf\u001b[0m\u001b[0;34m.\u001b[0m\u001b[0mEngine\u001b[0m\u001b[0;34m(\u001b[0m\u001b[0;36m2\u001b[0m\u001b[0;34m)\u001b[0m\u001b[0;34m\u001b[0m\u001b[0m\n\u001b[0m\u001b[1;32m      3\u001b[0m \u001b[0;34m\u001b[0m\u001b[0m\n\u001b[1;32m      4\u001b[0m     \u001b[0;32mwith\u001b[0m \u001b[0meng\u001b[0m\u001b[0;34m:\u001b[0m\u001b[0;34m\u001b[0m\u001b[0m\n\u001b[1;32m      5\u001b[0m         \u001b[0;31m# prepare the initial states\u001b[0m\u001b[0;34m\u001b[0m\u001b[0;34m\u001b[0m\u001b[0m\n",
      "\u001b[0;32m~/.pyenv/versions/3.6.5/envs/StrawberyFields_0.11.1/lib/python3.6/site-packages/strawberryfields/engine.py\u001b[0m in \u001b[0;36m__init__\u001b[0;34m(self, backend, backend_options)\u001b[0m\n\u001b[1;32m    307\u001b[0m             \u001b[0mself\u001b[0m\u001b[0;34m.\u001b[0m\u001b[0mbackend\u001b[0m \u001b[0;34m=\u001b[0m \u001b[0mbackend\u001b[0m\u001b[0;34m\u001b[0m\u001b[0m\n\u001b[1;32m    308\u001b[0m         \u001b[0;32melse\u001b[0m\u001b[0;34m:\u001b[0m\u001b[0;34m\u001b[0m\u001b[0m\n\u001b[0;32m--> 309\u001b[0;31m             \u001b[0;32mraise\u001b[0m \u001b[0mTypeError\u001b[0m\u001b[0;34m(\u001b[0m\u001b[0;34m'backend must be a string or a BaseBackend instance.'\u001b[0m\u001b[0;34m)\u001b[0m\u001b[0;34m\u001b[0m\u001b[0m\n\u001b[0m\u001b[1;32m    310\u001b[0m \u001b[0;34m\u001b[0m\u001b[0m\n\u001b[1;32m    311\u001b[0m     \u001b[0;32mdef\u001b[0m \u001b[0m__str__\u001b[0m\u001b[0;34m(\u001b[0m\u001b[0mself\u001b[0m\u001b[0;34m)\u001b[0m\u001b[0;34m:\u001b[0m\u001b[0;34m\u001b[0m\u001b[0m\n",
      "\u001b[0;31mTypeError\u001b[0m: backend must be a string or a BaseBackend instance."
     ]
    }
   ],
   "source": [
    "listx1 = []\n",
    "listp1 = []\n",
    "listx2 = []\n",
    "listp2 = []\n",
    "for i in range(500):\n",
    "    mu1 = test_1()\n",
    "    mu2 = test_2()\n",
    "    listx1.append(mu1[0])\n",
    "    listp1.append(mu1[1])\n",
    "    listx2.append(mu2[0])\n",
    "    listp2.append(mu2[1])\n",
    "\n",
    "plt.scatter(listx1, listp1)\n",
    "plt.scatter(listx2, listp2)"
   ]
  },
  {
   "cell_type": "code",
   "execution_count": 6,
   "metadata": {},
   "outputs": [
    {
     "data": {
      "image/png": "[encoded data removed]",
      "text/plain": [
       "<Figure size 432x288 with 1 Axes>"
      ]
     },
     "metadata": {
      "needs_background": "light"
     },
     "output_type": "display_data"
    },
    {
     "name": "stdout",
     "output_type": "stream",
     "text": [
      "-0.5453652441018386\n",
      "V = [[3.76219569 0.         0.         0.        ]\n",
      " [0.         0.26580223 0.         0.        ]\n",
      " [0.         0.         1.         0.        ]\n",
      " [0.         0.         0.         1.        ]]\n"
     ]
    }
   ],
   "source": [
    "G = Gaussian_trans(2) # two qumode [0, 1]\n",
    "#G.Xsqueeze(0, 1) # X squeeIng gate, r=1\n",
    "#G.rotation(0, np.pi/4) # pi/4 rotation gate\n",
    "G.Displace(0, 0, 0)\n",
    "G.twoModeSqueezing(0, 1, 1)\n",
    "x = G.MeasureP(1)\n",
    "G.plotGaussianWigner(0) # plot\n",
    "print(x)\n",
    "print('V =', G.V)"
   ]
  },
  {
   "cell_type": "code",
   "execution_count": 13,
   "metadata": {},
   "outputs": [
    {
     "data": {
      "image/png": "[encoded data removed]",
      "text/plain": [
       "<Figure size 432x288 with 1 Axes>"
      ]
     },
     "metadata": {
      "needs_background": "light"
     },
     "output_type": "display_data"
    },
    {
     "name": "stdout",
     "output_type": "stream",
     "text": [
      "measured x = 3.302112190592334\n",
      "measured p = 2.1054771213394257\n",
      "mu = [-2.57384937 -1.90645545]\n",
      "cov = [[1. 0. 0. 0. 0. 0.]\n",
      " [0. 1. 0. 0. 0. 0.]\n",
      " [0. 0. 1. 0. 0. 0.]\n",
      " [0. 0. 0. 1. 0. 0.]\n",
      " [0. 0. 0. 0. 1. 0.]\n",
      " [0. 0. 0. 0. 0. 1.]]\n"
     ]
    }
   ],
   "source": [
    "G = Gaussian_trans(3)\n",
    "G.Displace(0, 1, 0.5)\n",
    "G.Psqueeze(1, 2)\n",
    "G.Xsqueeze(2, 2)\n",
    "G.BS(1, 2, np.pi/4) # 50:50 beam splitter\n",
    "G.BS(0, 1, np.pi/4) # 50:50 beam splitter\n",
    "x0 = G.MeasureX(0)\n",
    "p1 = G.MeasureP(1)\n",
    "G.Displace(2, x0 * np.sqrt(2), 0)\n",
    "G.Displace(2, 0, p1 * np.sqrt(2))\n",
    "G.plotGaussianWigner(1) # plot\n",
    "print('measured x =', x0)\n",
    "print('measured p =', p1)\n",
    "print('mu =', G.mu[4:6]) # mu of qumode 0\n",
    "print('cov =', G.V) # covarince of qumode 1"
   ]
  },
  {
   "cell_type": "code",
   "execution_count": null,
   "metadata": {},
   "outputs": [],
   "source": []
  }
 ],
 "metadata": {
  "kernelspec": {
   "display_name": "Python 3",
   "language": "python",
   "name": "python3"
  },
  "language_info": {
   "codemirror_mode": {
    "name": "ipython",
    "version": 3
   },
   "file_extension": ".py",
   "mimetype": "text/x-python",
   "name": "python",
   "nbconvert_exporter": "python",
   "pygments_lexer": "ipython3",
   "version": "3.6.5"
  }
 },
 "nbformat": 4,
 "nbformat_minor": 2
}
