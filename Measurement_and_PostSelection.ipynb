{
 "cells": [
  {
   "cell_type": "code",
   "execution_count": 1,
   "metadata": {},
   "outputs": [
    {
     "name": "stderr",
     "output_type": "stream",
     "text": [
      "/Users/ryunagai/.pyenv/versions/3.6.5/envs/main_env/lib/python3.6/site-packages/h5py/__init__.py:36: FutureWarning: Conversion of the second argument of issubdtype from `float` to `np.floating` is deprecated. In future, it will be treated as `np.float64 == np.dtype(float).type`.\n",
      "  from ._conv import register_converters as _register_converters\n"
     ]
    }
   ],
   "source": [
    "import strawberryfields as sf\n",
    "from strawberryfields.ops import *\n",
    "from strawberryfields.utils import scale\n",
    "from numpy import pi, sqrt\n",
    "import matplotlib.pyplot as plt"
   ]
  },
  {
   "cell_type": "markdown",
   "metadata": {},
   "source": [
    "# Photon number preservation with BS"
   ]
  },
  {
   "cell_type": "code",
   "execution_count": 7,
   "metadata": {},
   "outputs": [
    {
     "name": "stdout",
     "output_type": "stream",
     "text": [
      "5  +  0  =  5\n"
     ]
    }
   ],
   "source": [
    "eng, q = sf.Engine(2)\n",
    "with eng:\n",
    "    Fock(2)  | q[0]\n",
    "    Fock(3)  | q[1]\n",
    "    \n",
    "    BSgate() | (q[0], q[1])\n",
    "    Measure  | q[0]\n",
    "    \n",
    "eng.run(\"fock\", cutoff_dim=6, reset_backend=False)\n",
    "\n",
    "eng.reset_queue()  # resets the command queue\n",
    "with eng:\n",
    "    Measure | q[1]\n",
    "\n",
    "state = eng.run(\"fock\", cutoff_dim=6, reset_backend=False)\n",
    "\n",
    "n_ = q[0].val\n",
    "m_ = q[1].val\n",
    "print(n_, ' + ', m_, ' = ', n_ + m_)"
   ]
  },
  {
   "cell_type": "markdown",
   "metadata": {},
   "source": [
    "# HOM Interferometer"
   ]
  },
  {
   "cell_type": "code",
   "execution_count": 1,
   "metadata": {},
   "outputs": [
    {
     "name": "stderr",
     "output_type": "stream",
     "text": [
      "/Users/ryunagai/.pyenv/versions/3.6.5/envs/main_env/lib/python3.6/site-packages/h5py/__init__.py:36: FutureWarning: Conversion of the second argument of issubdtype from `float` to `np.floating` is deprecated. In future, it will be treated as `np.float64 == np.dtype(float).type`.\n",
      "  from ._conv import register_converters as _register_converters\n"
     ]
    },
    {
     "name": "stdout",
     "output_type": "stream",
     "text": [
      "Output1 photon number:  2\n",
      "Output2 photon number :  0\n"
     ]
    }
   ],
   "source": [
    "import strawberryfields as sf\n",
    "from strawberryfields.ops import *\n",
    "\n",
    "\n",
    "eng, q = sf.Engine(2)\n",
    "with eng:\n",
    "    Fock(1)  | q[0]\n",
    "    Fock(1)  | q[1]\n",
    "\n",
    "    BSgate() | (q[0], q[1])\n",
    "    Measure  | q[0]\n",
    "    Measure  | q[1]\n",
    "\n",
    "state = eng.run(\"fock\", cutoff_dim=6)\n",
    "n_ = q[0].val\n",
    "m_ = q[1].val\n",
    "\n",
    "print(\"Output1 photon number: \", n_)\n",
    "print(\"Output2 photon number : \", m_)\n"
   ]
  },
  {
   "cell_type": "code",
   "execution_count": 2,
   "metadata": {},
   "outputs": [
    {
     "name": "stdout",
     "output_type": "stream",
     "text": [
      "The case that...\n",
      "mode 1 has 2 photon :  485\n",
      "mode 2 has 2 photon :  515\n",
      "Sum :  1000\n"
     ]
    }
   ],
   "source": [
    "import strawberryfields as sf\n",
    "from strawberryfields.ops import *\n",
    "\n",
    "case1 = 0\n",
    "case2 = 0\n",
    "\n",
    "for i in range(1000):\n",
    "    eng, q = sf.Engine(2)\n",
    "    with eng:\n",
    "        Fock(1)  | q[0]\n",
    "        Fock(1)  | q[1]\n",
    "\n",
    "        BSgate() | (q[0], q[1])\n",
    "        Measure  | q[0]\n",
    "        Measure  | q[1]\n",
    "\n",
    "    state = eng.run(\"fock\", cutoff_dim=6)\n",
    "    n_ = q[0].val\n",
    "    m_ = q[1].val\n",
    "    if n_ == 2:\n",
    "        case1 += 1\n",
    "    elif m_ == 2:\n",
    "        case2 += 1\n",
    "    #print(n_, ' + ', m_, ' = ', n_ + m_)\n",
    "    \n",
    "print('The case that...')\n",
    "print('mode 1 has 2 photon : ', case1)\n",
    "print('mode 2 has 2 photon : ', case2)\n",
    "    \n",
    "print('Sum : ', case1 + case2)"
   ]
  },
  {
   "cell_type": "markdown",
   "metadata": {},
   "source": [
    "# Post selection"
   ]
  },
  {
   "cell_type": "markdown",
   "metadata": {},
   "source": [
    "## With Fock State"
   ]
  },
  {
   "cell_type": "code",
   "execution_count": 89,
   "metadata": {},
   "outputs": [
    {
     "name": "stdout",
     "output_type": "stream",
     "text": [
      "0  +  5  =  5\n"
     ]
    }
   ],
   "source": [
    "eng, q = sf.Engine(2)\n",
    "with eng:\n",
    "    Fock(2) | q[0]\n",
    "    Fock(3) | q[1]\n",
    "    BSgate() | (q[0], q[1])\n",
    "    MeasureFock(select=0) | q[0] # select the 0 photon state\n",
    "    Measure  | q[1]\n",
    "\n",
    "eng.run(\"fock\", cutoff_dim=6)\n",
    "state = eng.run(\"fock\", cutoff_dim=6, reset_backend=False)\n",
    "\n",
    "n_ = q[0].val\n",
    "m_ = q[1].val\n",
    "print(n_, ' + ', m_, ' = ', n_ + m_)"
   ]
  },
  {
   "cell_type": "markdown",
   "metadata": {},
   "source": [
    "## With 2-modes Squeezing state"
   ]
  },
  {
   "cell_type": "code",
   "execution_count": 1,
   "metadata": {},
   "outputs": [
    {
     "ename": "NameError",
     "evalue": "name 'sf' is not defined",
     "output_type": "error",
     "traceback": [
      "\u001b[0;31m---------------------------------------------------------------------------\u001b[0m",
      "\u001b[0;31mNameError\u001b[0m                                 Traceback (most recent call last)",
      "\u001b[0;32m<ipython-input-1-16ef76672585>\u001b[0m in \u001b[0;36m<module>\u001b[0;34m()\u001b[0m\n\u001b[0;32m----> 1\u001b[0;31m \u001b[0meng\u001b[0m\u001b[0;34m,\u001b[0m \u001b[0mq\u001b[0m \u001b[0;34m=\u001b[0m \u001b[0msf\u001b[0m\u001b[0;34m.\u001b[0m\u001b[0mEngine\u001b[0m\u001b[0;34m(\u001b[0m\u001b[0;36m0\u001b[0m\u001b[0;34m)\u001b[0m\u001b[0;34m\u001b[0m\u001b[0m\n\u001b[0m\u001b[1;32m      2\u001b[0m \u001b[0;34m\u001b[0m\u001b[0m\n\u001b[1;32m      3\u001b[0m \u001b[0;32mwith\u001b[0m \u001b[0meng\u001b[0m\u001b[0;34m:\u001b[0m\u001b[0;34m\u001b[0m\u001b[0m\n\u001b[1;32m      4\u001b[0m     \u001b[0mKgate\u001b[0m\u001b[0;34m(\u001b[0m\u001b[0mr\u001b[0m\u001b[0;34m)\u001b[0m  \u001b[0;34m|\u001b[0m \u001b[0mq\u001b[0m\u001b[0;34m[\u001b[0m\u001b[0;36m0\u001b[0m\u001b[0;34m]\u001b[0m\u001b[0;34m\u001b[0m\u001b[0m\n\u001b[1;32m      5\u001b[0m \u001b[0;34m\u001b[0m\u001b[0m\n",
      "\u001b[0;31mNameError\u001b[0m: name 'sf' is not defined"
     ]
    }
   ],
   "source": [
    "eng, q = sf.Engine(3)\n",
    "S_parameter = (1 + 1j) / sqrt(2)\n",
    "with eng:\n",
    "    Sgate(S_parameter) | q[2]\n",
    "    S2gate(S_parameter) | (q[0], q[1]) # var is squeezing parameter r\n",
    "    MeasureHomodyne(0,select=1)  | q[0] # Position based measurement\n",
    "    # select : desired values of measurement result\n",
    "\n",
    "state = eng.run('gaussian')\n",
    "mu, cov = state.reduced_gaussian([1])\n",
    "print('mu =', mu[0])\n",
    "print('Relational position should be preserved')\n",
    "\n",
    "x = np.arange(-5, 5, 0.1)\n",
    "p = np.arange(-5, 5, 0.1)\n",
    "W = state.wigner(1, x, p)\n",
    "X, P = np.meshgrid(x, p)\n",
    "plt.contourf(X, P, W)\n"
   ]
  },
  {
   "cell_type": "markdown",
   "metadata": {},
   "source": [
    "2-mode squeezing と 1-mode squeezing の挙動の違いはあまり理解していない..."
   ]
  },
  {
   "cell_type": "code",
   "execution_count": 156,
   "metadata": {},
   "outputs": [
    {
     "data": {
      "text/plain": [
       "<matplotlib.contour.QuadContourSet at 0x11c6cabe0>"
      ]
     },
     "execution_count": 156,
     "metadata": {},
     "output_type": "execute_result"
    },
    {
     "data": {
      "image/png": "[encoded data removed]",
      "text/plain": [
       "<Figure size 432x288 with 1 Axes>"
      ]
     },
     "metadata": {},
     "output_type": "display_data"
    }
   ],
   "source": [
    "x1 = np.arange(-5, 5, 0.1)\n",
    "p1 = np.arange(-5, 5, 0.1)\n",
    "W2 = state.wigner(2, x1, p1)\n",
    "X1, P1 = np.meshgrid(x1, p1)\n",
    "plt.contourf(X1, P1, W2)"
   ]
  },
  {
   "cell_type": "code",
   "execution_count": null,
   "metadata": {},
   "outputs": [],
   "source": []
  }
 ],
 "metadata": {
  "kernelspec": {
   "display_name": "Python 3",
   "language": "python",
   "name": "python3"
  },
  "language_info": {
   "codemirror_mode": {
    "name": "ipython",
    "version": 3
   },
   "file_extension": ".py",
   "mimetype": "text/x-python",
   "name": "python",
   "nbconvert_exporter": "python",
   "pygments_lexer": "ipython3",
   "version": "3.6.5"
  }
 },
 "nbformat": 4,
 "nbformat_minor": 2
}
