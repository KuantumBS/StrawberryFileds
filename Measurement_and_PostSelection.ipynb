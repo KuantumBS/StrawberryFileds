{
 "cells": [
  {
   "cell_type": "code",
   "execution_count": 34,
   "metadata": {},
   "outputs": [],
   "source": [
    "import strawberryfields as sf\n",
    "from strawberryfields.ops import *\n",
    "from strawberryfields.utils import scale\n",
    "from numpy import pi, sqrt\n",
    "import matplotlib.pyplot as plt"
   ]
  },
  {
   "cell_type": "markdown",
   "metadata": {},
   "source": [
    "# Photon number preservation with BS"
   ]
  },
  {
   "cell_type": "code",
   "execution_count": 82,
   "metadata": {},
   "outputs": [
    {
     "name": "stdout",
     "output_type": "stream",
     "text": [
      "3  +  2  =  5\n"
     ]
    }
   ],
   "source": [
    "eng, q = sf.Engine(2)\n",
    "with eng:\n",
    "    Fock(2)  | q[0]\n",
    "    Fock(3)  | q[1]\n",
    "    \n",
    "    BSgate() | (q[0], q[1])\n",
    "    Measure  | q[0]\n",
    "    \n",
    "eng.run(\"fock\", cutoff_dim=6, reset_backend=False)\n",
    "\n",
    "eng.reset_queue()  # resets the command queue\n",
    "with eng:\n",
    "    Measure | q[1]\n",
    "\n",
    "state = eng.run(\"fock\", cutoff_dim=6, reset_backend=False)\n",
    "\n",
    "n_ = q[0].val\n",
    "m_ = q[1].val\n",
    "print(n_, ' + ', m_, ' = ', n_ + m_)"
   ]
  },
  {
   "cell_type": "markdown",
   "metadata": {},
   "source": [
    "# HOM Interferometer"
   ]
  },
  {
   "cell_type": "code",
   "execution_count": 77,
   "metadata": {},
   "outputs": [
    {
     "name": "stdout",
     "output_type": "stream",
     "text": [
      "mode 1 has 2 photon :  494\n",
      "mode 2 has 2 photon :  506\n",
      "Sum :  1000\n"
     ]
    }
   ],
   "source": [
    "case1 = 0\n",
    "case2 = 0\n",
    "for i in range(1000):\n",
    "    eng, q = sf.Engine(2)\n",
    "    with eng:\n",
    "        Fock(1)  | q[0]\n",
    "        Fock(1)  | q[1]\n",
    "\n",
    "        BSgate() | (q[0], q[1])\n",
    "        Measure  | q[0]\n",
    "        Measure  | q[1]\n",
    "\n",
    "    state = eng.run(\"fock\", cutoff_dim=6)\n",
    "    n_ = q[0].val\n",
    "    m_ = q[1].val\n",
    "    if n_ == 2:\n",
    "        case1 += 1\n",
    "    elif m_ == 2:\n",
    "        case2 += 1\n",
    "    #print(n_, ' + ', m_, ' = ', n_ + m_)\n",
    "    \n",
    "print('mode 1 has 2 photon : ', case1)\n",
    "print('mode 2 has 2 photon : ', case2)\n",
    "    \n",
    "print('Sum : ', case1 + case2)"
   ]
  },
  {
   "cell_type": "markdown",
   "metadata": {},
   "source": [
    "# Measure with post selection"
   ]
  },
  {
   "cell_type": "code",
   "execution_count": 89,
   "metadata": {},
   "outputs": [
    {
     "name": "stdout",
     "output_type": "stream",
     "text": [
      "0  +  5  =  5\n"
     ]
    }
   ],
   "source": [
    "eng, q = sf.Engine(2)\n",
    "with eng:\n",
    "    Fock(2) | q[0]\n",
    "    Fock(3) | q[1]\n",
    "    BSgate() | (q[0], q[1])\n",
    "    MeasureFock(select=0) | q[0] # select the 0 photon state\n",
    "    Measure  | q[1]\n",
    "\n",
    "eng.run(\"fock\", cutoff_dim=6)\n",
    "state = eng.run(\"fock\", cutoff_dim=6, reset_backend=False)\n",
    "\n",
    "n_ = q[0].val\n",
    "m_ = q[1].val\n",
    "print(n_, ' + ', m_, ' = ', n_ + m_)"
   ]
  },
  {
   "cell_type": "code",
   "execution_count": null,
   "metadata": {},
   "outputs": [],
   "source": []
  }
 ],
 "metadata": {
  "kernelspec": {
   "display_name": "Python 3",
   "language": "python",
   "name": "python3"
  },
  "language_info": {
   "codemirror_mode": {
    "name": "ipython",
    "version": 3
   },
   "file_extension": ".py",
   "mimetype": "text/x-python",
   "name": "python",
   "nbconvert_exporter": "python",
   "pygments_lexer": "ipython3",
   "version": "3.6.5"
  }
 },
 "nbformat": 4,
 "nbformat_minor": 2
}
