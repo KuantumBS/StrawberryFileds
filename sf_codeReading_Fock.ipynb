{
 "cells": [
  {
   "cell_type": "code",
   "execution_count": 30,
   "metadata": {},
   "outputs": [],
   "source": [
    "import strawberryfields as sf\n",
    "from strawberryfields.ops import *\n",
    "from strawberryfields.utils import scale\n",
    "from numpy import pi, sqrt\n",
    "import matplotlib.pyplot as plt\n",
    "import numpy as np"
   ]
  },
  {
   "cell_type": "markdown",
   "metadata": {},
   "source": [
    "# Coherent State"
   ]
  },
  {
   "cell_type": "code",
   "execution_count": 36,
   "metadata": {},
   "outputs": [],
   "source": [
    "def abssqr(z):\n",
    "    r\"\"\"\n",
    "    Given :math:`z` returns :math:`|z|^2`.\n",
    "    \"\"\"\n",
    "    return z.real**2 + z.imag**2\n",
    "\n",
    "def entry(n, alpha):\n",
    "        \"\"\"coherent summation term\"\"\"\n",
    "        return alpha**n / sqrt(fac(n))"
   ]
  },
  {
   "cell_type": "code",
   "execution_count": 69,
   "metadata": {},
   "outputs": [
    {
     "name": "stdout",
     "output_type": "stream",
     "text": [
      "alpha = (1+0.5j)\n",
      "basis: 0 (0.5352614285189903+0j)\n",
      "basis: 1 (0.5352614285189903+0.26763071425949514j)\n",
      "basis: 2 (0.28386523936003233+0.3784869858133765j)\n",
      "basis: 3 (0.054629890786030755+0.30046439932316915j)\n",
      "basis: 4 (-0.04780115443777691+0.16388967235809226j)\n"
     ]
    }
   ],
   "source": [
    "cutoff_dim = 5\n",
    "trunc = cutoff_dim\n",
    "\n",
    "x_ini = 1\n",
    "p_ini = 0.5\n",
    "alpha = x_ini + p_ini * 1j\n",
    "C = Coherent(a = alpha) \n",
    "z = C.p[0] * exp(1j * C.p[1]) # p[0]:alpha, p[1]:phase rotation\n",
    "\n",
    "#print(C.p[0].x) # p[0] = Parameter(alpha) \n",
    "#print(C.p[1].x) # p[1] = Parameter(p=0)\n",
    "\n",
    "print('alpha =',z.x)\n",
    "fock_coherent =exp(-abssqr(z.x) / 2) * np.array([entry(n, z.x) for n in range(trunc)])\n",
    "N = [print('basis:', i, fock_coherent[i]) for i in range(len(fock_coherent))]"
   ]
  },
  {
   "cell_type": "markdown",
   "metadata": {},
   "source": [
    "# Squeezing Gate"
   ]
  },
  {
   "cell_type": "markdown",
   "metadata": {},
   "source": [
    "squeezed_parity  \n",
    "$$\n",
    "        \\sigma_{N,k} = \\begin{cases}\n",
    "            (N-k)/2, & \\text{mod}(N-k,2) \\neq 0\\\\\n",
    "            0, &\\text{otherwise}\n",
    "        \\end{cases}\n",
    "$$"
   ]
  },
  {
   "cell_type": "markdown",
   "metadata": {},
   "source": [
    "$$\n",
    "            prefac_{N,n,k} = \\frac{\\sigma_{N,k}\\sqrt{n!N!}}\n",
    "            {k!\\left(\\frac{n-k}{2}\\right)!\\left(\\frac{N-k}{2}\\right)!}\n",
    "$$"
   ]
  },
  {
   "cell_type": "code",
   "execution_count": 70,
   "metadata": {},
   "outputs": [],
   "source": [
    "from scipy.special import gammaln as lg\n",
    "\n",
    "def squeeze_parity(D):\n",
    "    r\"\"\"Creates the parity prefactor needed for squeezing in the Fock basis.\n",
    "\n",
    "    .. math::\n",
    "        \\text{\\sigma}_{N,k} = \\begin{cases}\n",
    "            (N-k)/2, & \\text{mod}(N-k,2) \\neq 0\\\\\n",
    "            0, &\\text{otherwise}\n",
    "        \\end{cases}\n",
    "\n",
    "    Args:\n",
    "        D (numpy.array): generate the prefactors for a Fock truncation of :math:`D`.\n",
    "    \"\"\"\n",
    "    k = np.int(np.ceil(D/4) * 4)\n",
    "    v = np.full(k, 1)\n",
    "    v[1::2] = 0\n",
    "    v[2::4] = -1\n",
    "    v = np.vstack([np.roll(v, i) for i in range(k)])\n",
    "    return v[:D, :D]\n",
    "\n",
    "def generate_squeeze_factors(D):\n",
    "    r\"\"\"Generate squeezing factors in the Fock basis.\n",
    "\n",
    "    This function generates the squeezing prefactors,\n",
    "\n",
    "        .. math::\n",
    "            prefac_{N,n,k} = \\frac{\\sigma_{N,k}\\sqrt{n!N!}}\n",
    "            {k!\\left(\\frac{n-k}{2}\\right)!\\left(\\frac{N-k}{2}\\right)!}\n",
    "\n",
    "    where :math:`\\sigma_{N,k}` is the parity, given by :func:`~.squeeze_parity`.\n",
    "\n",
    "    Args:\n",
    "        D (int): generate prefactors for :math:`D` dimensions.\n",
    "    \"\"\"\n",
    "    dim_array = np.arange(D)\n",
    "    N = dim_array.reshape((-1, 1, 1))\n",
    "    n = dim_array.reshape((1, -1, 1))\n",
    "    k = dim_array.reshape((1, 1, -1))\n",
    "\n",
    "    # we only perform the sum when n+N is divisible by 2\n",
    "    # in which case we sum 0 <= k <= min(N,n)\n",
    "    mask = np.logical_and((n+N)%2 == 0, k <= np.minimum(N, n))\n",
    "\n",
    "    # need to use np.power to avoid taking the root of a negative\n",
    "    # in the numerator (these are discarded by the mask anyway)\n",
    "    signs = squeeze_parity(D).reshape([D, 1, D])\n",
    "    logfac = np.where(mask, 0.5*(lg(n+1) + lg(N+1)) - lg(k+1) - lg((n-k)/2+1) - lg((N-k)/2+1), 0)\n",
    "\n",
    "    if D <= 600:\n",
    "        prefactor = np.exp(logfac, dtype=np.float64)*signs*mask\n",
    "    else:\n",
    "        prefactor = np.exp(logfac, dtype=np.float128)*signs*mask\n",
    "\n",
    "    return prefactor"
   ]
  },
  {
   "cell_type": "code",
   "execution_count": 78,
   "metadata": {},
   "outputs": [
    {
     "name": "stdout",
     "output_type": "stream",
     "text": [
      "(-2+0j)\n",
      "(5, 1, 1)\n",
      "(1, 5, 1)\n",
      "(1, 1, 5)\n",
      "(5, 5, 5)\n"
     ]
    }
   ],
   "source": [
    "r = -2\n",
    "theta = 0\n",
    "S = Sgate(r)\n",
    "z = S.p[0] * exp(1j * S.p[1])\n",
    "print(z.x)\n",
    "\n",
    "dim_array = np.arange(trunc)\n",
    "N = dim_array.reshape((-1, 1, 1))\n",
    "n = dim_array.reshape((1, -1, 1))\n",
    "k = dim_array.reshape((1, 1, -1))\n",
    "print(N.shape)\n",
    "print(n.shape)\n",
    "print(k.shape)\n",
    "mask = np.logical_and((n+N)%2 == 0, k <= np.minimum(N, n))\n",
    "print(mask.shape)"
   ]
  },
  {
   "cell_type": "code",
   "execution_count": 96,
   "metadata": {},
   "outputs": [
    {
     "data": {
      "text/plain": [
       "array([[ 0.51556011+0.j,  0.        +0.j, -0.35144209+0.j,\n",
       "         0.        +0.j,  0.29340929+0.j],\n",
       "       [ 0.        +0.j,  0.13703703+0.j,  0.        +0.j,\n",
       "        -0.16179795+0.j,  0.        +0.j],\n",
       "       [ 0.35144209+0.j,  0.        +0.j, -0.20314294+0.j,\n",
       "         0.        +0.j,  0.13918841+0.j],\n",
       "       [ 0.        +0.j,  0.16179795+0.j,  0.        +0.j,\n",
       "        -0.18135109+0.j,  0.        +0.j],\n",
       "       [ 0.29340929+0.j,  0.        +0.j, -0.13918841+0.j,\n",
       "         0.        +0.j,  0.06800103+0.j]])"
      ]
     },
     "execution_count": 96,
     "metadata": {},
     "output_type": "execute_result"
    }
   ],
   "source": [
    "# perform the summation over k\n",
    "scale = mask * np.power(np.sinh(r)/2, mask*(N+n-2*k)/2) / (np.cosh(r)**((N+n+1)/2))\n",
    "ph = exp(1j*theta*(N-n)/2) # rotate\n",
    "prefac = generate_squeeze_factors(trunc)\n",
    "ret = np.sum(scale*ph*prefac, axis=-1)\n",
    "ret"
   ]
  },
  {
   "cell_type": "markdown",
   "metadata": {},
   "source": [
    "# BS Gate\n",
    "\n",
    "$$\n",
    "B(\\theta,\\phi) = \\exp\\left(\\theta (e^{i \\phi} a^\\dagger b -e^{-i \\phi}a b^\\dagger) \\right)\n",
    "$$"
   ]
  },
  {
   "cell_type": "code",
   "execution_count": 114,
   "metadata": {},
   "outputs": [
    {
     "name": "stdout",
     "output_type": "stream",
     "text": [
      "Transmit: 0.7071067811865476 | Reflect: (0.7071067811865475+0j)\n"
     ]
    }
   ],
   "source": [
    "from cmath import phase\n",
    "\n",
    "BS = BSgate(pi/4, 0)\n",
    "t = cos(BS.p[0].x)\n",
    "r = sin(BS.p[0].x) * exp(1j * BS.p[1].x)\n",
    "print('Transmit:', t, '| Reflect:' ,r)"
   ]
  },
  {
   "cell_type": "markdown",
   "metadata": {},
   "source": [
    "$$\n",
    "prefac_{N,n,M,m,k} = (-1)^{N-k}\\sqrt{\\binom{n}{k}\\binom{m}{N-k}\\binom{N}{k}\\binom{M}{n-k}}\n",
    "$$"
   ]
  },
  {
   "cell_type": "code",
   "execution_count": 125,
   "metadata": {},
   "outputs": [],
   "source": [
    "import itertools\n",
    "from scipy.special import binom\n",
    "\n",
    "def generate_bs_factors(D):\n",
    "    r\"\"\"Generate beamsplitter factors in the Fock basis.\n",
    "\n",
    "    This function generates the beamsplitter prefactors,\n",
    "\n",
    "        .. math::\n",
    "            prefac_{N,n,M,m,k} = (-1)^{N-k}\\sqrt{\\binom{n,k}\\binom{m,N-k}\\binom{N,k}\\binom{M,n-k}}\n",
    "\n",
    "    for a specific cutoff dimension :math:`D`.\n",
    "\n",
    "    Note that the last dimension will only contain non-zero values\n",
    "    for indices ``0`` to ``n``.\n",
    "\n",
    "    Args:\n",
    "        D (int): generate prefactors for :math:`D` dimensions.\n",
    "    \"\"\"\n",
    "    prefac = np.zeros([D]*5)\n",
    "\n",
    "    for (N, M, n) in itertools.product(*([range(D)]*3)):\n",
    "        m = N+M-n\n",
    "        k = np.arange(n+1)\n",
    "        if 0 <= m < D:\n",
    "            # pylint: disable=bad-whitespace\n",
    "            prefac[N,n,M,m,:n+1] = (-1.0)**(N-k) \\\n",
    "                * np.sqrt(binom(n, k)*binom(m, N-k)*binom(N, k)*binom(M, n-k))\n",
    "\n",
    "    return prefac"
   ]
  },
  {
   "cell_type": "code",
   "execution_count": 128,
   "metadata": {},
   "outputs": [
    {
     "data": {
      "text/plain": [
       "(5, 5, 5, 5)"
      ]
     },
     "execution_count": 128,
     "metadata": {},
     "output_type": "execute_result"
    }
   ],
   "source": [
    "dim_array = np.arange(trunc)\n",
    "N = dim_array.reshape((-1, 1, 1, 1, 1))\n",
    "n = dim_array.reshape((1, -1, 1, 1, 1))\n",
    "M = dim_array.reshape((1, 1, -1, 1, 1))\n",
    "k = dim_array.reshape((1, 1, 1, 1, -1))\n",
    "\n",
    "tpwr = M-n+2*k\n",
    "rpwr = n+N-2*k\n",
    "phi = phase(r)\n",
    "\n",
    "T = np.power(t, tpwr) if t != 0 else np.where(tpwr != 0, 0, 1)\n",
    "R = np.power(r, rpwr) if r != 0 else np.where(rpwr != 0, 0, 1)\n",
    "prefac = generate_bs_factors(trunc)\n",
    "\n",
    "BS = np.sum(exp(-1j*(pi+phi)*(n-N)) * T * R * prefac[:trunc,:trunc,:trunc,:trunc,:trunc], axis=-1)\n",
    "BS = BS.swapaxes(0, 1).swapaxes(2, 3)\n",
    "\n",
    "BS.shape"
   ]
  },
  {
   "cell_type": "markdown",
   "metadata": {},
   "source": [
    "# Measure X"
   ]
  },
  {
   "cell_type": "code",
   "execution_count": null,
   "metadata": {},
   "outputs": [],
   "source": [
    "MX = MeasureX() # equal to MeasureHomodyne(0)\n"
   ]
  }
 ],
 "metadata": {
  "kernelspec": {
   "display_name": "Python 3",
   "language": "python",
   "name": "python3"
  },
  "language_info": {
   "codemirror_mode": {
    "name": "ipython",
    "version": 3
   },
   "file_extension": ".py",
   "mimetype": "text/x-python",
   "name": "python",
   "nbconvert_exporter": "python",
   "pygments_lexer": "ipython3",
   "version": "3.6.5"
  }
 },
 "nbformat": 4,
 "nbformat_minor": 2
}
