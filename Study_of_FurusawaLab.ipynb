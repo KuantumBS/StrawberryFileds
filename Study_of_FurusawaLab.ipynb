{
 "cells": [
  {
   "cell_type": "markdown",
   "metadata": {},
   "source": [
    "# Universal Quantum Computing with Measurement-Induced Continuous-Variable Gate Sequence in a Loop-Based Architecture"
   ]
  },
  {
   "cell_type": "markdown",
   "metadata": {},
   "source": [
    "- measurement-induced\n",
    "- continuous-variable\n",
    "- loop-based architecture\n",
    "- time-bin-encoded information in a single spatial mode\n",
    "- deterministically processed\n",
    "- performed fault-tolerantly\n",
    "- offers a universal gate set for both qubits and continuous variables"
   ]
  },
  {
   "cell_type": "markdown",
   "metadata": {},
   "source": [
    "CVによる測定誘起量子計算はqubit方式より以下の点で優秀\n",
    "- ancillae state と 測定(ホモダイン)を確率的でなくdeterministicに実行可能  \n",
    "\n",
    "qubitにはrobust encodingというメリットがある。  \n",
    "組み合わせて使いたい。\n",
    "\n",
    "空間モードエンコードは結局コンポーネント数が多くなりすぎるのでアウト  \n",
    "time-bin encodeをしよう"
   ]
  },
  {
   "cell_type": "markdown",
   "metadata": {},
   "source": [
    "- 単一の空間モード中の n-pulses に量子状態をエンコード\n",
    "- m個の ancilla pulses と一緒にループに入れる\n",
    "- ゲート操作は電気的操作をスイッチ、BSの透過率、phase shifter, 増幅器ゲインに対し行って実現  \n",
    "\n",
    "\n",
    "- 実験の複雑さを増すことなく、任意の入力、任意のモード数に対して行える\n",
    "- 任意のマルチモードクリフォードゲートを決定的に作るためには、1個の ancilla (スクイーズリソース)と1個のホモダインディテクタ、feedfoward electronicsがあれば良い(効率的)\n",
    "- Qubit, CV(qumode)双方に対してユニバーサル量子ゲートが実現可能。"
   ]
  },
  {
   "cell_type": "markdown",
   "metadata": {},
   "source": [
    "誤り訂正符号も実装可能らしい...  \n",
    "D. Gottesman, A. Kitaev, and J. Preskill, Phys. Rev. A 64, 012310 (2001)"
   ]
  },
  {
   "cell_type": "markdown",
   "metadata": {},
   "source": [
    "CVにおいて、Clifford gates は Gaussian gates\n",
    "$\\hat{R}(θ_2) \\hat{S}(r) \\hat{R}(θ_1)$\n",
    "と等価！  \n",
    "$\\hat{S}(r)^{\\dagger}\\hat{x}\\ \\hat{S}(r)=e^{-r}\\hat{x}$  \n",
    "$\\hat{S}(r)^{\\dagger}\\hat{p}\\ \\hat{S}(r)=e^{r}\\hat{p}$\n",
    "\n",
    "\n",
    "phase-space displacements : optical modulater  \n",
    "rotation : phase shifter"
   ]
  },
  {
   "cell_type": "markdown",
   "metadata": {},
   "source": [
    "### measurement-induced squeezing scheme  (測定誘起スクイージング)\n",
    "$\\hat{x}_{out} = \\sqrt{R_0}\\ \\hat{x}_{in}$  \n",
    "$\\hat{p}_{out} = \\hat{p}_{in}\\ \\sqrt{R_0}$\n",
    "\n",
    "\n",
    "スクイージングレベルをBSの反射率で調整可能  \n",
    "relations correspond to the squeezing operation $\\hat{S}(-\\ln \\sqrt{R_0})$"
   ]
  },
  {
   "cell_type": "code",
   "execution_count": 226,
   "metadata": {},
   "outputs": [],
   "source": [
    "import strawberryfields as sf\n",
    "from strawberryfields.ops import *\n",
    "from strawberryfields.utils import scale\n",
    "from numpy import pi, sqrt\n",
    "import matplotlib.pyplot as plt\n",
    "import numpy as np"
   ]
  },
  {
   "cell_type": "code",
   "execution_count": 402,
   "metadata": {},
   "outputs": [
    {
     "name": "stdout",
     "output_type": "stream",
     "text": [
      "[0.5        1.99380578]\n",
      "[[2.51859057e-01 4.53595607e-17]\n",
      " [4.53595607e-17 3.97047465e+00]]\n"
     ]
    },
    {
     "data": {
      "image/png": "[encoded data removed]",
      "text/plain": [
       "<Figure size 432x288 with 1 Axes>"
      ]
     },
     "metadata": {},
     "output_type": "display_data"
    }
   ],
   "source": [
    "eng, q = sf.Engine(2)\n",
    "\n",
    "x_ini = 1\n",
    "p_ini = 1\n",
    "r = 3\n",
    "R0 = 1/4\n",
    "T0 = 1 - R0\n",
    "theta = np.arccos(np.sqrt(R0))\n",
    "g0 = np.sqrt(T0/R0)\n",
    "\n",
    "with eng:\n",
    "    # prepare the initial states\n",
    "    Coherent(x_ini/2 + p_ini/2 * 1j) | q[0]  # input (arbite)\n",
    "    Sgate(r) | q[1] # Ancilla (position squeezed if r>0)\n",
    "    \n",
    "    # apply the gates\n",
    "    BSgate(theta, 0) | (q[0], q[1])  # a 50-50 beamsplitter\n",
    "    \n",
    "    # perform the homodyne measurements\n",
    "    MeasureP | q[1]\n",
    "    \n",
    "    # displacement gates conditioned on the measurements\n",
    "    Zgate(scale(q[1], g0)) | q[0]\n",
    "\n",
    "state = eng.run('gaussian')\n",
    "mu, cov = state.reduced_gaussian([0])\n",
    "x = np.arange(-3*x_ini-5, 3*x_ini+5, 0.1)\n",
    "p = np.arange(-3*p_ini-5, 3*p_ini+5, 0.1)\n",
    "W = state.wigner(0, x, p)\n",
    "X, P = np.meshgrid(x, p)\n",
    "plt.contourf(X, P, W)\n",
    "\n",
    "print(mu)\n",
    "print(cov)"
   ]
  },
  {
   "cell_type": "code",
   "execution_count": 394,
   "metadata": {},
   "outputs": [
    {
     "name": "stdout",
     "output_type": "stream",
     "text": [
      "[1. 1.]\n",
      "[[1. 0.]\n",
      " [0. 1.]]\n"
     ]
    },
    {
     "data": {
      "image/png": "[encoded data removed]",
      "text/plain": [
       "<Figure size 432x288 with 1 Axes>"
      ]
     },
     "metadata": {},
     "output_type": "display_data"
    }
   ],
   "source": [
    "eng, q = sf.Engine(2)\n",
    "\n",
    "x_ini = 1\n",
    "p_ini = 1\n",
    "r = 2\n",
    "R0 = 0\n",
    "T0 = 1 - R0\n",
    "theta = np.arccos(np.sqrt(T0))\n",
    "\n",
    "with eng:\n",
    "    # prepare the initial states\n",
    "    Coherent(x_ini/2 + p_ini/2 * 1j) | q[0]  # input (arbite)\n",
    "    Sgate(r) | q[1] # Ancilla (position squeezed if r>0)\n",
    "    \n",
    "    # apply the gates\n",
    "    BSgate(0, 0) | (q[0], q[1])  # a 50-50 beamsplitter\n",
    "\n",
    "state = eng.run('gaussian')\n",
    "mu, cov = state.reduced_gaussian([0])\n",
    "x = np.arange(-3*x_ini-10, 3*x_ini+10, 0.1)\n",
    "p = np.arange(-3*p_ini-10, 3*p_ini+10, 0.1)\n",
    "W = state.wigner(0, x, p)\n",
    "X, P = np.meshgrid(x, p)\n",
    "plt.contourf(X, P, W)\n",
    "\n",
    "print(mu)\n",
    "print(cov)"
   ]
  },
  {
   "cell_type": "code",
   "execution_count": 222,
   "metadata": {},
   "outputs": [
    {
     "data": {
      "text/plain": [
       "<matplotlib.contour.QuadContourSet at 0x12c4da3c8>"
      ]
     },
     "execution_count": 222,
     "metadata": {},
     "output_type": "execute_result"
    },
    {
     "data": {
      "image/png": "[encoded data removed]",
      "text/plain": [
       "<Figure size 432x288 with 1 Axes>"
      ]
     },
     "metadata": {},
     "output_type": "display_data"
    }
   ],
   "source": [
    "eng, q = sf.Engine(2)\n",
    "\n",
    "x_ini = 2\n",
    "p_ini = 2\n",
    "r = 1\n",
    "T0 = 1/2\n",
    "R0 = 1/2\n",
    "g0 = np.sqrt(T0/R0)\n",
    "with eng:\n",
    "    # prepare the initial states\n",
    "    Coherent(x_ini + p_ini * 1j) | q[0]  # input (arbite)\n",
    "    Sgate(r) | q[1] # Ancilla (position squeezed if r>0)\n",
    "    \n",
    "    # apply the gates\n",
    "    BSgate(pi/4, 0) | (q[0], q[1])  # a 50-50 beamsplitter\n",
    "    \n",
    "    # perform the homodyne measurements\n",
    "    MeasureP | q[1]\n",
    "    \n",
    "    # displacement gates conditioned on the measurements\n",
    "    Zgate(scale(q[1], g0)) | q[0]\n",
    "\n",
    "state = eng.run('fock', cutoff_dim=15)\n",
    "x = np.arange(-5, 5, 0.1)\n",
    "p = np.arange(-5, 5, 0.1)\n",
    "W = state.wigner(0, x, p)\n",
    "X, P = np.meshgrid(x, p)\n",
    "plt.contourf(X, P, W)\n"
   ]
  },
  {
   "cell_type": "markdown",
   "metadata": {},
   "source": [
    "上記を古澤研はループ構造で実現した\n",
    "- the input pulse is picked up into the loop by setting the beam splitter transmissivity to T(t = 0) = 1\n",
    "- pulse entering the loop takes time τ to circle around the loop, and is subjected to a phase shift $\\hat{R}(\\theta_1)$\n",
    "- After one cycle in the loop, the input pulse coincides with the ancillary squeezed pulse at the beam splitter\n",
    "- The pulse leaving the loop is then immediately measured by a homodyne detector\n",
    "- whose output signal is fedforward with gain g0 to the pulse inside the loop\n",
    "- This feedforward completes the squeezing operation $\\hat{S}(−\\ln R_0)$\n",
    "- the pulse in the loop is subjected to another phase shift $\\hat{R}(\\theta_2)$ and exits the loop by choosing T(2τ) = 1\n",
    "\n",
    "this loop circuit provides a sufficient set of operations for an arbitrary single-mode Clifford gate in a programmable fashion."
   ]
  },
  {
   "cell_type": "markdown",
   "metadata": {},
   "source": [
    "### multi-mode Clifford gates"
   ]
  },
  {
   "cell_type": "markdown",
   "metadata": {},
   "source": [
    "any n-mode Clif- ford (Gaussian) gate in CVs can be decomposed into  \n",
    "- a n-mode linear interferometer,  \n",
    "- followed by the parallel applications of a set of single-mode squeezing operations  \n",
    "- followed by another n-mode linear interferometer  \n",
    "(up to displacement operations)\n",
    "\n",
    "\n",
    "time bin encoding に対する n-mode interferometer が欲しい"
   ]
  },
  {
   "cell_type": "markdown",
   "metadata": {},
   "source": [
    "An arbitrary n-mode linear interferometer can be decomposed into a sequence of at most $n(n−1)/2$ pairwise beam splitter operations"
   ]
  },
  {
   "cell_type": "markdown",
   "metadata": {},
   "source": [
    "# 以下、ソースコード確認"
   ]
  },
  {
   "cell_type": "code",
   "execution_count": 276,
   "metadata": {},
   "outputs": [
    {
     "name": "stdout",
     "output_type": "stream",
     "text": [
      "[0. 0.] [0. 0.]\n",
      "[[0.56766764 0.        ]\n",
      " [0.         4.19452805]] [[0.56766764 0.        ]\n",
      " [0.         4.19452805]]\n"
     ]
    }
   ],
   "source": [
    "eng, q = sf.Engine(2)\n",
    "\n",
    "x_ini = 0\n",
    "p_ini = 0\n",
    "r = 1\n",
    "T0 = 1/2\n",
    "R0 = 1/2\n",
    "g0 = np.sqrt(T0/R0)\n",
    "with eng:\n",
    "    # prepare the initial states\n",
    "    Coherent(x_ini + p_ini * 1j) | q[0]  # input (arbite)\n",
    "    Sgate(r) | q[1] # Ancilla (position squeezed if r>0)\n",
    "    \n",
    "    # apply the gates\n",
    "    BSgate(pi/4, 0) | (q[0], q[1])  # a 50-50 beamsplitter\n",
    "\n",
    "\n",
    "state = eng.run('gaussian')\n",
    "mu1, cov1 = state.reduced_gaussian([0])\n",
    "mu2, cov2 = state.reduced_gaussian([1])\n",
    "\n",
    "print(mu1, mu2)\n",
    "print(cov1, cov2)"
   ]
  },
  {
   "cell_type": "code",
   "execution_count": 278,
   "metadata": {},
   "outputs": [],
   "source": [
    "# Coherent state\n",
    "mean1 = np.zeros(2)\n",
    "x_ini = 0\n",
    "p_ini = 0\n",
    "beta = [x_ini, p_ini]\n",
    "mean1 += beta"
   ]
  },
  {
   "cell_type": "markdown",
   "metadata": {},
   "source": [
    "The class is initialized by providing an integer indicating the number of modes.  \n",
    "        Unlike the \"standard\" covariance matrix for the Wigner function that uses symmetric ordering\n",
    "        as defined in e.g.  \n",
    "        [1] Gaussian quantum information\n",
    "        Christian Weedbrook, Stefano Pirandola, Raúl García-Patrón, Nicolas J. Cerf, Timothy C. Ralph, Jeffrey H. Shapiro, and Seth Lloyd\n",
    "        Rev. Mod. Phys. 84, 621 – Published 1 May 2012  \n",
    "        we define covariance matrices in terms of the following two quantities:\n",
    "        $$\n",
    "        N_{i,j} =\\langle a_i^\\dagger a_j \\rangle\n",
    "        M_{i,j} = \\langle a_i a_j \\rangle\n",
    "        $$\n",
    "        Note that the matrix $N$ is hermitian and the matrix M is symmetric.\n",
    "        The mean displacements are stored as expectation values of the destruction operator $\\alpha_i  = \\langle a_i \\rangle$\n",
    "        We also provide functions that give the symmetric ordered covariance matrices and the mean displacement for the quadrature\n",
    "        operators $q = a+a^\\dagger$ and $p = i(a^\\dagger -a)$. Note that with these conventions $[q,p]=2 i$.\n",
    "        For vacuum one has $N_{i,j}=M_{i,j}=\\alpha_i =0$,\n",
    "        The quantities $N,M,\\alpha$ are stored in the variable nmat, mmat, mean respectively"
   ]
  },
  {
   "cell_type": "code",
   "execution_count": null,
   "metadata": {},
   "outputs": [],
   "source": [
    "# squeezing\n",
    "r = 1\n",
    "phi = 0\n",
    "k = 0\n",
    "z = r*exp(1j*phi)\n",
    "nlen = 3\n",
    "nmat = np.zeros((nlen, nlen), dtype=complex)\n",
    "mmat = np.zeros((nlen, nlen), dtype=complex)\n",
    "\n",
    "phase = np.exp(1j*phi)\n",
    "phase2 = phase*phase\n",
    "sh = np.sinh(r)\n",
    "ch = np.cosh(r)\n",
    "sh2 = sh*sh\n",
    "ch2 = ch*ch\n",
    "shch = sh*ch\n",
    "\n",
    "nk = np.copy(nmat[k]) # k's row\n",
    "mk = np.copy(mmat[k])\n",
    "alphak = np.copy(self.mean[k])\n",
    "\n",
    "# Update displacement of mode k\n",
    "self.mean[k] = alphak*ch - phase*np.conj(alphak)*sh\n",
    "\n",
    "# First update the diagonal elements\n",
    "self.nmat[k, k] = sh2 - phase*shch*np.conj(mk[k]) - shch*np.conj(phase)*mk[k] + ch2*nk[k] + sh2*nk[k]\n",
    "self.mmat[k, k] = -(phase*shch) + phase2*sh2*np.conj(mk[k]) + ch2*mk[k] - 2*phase*shch*nk[k]\n",
    "\n",
    "# Update the column k\n",
    "for l in np.delete(np.arange(self.nlen), k):\n",
    "    self.nmat[k, l] = -(sh*np.conj(phase)*mk[l]) + ch*nk[l]\n",
    "    self.mmat[k, l] = ch*mk[l] - phase*sh*nk[l]\n",
    "    \n"
   ]
  },
  {
   "cell_type": "code",
   "execution_count": 290,
   "metadata": {},
   "outputs": [
    {
     "ename": "TypeError",
     "evalue": "'list' object cannot be interpreted as an integer",
     "output_type": "error",
     "traceback": [
      "\u001b[0;31m---------------------------------------------------------------------------\u001b[0m",
      "\u001b[0;31mTypeError\u001b[0m                                 Traceback (most recent call last)",
      "\u001b[0;32m<ipython-input-290-9fab385a993b>\u001b[0m in \u001b[0;36m<module>\u001b[0;34m()\u001b[0m\n\u001b[0;32m----> 1\u001b[0;31m \u001b[0mnp\u001b[0m\u001b[0;34m.\u001b[0m\u001b[0mndarray\u001b[0m\u001b[0;34m(\u001b[0m \u001b[0;34m[\u001b[0m\u001b[0;34m[\u001b[0m\u001b[0;36m0\u001b[0m\u001b[0;34m,\u001b[0m \u001b[0;36m1\u001b[0m\u001b[0;34m]\u001b[0m\u001b[0;34m,\u001b[0m \u001b[0;34m[\u001b[0m\u001b[0;36m2\u001b[0m\u001b[0;34m,\u001b[0m \u001b[0;36m3\u001b[0m\u001b[0;34m]\u001b[0m\u001b[0;34m]\u001b[0m \u001b[0;34m)\u001b[0m\u001b[0;34m\u001b[0m\u001b[0m\n\u001b[0m",
      "\u001b[0;31mTypeError\u001b[0m: 'list' object cannot be interpreted as an integer"
     ]
    }
   ],
   "source": [
    "np.ndarray( [[0, 1], [2, 3]] )"
   ]
  },
  {
   "cell_type": "code",
   "execution_count": null,
   "metadata": {},
   "outputs": [],
   "source": []
  }
 ],
 "metadata": {
  "kernelspec": {
   "display_name": "Python 3",
   "language": "python",
   "name": "python3"
  },
  "language_info": {
   "codemirror_mode": {
    "name": "ipython",
    "version": 3
   },
   "file_extension": ".py",
   "mimetype": "text/x-python",
   "name": "python",
   "nbconvert_exporter": "python",
   "pygments_lexer": "ipython3",
   "version": "3.6.5"
  }
 },
 "nbformat": 4,
 "nbformat_minor": 2
}
