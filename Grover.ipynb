{
 "cells": [
  {
   "cell_type": "markdown",
   "metadata": {},
   "source": [
    "# Grover's Argorithm"
   ]
  },
  {
   "cell_type": "markdown",
   "metadata": {},
   "source": [
    "入力 $f:\\{0,1\\}^{n} \\to \\{0,1\\}$  \n",
    "ある1つの$x_0$について$f(x_0) = 1$, 他の入力に対しては$f(x) = 0$\n",
    "\n",
    "\n",
    "Grover's Argorithm は$O(\\sqrt{2^n})$ の計算回数で、確率($1-\\frac{1}{\\sqrt{2^n}}$)で正しい答えを吐く"
   ]
  },
  {
   "cell_type": "markdown",
   "metadata": {},
   "source": [
    "オラクルは先頭から$n$ bitを入力とした関数$f$の出力を、$n+1$ bit目に作用させる(排他論理和$\\oplus$をとる)\n",
    "\n",
    "$$\n",
    "U_f\\ |x>|b> = |x> |b\\oplus f(x)>\n",
    "$$"
   ]
  },
  {
   "cell_type": "markdown",
   "metadata": {},
   "source": [
    "### だめなアルゴリズム例\n",
    "\n",
    "$$\n",
    "\\begin{align}\n",
    "|0^n> |0> &\\to (\\frac{1}{\\sqrt{2}} [|0>+|1>)]^{\\otimes n} \\otimes |0>\\ ...(Hadamard\\ to\\ n\\ \\rm{bit})\\\\\n",
    " &= \\frac{1}{\\sqrt{N}} \\sum_{x\\in \\{1,0\\}^n} |x>|0>\\ ...(U_f\\ to\\ n\\ \\rm{bit})\\\\\n",
    " &\\to \\frac{1}{\\sqrt{N}} \\sum_{x\\in \\{1,0\\}^n} |x>|f(x)>\n",
    "\\end{align}\n",
    "$$\n",
    "\n",
    "$f(x)=1$を得る可能性は$\\frac{1}{2^n}$なので何も嬉しくない"
   ]
  },
  {
   "cell_type": "markdown",
   "metadata": {},
   "source": [
    "### Groverのすごいアルゴリズム\n",
    "\n",
    "$$\n",
    "\\begin{align}\n",
    "|0^n> |0> &\\to |0^n> |1> \\\\\n",
    " &= \\frac{1}{\\sqrt{N}} \\sum_{x\\in \\{1,0\\}^n} |x>\\otimes \\frac{1}{\\sqrt{2}}(|0>-|1>) \\ \\ ...(Hadamard)\\\\\n",
    " &\\to \\frac{1}{\\sqrt{N}} \\sum_{x\\in \\{1,0\\}^n} |x>\\otimes \\frac{1}{\\sqrt{2}}(|0\\oplus f(x)>-|1\\oplus f(x)>) \\\\\n",
    " &\\to \\frac{1}{\\sqrt{N}} \\sum_{x\\in \\{1,0\\}^n} (-1)^{f(x)} |x>\\otimes \\frac{1}{\\sqrt{2}}(|0>-|1>) \\\\\n",
    " &\\to \\frac{1}{\\sqrt{N}} \\bigl (-|x_0> + \\sum_{x \\neq x_0} |x> \\bigr) \\otimes \\frac{1}{\\sqrt{2}}\\bigl(|0>-|1>\\bigr) \\\\\n",
    "\\end{align}\n",
    "$$\n",
    "\n",
    "\n",
    "最後の式変形は、$x=x_0$の時のみ$f(x)=1$のため符号が反転することを用いている  \n",
    "最後に、先頭 $n$ bitに拡散行列$D_N$をかけると\n",
    "$$\n",
    "\\frac{1}{\\sqrt{N}} \\biggl (\\frac{3-4/N}{\\sqrt{N}}|x_0> + \\sum_{x \\neq x_0} \\frac{1-N/2}{\\sqrt{N}}|x> \\biggr) \\otimes \\frac{1}{\\sqrt{2}}\\bigl(|0>-|1>\\bigr)\n",
    "$$\n",
    "\n",
    "\n",
    "$x=x_0$が測定される確率が強められている。\n",
    "これを繰り返した後にこの状態を測定すると、高い確率で正解のビット列$x=x_0$が得られる。\n",
    "ただしこの確率の変化は周期性があり、正解が得られる確率が最も高くなる繰り返し数は\n",
    "$$\n",
    "\\frac{\\pi}{4\\theta}\\ \\ \\ \\ \\biggl(\\cos{\\theta} = \\sqrt{1-\\frac{1}{N}}\\biggr)\n",
    "$$"
   ]
  },
  {
   "cell_type": "code",
   "execution_count": 1,
   "metadata": {},
   "outputs": [],
   "source": [
    "import numpy as np\n",
    "import matplotlib.pyplot as plt\n",
    "%matplotlib inline\n"
   ]
  },
  {
   "cell_type": "code",
   "execution_count": 2,
   "metadata": {},
   "outputs": [],
   "source": [
    "class Qbits:\n",
    "    def __init__(self, initial):\n",
    "        self.states = []\n",
    "        for i in range(len(initial)):\n",
    "            if initial[i]==1:# |1>\n",
    "                self.states.append(np.array([0+0j,1+0j]))\n",
    "            else:\n",
    "                self.states.append(np.array([1+0j,0+0j]))\n",
    "    \n",
    "\n",
    "    def tensorProd(self, a, b):\n",
    "        dim_a = len(a)\n",
    "        dim_b = len(b)\n",
    "        k = np.zeros(dim_a*dim_b) + 0j\n",
    "        ite = 0\n",
    "        for i in range(dim_a):\n",
    "            for j in range(dim_b):\n",
    "                k[ite] = a[i]*b[j]\n",
    "                ite += 1\n",
    "        return k\n",
    "    \n",
    "    def outputTensorProduct(self):\n",
    "        out = self.states[0]\n",
    "        for i in range(1, len(self.states)):\n",
    "            out = self.tensorProd(out, self.states[i])\n",
    "        return out\n",
    "    \n",
    "    def Hadamard(self, start, end):\n",
    "        H = np.array([[1,1],[1,-1]]) / np.sqrt(2)\n",
    "        for i in range(start, end+1):\n",
    "            self.states[i] = np.dot(H, self.states[i])\n",
    "        \n",
    "    def C_Hadamard(self, control, start, end):\n",
    "        if self.states[control] == np.array([1,0]):\n",
    "            self.Hadamard(start, end)\n",
    "            \n",
    "    def Rphase(self, i, k):\n",
    "        R = np.array([[1,0],[0,np.exp(1j * np.pi / (2**k))]]) + 0j\n",
    "        self.states[i] = np.dot(R, self.states[i])\n",
    "        \n",
    "    def C_Rphase(self, control, i, k):\n",
    "        if self.states[control][1] == 1+0j:\n",
    "            self.Rphase(i, k)\n",
    "            \n",
    "    def flipState(self):\n",
    "        self.states.reverse()\n"
   ]
  },
  {
   "cell_type": "code",
   "execution_count": 3,
   "metadata": {},
   "outputs": [],
   "source": [
    "class Grover(Qbits):\n",
    "    def __init__(self, inputDim, ans):\n",
    "        self.N = 2 ** inputDim\n",
    "        self.states = []\n",
    "        for i in range(inputDim):\n",
    "            self.states.append(np.array([1+0j,0+0j]))\n",
    "        self.states.append(np.array([0+0j,1+0j])) # append |1>\n",
    "        self.Hadamard(0, len(self.states) - 1)\n",
    "        self.ancilla = self.states[-1]\n",
    "        self.states = self.states[:-1]\n",
    "        self.states = self.outputTensorProduct()\n",
    "        self.ans = ans\n",
    "        self.D_matrix = np.zeros((self.N, self.N)) + 2/self.N - np.identity(self.N)\n",
    "    \n",
    "    def oplus(self, qubit, bit):\n",
    "        if bit:\n",
    "            tmp = np.copy(qubit[0])\n",
    "            qubit[0] = np.copy(qubit[1])\n",
    "            qubit[1] = np.copy(tmp)\n",
    "        return qubit\n",
    "        \n",
    "    def Oracle(self):\n",
    "        for i in range(len(self.states)):\n",
    "            if i == self.ans:\n",
    "                self.states[i] *= -1\n",
    "    \n",
    "    def D_operation(self):\n",
    "        self.states = np.dot(self.D_matrix, self.states)\n",
    "        \n",
    "    def opt(self):\n",
    "        self.Oracle()\n",
    "        self.D_operation()\n",
    "    \n",
    "    def probs(self):\n",
    "        probs = np.abs(self.states) **2\n",
    "        return probs\n",
    "        "
   ]
  },
  {
   "cell_type": "code",
   "execution_count": 4,
   "metadata": {},
   "outputs": [
    {
     "name": "stdout",
     "output_type": "stream",
     "text": [
      "searching dimension =  1024\n",
      "answer =  419\n",
      "iteretion =  25\n",
      "probability of getting correct result =  0.9994612447445582\n"
     ]
    },
    {
     "data": {
      "text/plain": [
       "[<matplotlib.lines.Line2D at 0x117d6ad68>]"
      ]
     },
     "execution_count": 4,
     "metadata": {},
     "output_type": "execute_result"
    },
    {
     "data": {
      "image/png": "[encoded data removed]",
      "text/plain": [
       "<Figure size 432x288 with 1 Axes>"
      ]
     },
     "metadata": {
      "needs_background": "light"
     },
     "output_type": "display_data"
    }
   ],
   "source": [
    "n = 10 # bit num\n",
    "N = 2**n\n",
    "ans = np.random.randint(0, N)\n",
    "\n",
    "a = Grover(n, ans)\n",
    "ans_probs_list = []\n",
    "\n",
    "# 実用的には、繰り返し処理は Grover クラスに含めるべき\n",
    "theta = np.arccos(np.sqrt(1-1/N))\n",
    "ite = np.int(np.pi / 4 / theta)\n",
    "\n",
    "for i in range(ite):\n",
    "    a.opt()\n",
    "    probs = a.probs()\n",
    "    ans_probs_list.append(probs[ans])\n",
    "\n",
    "print(\"searching dimension = \", N)\n",
    "print(\"answer = \", ans)\n",
    "print(\"iteretion = \", ite)\n",
    "print(\"probability of getting correct result = \", ans_probs_list[-1])\n",
    "plt.plot(ans_probs_list)"
   ]
  },
  {
   "cell_type": "code",
   "execution_count": null,
   "metadata": {},
   "outputs": [],
   "source": []
  }
 ],
 "metadata": {
  "kernelspec": {
   "display_name": "Python 3",
   "language": "python",
   "name": "python3"
  },
  "language_info": {
   "codemirror_mode": {
    "name": "ipython",
    "version": 3
   },
   "file_extension": ".py",
   "mimetype": "text/x-python",
   "name": "python",
   "nbconvert_exporter": "python",
   "pygments_lexer": "ipython3",
   "version": "3.6.5"
  }
 },
 "nbformat": 4,
 "nbformat_minor": 2
}
