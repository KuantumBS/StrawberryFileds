{
 "cells": [
  {
   "cell_type": "markdown",
   "metadata": {},
   "source": [
    "色々なゲートを試してみる用"
   ]
  },
  {
   "cell_type": "code",
   "execution_count": 1,
   "metadata": {},
   "outputs": [
    {
     "name": "stderr",
     "output_type": "stream",
     "text": [
      "/Users/ryunagai/.pyenv/versions/3.6.5/envs/main_env/lib/python3.6/site-packages/h5py/__init__.py:36: FutureWarning: Conversion of the second argument of issubdtype from `float` to `np.floating` is deprecated. In future, it will be treated as `np.float64 == np.dtype(float).type`.\n",
      "  from ._conv import register_converters as _register_converters\n"
     ]
    }
   ],
   "source": [
    "import strawberryfields as sf\n",
    "from strawberryfields.ops import *\n",
    "from strawberryfields.utils import scale\n",
    "from numpy import pi, sqrt\n",
    "import matplotlib.pyplot as plt"
   ]
  },
  {
   "cell_type": "markdown",
   "metadata": {},
   "source": [
    "# Kerr gate"
   ]
  },
  {
   "cell_type": "code",
   "execution_count": 4,
   "metadata": {},
   "outputs": [
    {
     "data": {
      "text/plain": [
       "<matplotlib.contour.QuadContourSet at 0x10e14da90>"
      ]
     },
     "execution_count": 4,
     "metadata": {},
     "output_type": "execute_result"
    },
    {
     "data": {
      "image/png": "[encoded data removed]",
      "text/plain": [
       "<Figure size 432x288 with 2 Axes>"
      ]
     },
     "metadata": {},
     "output_type": "display_data"
    }
   ],
   "source": [
    "eng, q = sf.Engine(2)\n",
    "\n",
    "r=3\n",
    "alpha=1+1j\n",
    "\n",
    "with eng:\n",
    "    Coherent(alpha)  | q[0]\n",
    "    Coherent(alpha)  | q[1]\n",
    "    Kgate(r)  | q[1]\n",
    "\n",
    "state = eng.run('fock',cutoff_dim=50)\n",
    "\n",
    "x = np.arange(-5, 5, 0.1)\n",
    "p = np.arange(-5, 5, 0.1)\n",
    "W = state.wigner(0, x, p)\n",
    "X, P = np.meshgrid(x, p)\n",
    "plt.subplot(1, 2, 1)\n",
    "plt.contourf(X, P, W)\n",
    "\n",
    "W1 = state.wigner(1, x, p)\n",
    "plt.subplot(1, 2, 2)\n",
    "plt.contourf(X, P, W1)"
   ]
  },
  {
   "cell_type": "code",
   "execution_count": null,
   "metadata": {},
   "outputs": [],
   "source": []
  }
 ],
 "metadata": {
  "kernelspec": {
   "display_name": "Python 3",
   "language": "python",
   "name": "python3"
  },
  "language_info": {
   "codemirror_mode": {
    "name": "ipython",
    "version": 3
   },
   "file_extension": ".py",
   "mimetype": "text/x-python",
   "name": "python",
   "nbconvert_exporter": "python",
   "pygments_lexer": "ipython3",
   "version": "3.6.5"
  }
 },
 "nbformat": 4,
 "nbformat_minor": 2
}
