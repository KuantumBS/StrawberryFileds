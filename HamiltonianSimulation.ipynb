{
 "cells": [
  {
   "cell_type": "markdown",
   "metadata": {},
   "source": [
    "# 量子化学計算について\n",
    "量子コンピュータは量子系自体のシミュレーションへの利用が期待される  \n",
    "- 巨大な系の基底状態\n",
    "- 分子集団のダイナミクス\n",
    "- タンパク質など複雑な分子のふるまい\n",
    "\n",
    "これらは古典コンピュータによる計算や実験で特定するのは困難  \n",
    "離散量子計算ではいくつかの実装により線形スケール時間で計算可能。  \n",
    "連続量でもHamiltonian Simulationの効率的な実装が見つかっている。  \n",
    "Bose-Hubbard Hamiltonians"
   ]
  },
  {
   "cell_type": "markdown",
   "metadata": {},
   "source": [
    "# 化学計算について"
   ]
  },
  {
   "cell_type": "markdown",
   "metadata": {},
   "source": [
    "今の所、量子コンピュータで古典コンピュータを超えることはできていない。  \n",
    "ハードウェア的なブレークスルーが必要  \n",
    "\"fault-tolerance\"  \n",
    "最も研究されている誤り訂正符号:surface code  \n",
    "...物理的な error rate < 1%が必要  \n",
    "ただし、これだと論理qubit 1つにつき$10^3 to 10^4$の物理qubitが必要\n",
    "\n",
    "今はNISQである程度どうにかならないか考える時代"
   ]
  },
  {
   "cell_type": "markdown",
   "metadata": {},
   "source": [
    "### low lying energy levels について  \n",
    "$$\n",
    "\\frac{P^2}{2m} << \\omega\n",
    "$$\n",
    "P:total momentum  \n",
    "m:mass of the electron  \n",
    "$\\omega$:frequency of lattice oscillation  \n",
    "cf) Debye momentum, Fermi momentum  \n",
    "これが意味するところは、電子のもつ運動量が小さく、伝導帯にいない  \n",
    "...基底状態に近い。誘電体と言っても良い?"
   ]
  },
  {
   "cell_type": "markdown",
   "metadata": {},
   "source": [
    "### 化学系の量子シミュレーションについて\n",
    "問題は2つに大別される  \n",
    "\"static\" or \"dynamics\"\n",
    "\n",
    "\"dynamics\"  \n",
    "- Trotterization:Hamiltonianを粒子のsmall subsetによるlocal Hamiltonianの和として考える。  \n",
    "すると、系全体のHamiltonianによる時間発展をlocal Hamiltonianを順次作用させることで表せる。\n",
    "- variational approach:Trotterizationよりgate数を減らせるが特定の初期状態を要する。\n",
    "\n",
    "化学的な問題をどう量子コンピュータに落とし込むか  \n",
    "- grid based method : 上記のdynamicsを落とし込める  \n",
    "- finite basis set : dynamicsは扱えない, 古典的な方法と組み合わせる必要がある\n",
    "\n",
    "\"static\"  \n",
    "対象となる系の波動関数をqubitの波動関数へマッピングする  \n",
    "すると、欲しい物理量の期待値が計算できる！  \n",
    "量子系のエネルギーを求めるのに位相推定アルゴリズムが使える"
   ]
  },
  {
   "cell_type": "markdown",
   "metadata": {},
   "source": [
    "### 古典化学計算について\n",
    "- Hartree Fock  \n",
    " 波動関数のエネルギーが最小になるよう、スピン-軌道の空間形状を最適化する  \n",
    " 電子間のクーロン力を無視する;独立した各電子が平均電場中を飛ぶ  \n",
    " 相互作用を無視しているので、強く結びついた分子を正確に計算できない\n",
    " \n",
    "- Multiconfigurational self-consistent field  \n",
    " 複数のSlater determinantが等しく重要な状態では、static correlationが支配的  \n",
    " MCSCFは波動関数を複数のSlater determinantsと考える  \n",
    " 分子軌道とdeterminantsの振幅を同時に最適化する\n",
    " \n",
    "- Configuration interaction  \n",
    " Dynamic correlationは効率的, Static correlationは非効率  \n",
    " 少数の電子が励起されてる場合に限る  \n",
    " 欠点:slow convergence, not size extensive\n",
    "- Coupled cluster"
   ]
  },
  {
   "cell_type": "markdown",
   "metadata": {},
   "source": [
    "### Chemical basis setsについて\n",
    "- Slater-type orbitals  \n",
    " 球面調和関数ベース、実質ラゲール多項式  \n",
    " 第二量子化されたハミルトニアンの計算における積分評価が難しい\n",
    "- Gaussian-type orbitals  \n",
    " 3次元調和振動子によるシュレーディンガー方程式ベース、ガウシアン形状\n",
    " 原子の電荷分布をあまりうまく近似しないが、積分評価が簡単\n",
    " \n",
    " \n",
    "- Slater Type Orbital-n Gaussian  \n",
    " n個のGTOsでSTOを近似した  \n",
    " minimal basis state, HF stateを記述できるだけの軌道しか持たない  \n",
    " 精度は出せないので、定性的な説明のみ  \n",
    " HF計算であっても真のHF energy は出せず、近似するのみ\n",
    "- Split valance basis sets  \n",
    " STO-nG同様minimal orbitalsしか持たないが、より精度良く近似できる  \n",
    " 価電子軌道を表現するための動径方向の自由度が大きいため  \n",
    " "
   ]
  },
  {
   "cell_type": "markdown",
   "metadata": {},
   "source": [
    "# Bose-Hubbard Hamiltonian"
   ]
  },
  {
   "cell_type": "markdown",
   "metadata": {},
   "source": [
    "$$\n",
    "\\begin{align}\n",
    "H &= J \\sum_i \\sum_j A_{ij}\\hat{a_i}^\\dagger \\hat{a_j} + \\frac{1}{2}U \\sum_i \\hat{n_i} (\\hat{n_i}-1)\\\\\n",
    "\\end{align}\n",
    "$$\n",
    "\n",
    "J : hopping term (the mobility of bosons in the lattice)  \n",
    "U : on-site interaction potential  \n",
    "    onsite = 波動関数が、原子軌道同士の線形結合  \n",
    "A : bosons in the latticeの配置を表す隣接行列"
   ]
  },
  {
   "cell_type": "markdown",
   "metadata": {},
   "source": [
    "このHamiltonianで時間発展を考えると\n",
    "$$\n",
    "e^{-iHt} = \\exp [\\{-iJ(\\hat{a_1}^\\dagger \\hat{a_2}+\\hat{a_2}^\\dagger \\hat{a_1}) - i\\frac{U}{2}(\\hat{n_1}^2 - \\hat{n_1}+\\hat{n_2}^2 - \\hat{n_2}) \\}\\ t]\n",
    "$$\n",
    "\n",
    "操作を時間軸方向にkで分割する (メッシュを切る感じ)\n",
    "$$\n",
    "\\begin{align}\n",
    "e^{-iHt} &= (e^{-i\\frac{Ht}{k}})^k\\\\\n",
    "&= [\\exp \\{-i\\frac{Jt}{k}(\\hat{a_1}^\\dagger \\hat{a_2}+\\hat{a_2}^\\dagger \\hat{a_1}) + \\frac{Ut}{2k}(\\hat{n_1}^2 - \\hat{n_1}+\\hat{n_2}^2 - \\hat{n_2}) \\}]^k\n",
    "\\end{align}\n",
    "$$"
   ]
  },
  {
   "cell_type": "markdown",
   "metadata": {},
   "source": [
    "# とりあえず実装"
   ]
  },
  {
   "cell_type": "code",
   "execution_count": 4,
   "metadata": {},
   "outputs": [
    {
     "name": "stdout",
     "output_type": "stream",
     "text": [
      "[2,0] =  0.24194587742325968\n",
      "[1,1] =  0.2356528768567246\n",
      "[0,2] =  0.5224012457200199\n"
     ]
    }
   ],
   "source": [
    "import strawberryfields as sf\n",
    "from strawberryfields.ops import *\n",
    "import matplotlib.pyplot as plt\n",
    "%matplotlib inline\n",
    "\n",
    "eng, q = sf.Engine(2)\n",
    "J=1\n",
    "U=1.5\n",
    "k=20\n",
    "t=1.086\n",
    "theta = -J*t/k\n",
    "r = -U*t/(2*k)\n",
    "with eng:\n",
    "    # prepare the initial state\n",
    "    Fock(2) | q[0]\n",
    "\n",
    "\n",
    "    for i in range(k):\n",
    "        BSgate(theta, pi/2) | (q[0], q[1])\n",
    "        Kgate(r)  | q[0]\n",
    "        Rgate(-r) | q[0]\n",
    "        Kgate(r)  | q[1]\n",
    "        Rgate(-r) | q[1]\n",
    "\n",
    "state = eng.run('fock', cutoff_dim=10)\n",
    "\n",
    "print(\"[2,0] = \",state.fock_prob([2,0]))\n",
    "print(\"[1,1] = \",state.fock_prob([1,1])) \n",
    "print(\"[0,2] = \",state.fock_prob([0,2]))\n",
    "\n",
    "#print(\"[3,0] = \",state.fock_prob([3,0]))\n",
    "#print(\"[2,1] = \",state.fock_prob([2,1])) \n",
    "#print(\"[1,2] = \",state.fock_prob([1,2]))\n",
    "#print(\"[0,3] = \",state.fock_prob([0,3]))"
   ]
  },
  {
   "cell_type": "code",
   "execution_count": 5,
   "metadata": {},
   "outputs": [],
   "source": [
    "import strawberryfields as sf\n",
    "from strawberryfields.ops import *\n",
    "import matplotlib.pyplot as plt\n",
    "%matplotlib inline\n",
    "\n",
    "J=1\n",
    "U=1.5\n",
    "k=40\n",
    "t_step=0.1\n",
    "iteNum = 100\n",
    "\n",
    "A = []\n",
    "B = []\n",
    "C = []\n",
    "\n",
    "for ii in range(iteNum):\n",
    "    eng, q = sf.Engine(2)\n",
    "    t = t_step * ii\n",
    "    theta = -J*t/k\n",
    "    r = -U*t/(2*k)\n",
    "    with eng:\n",
    "        # prepare the initial state\n",
    "        Fock(2) | q[0]\n",
    "\n",
    "        for i in range(k):\n",
    "            BSgate(theta, pi/2) | (q[0], q[1])\n",
    "            Kgate(r)  | q[0]\n",
    "            Rgate(-r) | q[0]\n",
    "            Kgate(r)  | q[1]\n",
    "            Rgate(-r) | q[1]\n",
    "\n",
    "    state = eng.run('fock', cutoff_dim=10)\n",
    "\n",
    "    A.append(state.fock_prob([2,0]))\n",
    "    B.append(state.fock_prob([1,1])) \n",
    "    C.append(state.fock_prob([0,2]))"
   ]
  },
  {
   "cell_type": "code",
   "execution_count": 9,
   "metadata": {},
   "outputs": [
    {
     "data": {
      "text/plain": [
       "<matplotlib.legend.Legend at 0x12aec36a0>"
      ]
     },
     "execution_count": 9,
     "metadata": {},
     "output_type": "execute_result"
    },
    {
     "data": {
      "image/png": "[encoded data removed]",
      "text/plain": [
       "<Figure size 432x288 with 1 Axes>"
      ]
     },
     "metadata": {},
     "output_type": "display_data"
    }
   ],
   "source": [
    "plt.plot(A,label=\"[2,0]\")\n",
    "plt.plot(B,label=\"[1,1]\")\n",
    "plt.plot(C,label=\"[0,2]\")\n",
    "plt.legend()"
   ]
  },
  {
   "cell_type": "code",
   "execution_count": 48,
   "metadata": {},
   "outputs": [
    {
     "name": "stdout",
     "output_type": "stream",
     "text": [
      "0.05491717280244177 0.000783983107992385 0.1590482290708527\n"
     ]
    }
   ],
   "source": [
    "print(A[-1],B[-1],C[-1])"
   ]
  },
  {
   "cell_type": "code",
   "execution_count": null,
   "metadata": {},
   "outputs": [],
   "source": []
  }
 ],
 "metadata": {
  "kernelspec": {
   "display_name": "Python 3",
   "language": "python",
   "name": "python3"
  },
  "language_info": {
   "codemirror_mode": {
    "name": "ipython",
    "version": 3
   },
   "file_extension": ".py",
   "mimetype": "text/x-python",
   "name": "python",
   "nbconvert_exporter": "python",
   "pygments_lexer": "ipython3",
   "version": "3.6.5"
  }
 },
 "nbformat": 4,
 "nbformat_minor": 2
}
